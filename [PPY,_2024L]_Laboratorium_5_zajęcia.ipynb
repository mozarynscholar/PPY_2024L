{
  "nbformat": 4,
  "nbformat_minor": 0,
  "metadata": {
    "colab": {
      "provenance": [],
      "toc_visible": true
    },
    "kernelspec": {
      "name": "python3",
      "display_name": "Python 3"
    },
    "language_info": {
      "name": "python"
    }
  },
  "cells": [
    {
      "cell_type": "code",
      "source": [
        "from google.colab import drive\n",
        "drive.mount('/content/drive')"
      ],
      "metadata": {
        "colab": {
          "base_uri": "https://localhost:8080/"
        },
        "id": "VtDnHiCqpYOJ",
        "outputId": "18a6b8eb-71b1-4e8d-ee97-c9e36470316d"
      },
      "execution_count": null,
      "outputs": [
        {
          "output_type": "stream",
          "name": "stdout",
          "text": [
            "Mounted at /content/drive\n"
          ]
        }
      ]
    },
    {
      "cell_type": "markdown",
      "source": [
        "# 1.Funkcje"
      ],
      "metadata": {
        "id": "Xhf2g-HvvDYE"
      }
    },
    {
      "cell_type": "markdown",
      "source": [
        "Definiowanie funkcji w Pythonie pozwala na kapsułkowanie kodu do ponownego użycia, organizację i uproszczenie programowania przez dzielenie go na mniejsze, zarządzalne części. Każda funkcja odpowiada za inną funkcjonalność/działanie programu.\n",
        "\n",
        "Do wyboru mamy funkcje wbudowane w Pythonie oraz funkcje, które definiujemy sami.\n",
        "\n",
        "Funkcje warto definiować ponieważ zapewniają modularność - podział programu na mniejsze, niezależne części, które można łatwo zarządzać, rozwijać i ponownie używać. Każda taka część, nazywana modułem lub funkcją, wykonuje określone zadanie i może być rozwijana niezależnie od innych części programu.\n",
        "\n",
        "* **Łatwość w utrzymaniu**: Kiedy program jest podzielony na moduły, łatwiej jest zarządzać zmianami i aktualizacjami. Zamiast przeszukiwać i modyfikować duże bloki kodu, deweloperzy mogą skupić się na konkretnych modułach, które wymagają uwagi.\n",
        "\n",
        "* **Ponowne użycie kodu**: Funkcje i moduły mogą być projektowane w taki sposób, aby były uniwersalne, co umożliwia ich ponowne użycie w różnych częściach programu lub nawet w różnych projektach. To zmniejsza duplikację kodu i przyspiesza jego rozwój.\n",
        "\n",
        "* **Abstrakcja**: Modularność pozwala na abstrakcję, czyli ukrycie szczegółów implementacji za dobrze zdefiniowanymi interfejsami. Dzięki temu inni programiści mogą korzystać z funkcji lub modułów bez konieczności rozumienia szczegółów ich działania.\n",
        "\n",
        "* **Testowanie**: Moduły można testować niezależnie, co ułatwia identyfikację i naprawę błędów. Testowanie jednostkowe staje się prostsze i bardziej skuteczne, gdy można izolować poszczególne części programu.\n",
        "\n",
        "* **Lepsza organizacja kodu**: Podział programu na moduły pomaga w organizacji kodu, czyniąc go bardziej czytelnym i łatwiejszym do zrozumienia. Deweloperzy mogą szybko zorientować się, gdzie znajdują się poszczególne funkcjonalności i jak są ze sobą powiązane."
      ],
      "metadata": {
        "id": "Fd2sPXgcvG2Y"
      }
    },
    {
      "cell_type": "markdown",
      "source": [
        "## 1.1 Definiowanie funkcji"
      ],
      "metadata": {
        "id": "FO1OVEE4vhtH"
      }
    },
    {
      "cell_type": "markdown",
      "source": [
        "Aby zdefiniować funkcję w Pythonie, używa się słowa kluczowego `def`, po którym następuje nazwa funkcji oraz nawiasy okrągłe `()` zawierające opcjonalnie parametry (zwane również **argumentami**) funkcji. Po nazwie funkcji i parametrach umieszcza się dwukropek :, a następnie wcięty blok kodu, który definiuje ciało funkcji.\n",
        "\n",
        "```\n",
        "def nazwa_funkcji(parametr1, parametr2):\n",
        "    # ciało funkcji\n",
        "    return wynik # słowo kluczowe return jest opcjonalne\n",
        "```\n",
        "* `def`: Słowo kluczowe używane do rozpoczęcia definicji funkcji.\n",
        "* `nazwa_funkcji`: Unikalna nazwa funkcji używana do jej identyfikacji.\n",
        "* `parametr1, parametr2`: Parametry przekazywane do funkcji; są opcjonalne, więc funkcja może nie mieć żadnych parametrów.\n",
        "* `#ciało funkcji`: Blok kodu, który wykonuje operacje funkcji.\n",
        "* Ciało funkcji może zawierać instrukcje `return`, aby zwrócić wartość (wynik działania funkcji).\n"
      ],
      "metadata": {
        "id": "u-E16vZDvmZW"
      }
    },
    {
      "cell_type": "markdown",
      "source": [
        "Przykład"
      ],
      "metadata": {
        "id": "DJMTkg-Qwk09"
      }
    },
    {
      "cell_type": "code",
      "execution_count": null,
      "metadata": {
        "colab": {
          "base_uri": "https://localhost:8080/"
        },
        "id": "958iB_VXuh5v",
        "outputId": "b943a141-d9dc-47d2-bd21-06c979de7610"
      },
      "outputs": [
        {
          "output_type": "stream",
          "name": "stdout",
          "text": [
            "Realizacja ciała funkcji\n",
            "Kod poza funkcją\n"
          ]
        }
      ],
      "source": [
        "def greet():\n",
        "    print('Realizacja ciała funkcji')\n",
        "\n",
        "# wywołanie funkcji\n",
        "greet()\n",
        "\n",
        "print('Kod poza funkcją')"
      ]
    },
    {
      "cell_type": "markdown",
      "source": [
        "**Adnotacja typów**\n",
        "\n",
        "Aby wymusić przekazywanie danych określonego typu do funkcji w języku Python, możesz skorzystać z adnotacji typów **wprowadzonych od wersji Pythonia 3.6**. W miejscu definicji funkcji, możesz użyć adnotacji typów do określenia oczekiwanych typów argumentów i zwracanego typu\n",
        "\n",
        "`def funkcja(argument: Typ, argument2: InnyTyp) -> ZwracanyTyp:`"
      ],
      "metadata": {
        "id": "DocejUppSm8u"
      }
    },
    {
      "cell_type": "code",
      "source": [
        "def dodaj(a: int, b: int) -> int:\n",
        "    '''llll'''\n",
        "    return a + b\n",
        "\n",
        "print(dodaj(3, 4))  # Poprawne wywołanie\n",
        "print(dodaj('3', '4'))  # Błąd: Niezgodność typów\n"
      ],
      "metadata": {
        "colab": {
          "base_uri": "https://localhost:8080/"
        },
        "id": "ErCxh_KKTXfF",
        "outputId": "647a9be1-8f70-4d97-a43d-0c019355e23b"
      },
      "execution_count": null,
      "outputs": [
        {
          "output_type": "stream",
          "name": "stdout",
          "text": [
            "7\n",
            "34\n"
          ]
        }
      ]
    },
    {
      "cell_type": "markdown",
      "source": [
        "## 1.2.Argumenty funkcji"
      ],
      "metadata": {
        "id": "jBEwcgvjwzFd"
      }
    },
    {
      "cell_type": "markdown",
      "source": [
        "Funkcja **może** przyjmować argumenty, czyli wartości lub nazwy zmiennych, na których przeprowadzimy jakąś operację"
      ],
      "metadata": {
        "id": "W-FidQA9w6FU"
      }
    },
    {
      "cell_type": "markdown",
      "source": [
        "Przykład:"
      ],
      "metadata": {
        "id": "ouTvUQMexVrA"
      }
    },
    {
      "cell_type": "code",
      "source": [
        "# funkcja z dwoma argumentami\n",
        "def add_numbers(num1, num2):\n",
        "    sum = num1 + num2\n",
        "    print('Sum: ',sum)\n",
        "\n",
        "# funkcja bez argumentów\n",
        "# def add_numbers():\n",
        "    # code"
      ],
      "metadata": {
        "id": "72zjozeoxL6I"
      },
      "execution_count": null,
      "outputs": []
    },
    {
      "cell_type": "code",
      "source": [
        "# wywołanie funkcji\n",
        "add_numbers(5, 4)\n",
        "\n",
        "# wywołanie funkcji bez argumentów\n",
        "\n",
        "add_numbers()"
      ],
      "metadata": {
        "id": "mNDAQq1xxQ8Y",
        "colab": {
          "base_uri": "https://localhost:8080/",
          "height": 198
        },
        "outputId": "2e9df998-4d63-4aa9-ea0a-f474140fac9a"
      },
      "execution_count": null,
      "outputs": [
        {
          "output_type": "stream",
          "name": "stdout",
          "text": [
            "Sum:  9\n"
          ]
        },
        {
          "output_type": "error",
          "ename": "TypeError",
          "evalue": "add_numbers() missing 2 required positional arguments: 'num1' and 'num2'",
          "traceback": [
            "\u001b[0;31m---------------------------------------------------------------------------\u001b[0m",
            "\u001b[0;31mTypeError\u001b[0m                                 Traceback (most recent call last)",
            "\u001b[0;32m<ipython-input-35-dfc7834df5b2>\u001b[0m in \u001b[0;36m<cell line: 6>\u001b[0;34m()\u001b[0m\n\u001b[1;32m      4\u001b[0m \u001b[0;31m# wywołanie funkcji bez argumentów\u001b[0m\u001b[0;34m\u001b[0m\u001b[0;34m\u001b[0m\u001b[0m\n\u001b[1;32m      5\u001b[0m \u001b[0;34m\u001b[0m\u001b[0m\n\u001b[0;32m----> 6\u001b[0;31m \u001b[0madd_numbers\u001b[0m\u001b[0;34m(\u001b[0m\u001b[0;34m)\u001b[0m\u001b[0;34m\u001b[0m\u001b[0;34m\u001b[0m\u001b[0m\n\u001b[0m",
            "\u001b[0;31mTypeError\u001b[0m: add_numbers() missing 2 required positional arguments: 'num1' and 'num2'"
          ]
        }
      ]
    },
    {
      "cell_type": "markdown",
      "source": [
        "## 1.3.Instrukcja `return`"
      ],
      "metadata": {
        "id": "JnNKaSBWxYFT"
      }
    },
    {
      "cell_type": "markdown",
      "source": [
        "Funkcja może nic nie zwracać, tylko np. wypisywać coś do konsoli, lub **zwracać wynik operacji** - do zwrócenia wyniku korzystamy ze słowa kluczowego return. Jeśli funkcja **nie zawiera instrukcji** `return` lub jest ona **bez wartości po** `return`, funkcja domyślnie zwraca wartość `None`."
      ],
      "metadata": {
        "id": "Nw_2hpPHxe2F"
      }
    },
    {
      "cell_type": "code",
      "source": [
        "def add_numbers():\n",
        "    ...\n",
        "    return"
      ],
      "metadata": {
        "id": "LniJfqjAx_Eu"
      },
      "execution_count": null,
      "outputs": []
    },
    {
      "cell_type": "code",
      "source": [
        "efiniujemy funkcję\n",
        "def find_square(num):\n",
        "    result = num * num\n",
        "    return result\n",
        "\n",
        "# wywołujemy funkcję i przypisujemy wynik do zmiennej\n",
        "square = find_square(3)\n",
        "\n",
        "print('Square:',square)"
      ],
      "metadata": {
        "id": "P_wHgNGkzEzf",
        "colab": {
          "base_uri": "https://localhost:8080/"
        },
        "outputId": "7dc6e1b8-7e8f-43b4-8dc1-43b8a42952f8"
      },
      "execution_count": null,
      "outputs": [
        {
          "output_type": "stream",
          "name": "stdout",
          "text": [
            "Square: 9\n"
          ]
        }
      ]
    },
    {
      "cell_type": "code",
      "source": [
        "# dodamy dwa argumenty\n",
        "def add_numbers(num1, num2):\n",
        "    sum = num1 + num2\n",
        "    return sum\n",
        "\n",
        "# wywołujemy funkcję\n",
        "result = add_numbers(5, 4)\n",
        "\n",
        "print('Sum: ', result)"
      ],
      "metadata": {
        "id": "kQJc1V7LzJf6",
        "colab": {
          "base_uri": "https://localhost:8080/"
        },
        "outputId": "6d07844b-ec3b-47ba-9028-effc5db8a9d1"
      },
      "execution_count": null,
      "outputs": [
        {
          "output_type": "stream",
          "name": "stdout",
          "text": [
            "Sum:  9\n"
          ]
        }
      ]
    },
    {
      "cell_type": "markdown",
      "source": [
        "## 1.4. Zadania"
      ],
      "metadata": {
        "id": "NNTYSyqRzQ2S"
      }
    },
    {
      "cell_type": "markdown",
      "source": [
        "### 1.4.1. Zadanie 4.1\n",
        "Zdefiniuj funkcję, która będzie WYŚWIETLAŁA imię i wiek przekazany w argumencie"
      ],
      "metadata": {
        "id": "WoUWJw7Vzloi"
      }
    },
    {
      "cell_type": "markdown",
      "source": [
        "### 1.4.2. Zadanie 4.2\n",
        "Napisz funkcję, która pobiera imię i nazwisko od użytkownika a następnie WYŚWIETLA komunikat, w którym się z nim wita"
      ],
      "metadata": {
        "id": "i7kodQEqzsoo"
      }
    },
    {
      "cell_type": "markdown",
      "source": [
        "### 1.4.3. Zadanie 4.3\n",
        "\n",
        "Zdefiniuj funkcję, która będzie WYŚWIETLAŁA ciąg Fibonnaciego o długości podanej w argumencie\n",
        "\n",
        "Ciąg Fibonacciego - ciąg liczb naturalnych określony rekurencyjnie w sposób następujący: Pierwszy wyraz jest równy 0, drugi jest równy 1, każdy następny jest sumą dwóch poprzednich.\n",
        "\n",
        "Formalnie:"
      ],
      "metadata": {
        "id": "BZLVFJRJz07i"
      }
    },
    {
      "cell_type": "markdown",
      "source": [
        "\n",
        "![obraz.png](data:image/png;base64,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)"
      ],
      "metadata": {
        "id": "iK1yZJU-0i6Z"
      }
    },
    {
      "cell_type": "markdown",
      "source": [
        "### 1.4.4. Zadanie 4.4\n",
        "\n",
        "Zdefiniuj funkcję, która ZWRACA silnię podanej liczby. Upewnij się, że silnia jest możliwa, w przeciwnym wypadku wyświetl komunikat o błędzie i nie zwracaj nic"
      ],
      "metadata": {
        "id": "5TnITwCI0k74"
      }
    },
    {
      "cell_type": "markdown",
      "source": [
        "## 1.5. Wartości domyślne argumentów funkcji"
      ],
      "metadata": {
        "id": "xgrCL-Mh2N8f"
      }
    },
    {
      "cell_type": "markdown",
      "source": [
        "Argumenty domyślne w Pythonie pozwalają na określenie wartości, które będą przyjmowane przez parametry funkcji, jeśli nie zostaną podane żadne wartości podczas jej wywołania. Dzięki temu można tworzyć funkcje bardziej elastyczne i łatwiejsze w użyciu, ponieważ nie wymagają one podawania wszystkich argumentów za każdym razem.\n",
        "\n",
        "```\n",
        "def nazwa_funkcji(parametr1=wartosc_domyslna1, parametr2=wartosc_domyslna2):\n",
        "    # ciało funkcji\n",
        "```\n",
        "\n"
      ],
      "metadata": {
        "id": "973FSOic2tVc"
      }
    },
    {
      "cell_type": "code",
      "source": [
        "# klasyczna funkcja\n",
        "def add_numbers(a, b=2):\n",
        "    sum = a + b\n",
        "    print('Sum:', sum)\n",
        "\n",
        "add_numbers(a=1)"
      ],
      "metadata": {
        "colab": {
          "base_uri": "https://localhost:8080/"
        },
        "id": "TGoO9cTt23es",
        "outputId": "9eed2208-fb5d-4c00-bf01-b54f47992886"
      },
      "execution_count": null,
      "outputs": [
        {
          "output_type": "stream",
          "name": "stdout",
          "text": [
            "Sum: 3\n"
          ]
        }
      ]
    },
    {
      "cell_type": "code",
      "source": [
        "# funkcja z domyślnymi wartościami\n",
        "def add_numbers(c, d, a = 7,  b = 8):\n",
        "    sum = c + d +a + b\n",
        "    print('Sum:', sum)\n",
        "\n",
        "\n",
        "# wywołanie funkcji\n",
        "add_numbers(2, 3)\n",
        "\n",
        "add_numbers(2,3, b=5, a = 2)\n",
        "\n",
        "add_numbers()"
      ],
      "metadata": {
        "colab": {
          "base_uri": "https://localhost:8080/",
          "height": 216
        },
        "id": "lWGYt-J73NX7",
        "outputId": "b1e13ab6-5e2e-4e8e-f96f-8a6bf3ba0f79"
      },
      "execution_count": null,
      "outputs": [
        {
          "output_type": "stream",
          "name": "stdout",
          "text": [
            "Sum: 20\n",
            "Sum: 12\n"
          ]
        },
        {
          "output_type": "error",
          "ename": "TypeError",
          "evalue": "add_numbers() missing 2 required positional arguments: 'c' and 'd'",
          "traceback": [
            "\u001b[0;31m---------------------------------------------------------------------------\u001b[0m",
            "\u001b[0;31mTypeError\u001b[0m                                 Traceback (most recent call last)",
            "\u001b[0;32m<ipython-input-46-c720c1771f00>\u001b[0m in \u001b[0;36m<cell line: 12>\u001b[0;34m()\u001b[0m\n\u001b[1;32m     10\u001b[0m \u001b[0madd_numbers\u001b[0m\u001b[0;34m(\u001b[0m\u001b[0;36m2\u001b[0m\u001b[0;34m,\u001b[0m\u001b[0;36m3\u001b[0m\u001b[0;34m,\u001b[0m \u001b[0mb\u001b[0m\u001b[0;34m=\u001b[0m\u001b[0;36m5\u001b[0m\u001b[0;34m,\u001b[0m \u001b[0ma\u001b[0m \u001b[0;34m=\u001b[0m \u001b[0;36m2\u001b[0m\u001b[0;34m)\u001b[0m\u001b[0;34m\u001b[0m\u001b[0;34m\u001b[0m\u001b[0m\n\u001b[1;32m     11\u001b[0m \u001b[0;34m\u001b[0m\u001b[0m\n\u001b[0;32m---> 12\u001b[0;31m \u001b[0madd_numbers\u001b[0m\u001b[0;34m(\u001b[0m\u001b[0;34m)\u001b[0m\u001b[0;34m\u001b[0m\u001b[0;34m\u001b[0m\u001b[0m\n\u001b[0m",
            "\u001b[0;31mTypeError\u001b[0m: add_numbers() missing 2 required positional arguments: 'c' and 'd'"
          ]
        }
      ]
    },
    {
      "cell_type": "markdown",
      "source": [
        "**Zasady dotyczące argumentów domyślnych**\n",
        "\n",
        "* Argumenty domyślne muszą następować po argumentach niedomyślnych: Jeśli funkcja ma zarówno argumenty domyślne, jak i niewymagające wartości domyślnych, te ostatnie muszą zostać zdefiniowane przed argumentami domyślnymi.\n",
        "\n",
        "```\n",
        "def przyklad_funkcji(arg1, arg2=\"wartość domyślna\"):\n",
        "    # ciało funkcji\n",
        "```\n",
        "* Używanie **mutowalnych** typów danych (np. list, słowników) jako wartości domyślnych może prowadzić do **nieoczekiwanych efektów** ze względu na to, że wartość domyślna jest tworzona tylko raz, w momencie definiowania funkcji, a nie za każdym razem, gdy funkcja jest wywoływana."
      ],
      "metadata": {
        "id": "ridZ3Amf2SD6"
      }
    },
    {
      "cell_type": "markdown",
      "source": [
        "## 1.6. Słowa kluczowe jako argumenty funkcji"
      ],
      "metadata": {
        "id": "nbjG3KQw6JoY"
      }
    },
    {
      "cell_type": "markdown",
      "source": [
        "Argumenty funkcji przekazywane za pomocą słów kluczowych w Pythonie umożliwiają wywoływanie funkcji z argumentami w dowolnej kolejności, bazując na nazwach parametrów zdefiniowanych w funkcji. To znacząco zwiększa czytelność kodu oraz pozwala na większą elastyczność przy wywoływaniu funkcji, szczególnie tych z wieloma parametrami."
      ],
      "metadata": {
        "id": "6eqMEm7s52gr"
      }
    },
    {
      "cell_type": "markdown",
      "source": [
        "Przykład: Załóżmy, że mamy funkcję `zarejestruj_uzytkownika`, która przyjmuje trzy parametry: `email`, `nazwa_uzytkownika` i `haslo`. Możemy wywołać tę funkcję, przekazując argumenty w dowolnej kolejności, używając słów kluczowych. W tym przypadku, **dzięki użyciu słów kluczowych, kolejność argumentów nie ma znaczenia**, co sprawia, że kod jest elastyczny i czytelny."
      ],
      "metadata": {
        "id": "qvJZe5de6Xs-"
      }
    },
    {
      "cell_type": "code",
      "source": [
        "def zarejestruj_uzytkownika(email, nazwa_uzytkownika, haslo):\n",
        "    '''pomoc do funkcji'''\n",
        "    print(f\"Email: {email}\")\n",
        "    print(f\"Nazwa użytkownika: {nazwa_uzytkownika}\")\n",
        "    print(f\"Hasło: {haslo}\")\n",
        "\n",
        "#wywołanie z wykorzystaniem słów kluczowych\n",
        "zarejestruj_uzytkownika('janek92@example.com', 'janek92', 'tajne123')\n",
        "zarejestruj_uzytkownika(nazwa_uzytkownika='janek92', haslo='tajne123', email='janek92@example.com')\n",
        "\n",
        "help(zarejestruj_uzytkownika)"
      ],
      "metadata": {
        "id": "f4OCDCZY6ki3",
        "colab": {
          "base_uri": "https://localhost:8080/"
        },
        "outputId": "b681e124-e11a-47cd-f8f3-1768d1e91d39"
      },
      "execution_count": null,
      "outputs": [
        {
          "output_type": "stream",
          "name": "stdout",
          "text": [
            "Email: janek92@example.com\n",
            "Nazwa użytkownika: janek92\n",
            "Hasło: tajne123\n",
            "Email: janek92@example.com\n",
            "Nazwa użytkownika: janek92\n",
            "Hasło: tajne123\n",
            "Help on function zarejestruj_uzytkownika in module __main__:\n",
            "\n",
            "zarejestruj_uzytkownika(email, nazwa_uzytkownika, haslo)\n",
            "    pomoc do funkcji\n",
            "\n"
          ]
        }
      ]
    },
    {
      "cell_type": "markdown",
      "source": [
        "Ograniczenia\n",
        "\n",
        "* Użycie nazw parametrów jako słów kluczowych wymaga, aby programista **znał dokładne nazwy parametrów funkcji**, co nie zawsze jest wygodne lub możliwe, szczególnie przy korzystaniu z bibliotek zewnętrznych.\n",
        "* **Nie można używać słów kluczowych dla argumentów, które są przekazywane do funkcji po zmiennych pozycyjnych**, jeśli nie zostały one zdefiniowane jako przyjmujące argumenty kluczowe (np. przez `*args` lub jawnie nazwane parametry)."
      ],
      "metadata": {
        "id": "SYi-ItCI6ijH"
      }
    },
    {
      "cell_type": "markdown",
      "source": [
        "## 1.7. Nieznana liczba argumentów funkcji"
      ],
      "metadata": {
        "id": "z1_MmQXk7KES"
      }
    },
    {
      "cell_type": "markdown",
      "source": [
        "W Pythonie można zdefiniować funkcję, która przyjmuje nieznaną liczbę argumentów. Służą do tego dwa mechanizmy: `*args` dla nieograniczonej liczby argumentów pozycyjnych oraz `**kwargs` dla nieograniczonej liczby argumentów nazwanych (słów kluczowych).\n",
        "\n",
        "* `*args:` Skrót `args` pochodzi od \"arguments\". Użycie `*args` w definicji funkcji pozwala jej przyjmować dowolną liczbę argumentów pozycyjnych, które **zostaną przekazane jako krotka**. Dzięki temu można tworzyć funkcje, które nie są ograniczone do określonej liczby argumentów.\n",
        "\n",
        "* `**kwargs`: Skrót `kwargs` pochodzi od \"keyword arguments\". Użycie `**kwargs` w definicji funkcji pozwala jej przyjmować dowolną liczbę argumentów nazwanych, które **zostaną przekazane jako słownik**. Klucze słownika to nazwy argumentów, a wartości to odpowiadające im dane przekazane przy wywołaniu funkcji."
      ],
      "metadata": {
        "id": "uHyHi_Gv7pTI"
      }
    },
    {
      "cell_type": "code",
      "source": [
        "#wykorzystanie *args\n",
        "\n",
        "def funkcja(*args):\n",
        "    for arg in args:\n",
        "        print(arg)\n",
        "\n",
        "funkcja(*[1, 2, 3, 4])"
      ],
      "metadata": {
        "colab": {
          "base_uri": "https://localhost:8080/"
        },
        "id": "o20w6meF8Oae",
        "outputId": "bd58c7c4-103f-4ecf-c31d-f11e3eed86d9"
      },
      "execution_count": null,
      "outputs": [
        {
          "output_type": "stream",
          "name": "stdout",
          "text": [
            "1\n",
            "2\n",
            "3\n",
            "4\n"
          ]
        }
      ]
    },
    {
      "cell_type": "code",
      "source": [
        "#wykorzystanie *kwargs\n",
        "\n",
        "def funkcja(**kwargs):\n",
        "    for klucz, wartosc in kwargs.items():\n",
        "        print(f\"{klucz} = {wartosc}\")\n",
        "\n",
        "funkcja(imie=\"Jan\", nazwisko=\"Kowalski\", wiek=30)"
      ],
      "metadata": {
        "colab": {
          "base_uri": "https://localhost:8080/"
        },
        "id": "AIGDpLIO8YN-",
        "outputId": "f6d6fb39-e4ad-41f1-ecca-0394a3d5f38d"
      },
      "execution_count": null,
      "outputs": [
        {
          "output_type": "stream",
          "name": "stdout",
          "text": [
            "imie = Jan\n",
            "nazwisko = Kowalski\n",
            "wiek = 30\n"
          ]
        }
      ]
    },
    {
      "cell_type": "markdown",
      "source": [
        " **Kombinowanie** `*args` **i** `**kwargs`\n",
        "\n",
        "Można używać `*args` i `**kwargs` razem w tej samej funkcji, aby pozwolić funkcji na przyjmowanie zarówno nieograniczonej liczby argumentów pozycyjnych (krotka), jak i nazwanych (słownik)."
      ],
      "metadata": {
        "id": "EPXoqShj8lUg"
      }
    },
    {
      "cell_type": "code",
      "source": [
        "def funkcja(*args, **kwargs):\n",
        "    for arg in args:\n",
        "        print(arg)\n",
        "    for klucz, wartosc in kwargs.items():\n",
        "        print(f\"{klucz} = {wartosc}\")\n",
        "\n",
        "funkcja(1, 2, imie=\"Jan\", nazwisko=\"Kowalski\")\n",
        "\n",
        "#W tym przypadku, 1 i 2 zostaną przekazane jako argumenty pozycyjne i trafią do *args, natomiast imie=\"Jan\" i nazwisko=\"Kowalski\" jako argumenty nazwane i trafią do **kwargs."
      ],
      "metadata": {
        "id": "Bz_g4qtI88hQ",
        "colab": {
          "base_uri": "https://localhost:8080/"
        },
        "outputId": "b2dea185-f43b-43cd-d823-b2cbb2120c18"
      },
      "execution_count": null,
      "outputs": [
        {
          "output_type": "stream",
          "name": "stdout",
          "text": [
            "1\n",
            "2\n",
            "imie = Jan\n",
            "nazwisko = Kowalski\n"
          ]
        }
      ]
    },
    {
      "cell_type": "markdown",
      "source": [
        "## 1.8. Zwracanie wielu wartości wyniku działania funkcji"
      ],
      "metadata": {
        "id": "OO-2DQMkRiwC"
      }
    },
    {
      "cell_type": "markdown",
      "source": [
        "W Pythonie można zwrócić wiele wartości z funkcji używając krotek. Kiedy funkcja zwraca więcej niż jedną wartość, Python automatycznie pakuje te wartości do krotki. Następnie można użyć tej krotki bezpośrednio lub \"rozpakować\" te wartości do oddzielnych zmiennych."
      ],
      "metadata": {
        "id": "SY1HGtDKRsEE"
      }
    },
    {
      "cell_type": "code",
      "source": [
        "def obliczenia(a=1, b=1):\n",
        "    suma = a + b\n",
        "    roznica = a - b\n",
        "    iloczyn = a * b\n",
        "    return suma, roznica, iloczyn\n",
        "\n",
        "# Używanie funkcji\n",
        "wynik = obliczenia(10, 5)\n",
        "print(\"krotka(suma, różnica, iloczyn):\", wynik)  # Wydrukuje krotkę: (15, 5, 50)\n",
        "\n",
        "# Można także przypisać zwracane wartości do oddzielnych zmiennych\n",
        "suma, roznica, iloczyn = obliczenia(10, 5)\n",
        "print(\"suma:\",suma)  # 15\n",
        "print(\"różnica:\",roznica)  # 5\n",
        "print(\"iloczyn:\", iloczyn)  # 50\n"
      ],
      "metadata": {
        "colab": {
          "base_uri": "https://localhost:8080/"
        },
        "id": "2y9MXWaqRyhH",
        "outputId": "bc5d02fa-1aab-4229-bb07-2bda5af22fd6"
      },
      "execution_count": null,
      "outputs": [
        {
          "output_type": "stream",
          "name": "stdout",
          "text": [
            "krotka(suma, różnica, iloczyn): (15, 5, 50)\n",
            "suma: 15\n",
            "różnica: 5\n",
            "iloczyn: 50\n"
          ]
        }
      ]
    },
    {
      "cell_type": "markdown",
      "source": [
        "## 1.9. Funkcje anonimowe"
      ],
      "metadata": {
        "id": "qovZKQtB0AE-"
      }
    },
    {
      "cell_type": "markdown",
      "source": [
        "W Pythonie **funkcje anonimowe**, znane także jako **wyrażenia** `lambda`, to sposób na tworzenie małych, jednowierszowych funkcji bez nazwy. Są one często używane w miejscach, gdzie potrzebna jest krótka funkcja, a definicja tradycyjnej funkcji za pomocą `def` byłaby niepotrzebnie rozbudowana. Funkcje lambda mogą przyjmować dowolną liczbę argumentów, ale mogą mieć tylko jedno wyrażenie, którego wynik jest zwracany przez funkcję.\n",
        "\n",
        "**Składnia**\n",
        "\n",
        "`lambda arguments: expression`"
      ],
      "metadata": {
        "id": "cg6E5zJeS_H5"
      }
    },
    {
      "cell_type": "markdown",
      "source": [
        "**Przykład 1:** Funkcja lambda, która dodaje 10 do przekazanej liczby"
      ],
      "metadata": {
        "id": "88G_h3HqTZQL"
      }
    },
    {
      "cell_type": "code",
      "source": [
        "dodaj_dziesiec = lambda x: x + 10\n",
        "print(dodaj_dziesiec(5))  # Wydrukuje 15"
      ],
      "metadata": {
        "id": "pFQ1tgPeTbDR"
      },
      "execution_count": null,
      "outputs": []
    },
    {
      "cell_type": "markdown",
      "source": [
        "**Przykład 2:** Funkcja lambda przyjmująca dwie wartości i zwracająca ich sumę"
      ],
      "metadata": {
        "id": "WQ6G8V6VTefm"
      }
    },
    {
      "cell_type": "code",
      "source": [
        "suma = lambda x, y: x + y\n",
        "print(suma(5, 3))  # Wydrukuje 8"
      ],
      "metadata": {
        "id": "n_RQ_XnCTjti"
      },
      "execution_count": null,
      "outputs": []
    },
    {
      "cell_type": "markdown",
      "source": [
        "**Przykład 3:** Użycie funkcji lambda jako argumentu innej funkcji\n",
        "\n",
        "Funkcje lambda są często używane z funkcjami takimi jak` sorted(), map(), filter()` i innymi funkcjami wyższego rzędu, które przyjmują funkcję jako argument."
      ],
      "metadata": {
        "id": "O_YU82S3TmRj"
      }
    },
    {
      "cell_type": "markdown",
      "source": [
        "Sortowanie listy krotek po drugim elemencie:"
      ],
      "metadata": {
        "id": "vAc20bwGT2o2"
      }
    },
    {
      "cell_type": "code",
      "source": [
        "lista = [(1, 2), (3, 3), (5, 1)]\n",
        "posortowana_lista = sorted(lista, key=lambda x: x[1])\n",
        "print(posortowana_lista)  # Wydrukuje [(5, 1), (1, 2), (3, 3)]"
      ],
      "metadata": {
        "colab": {
          "base_uri": "https://localhost:8080/"
        },
        "id": "_YCj502dTt39",
        "outputId": "06878c00-91b0-4a68-8700-c861c2af1221"
      },
      "execution_count": null,
      "outputs": [
        {
          "output_type": "stream",
          "name": "stdout",
          "text": [
            "[(5, 1), (1, 2), (3, 3)]\n"
          ]
        }
      ]
    },
    {
      "cell_type": "markdown",
      "source": [
        "Stosowanie funkcji do każdego elementu listy (np. podnoszenie każdego elementu do kwadratu)"
      ],
      "metadata": {
        "id": "3BHtbV1xT6ID"
      }
    },
    {
      "cell_type": "code",
      "source": [
        "liczby = [1, 2, 3, 4]\n",
        "kwadraty = list(map(lambda x: x**2, liczby))\n",
        "print(kwadraty)  # Wydrukuje [1, 4, 9, 16]"
      ],
      "metadata": {
        "colab": {
          "base_uri": "https://localhost:8080/"
        },
        "id": "hZChhREzT-ig",
        "outputId": "7bb38269-57bf-4b46-8715-0c9a710f03cc"
      },
      "execution_count": null,
      "outputs": [
        {
          "output_type": "stream",
          "name": "stdout",
          "text": [
            "[1, 4, 9, 16]\n"
          ]
        }
      ]
    },
    {
      "cell_type": "markdown",
      "source": [
        "Filtrowanie listy w celu uzyskania tylko tych liczb, które są parzyste:"
      ],
      "metadata": {
        "id": "P2AoNe_MUIAF"
      }
    },
    {
      "cell_type": "code",
      "source": [
        "liczby = [1, 2, 3, 4, 5, 6]\n",
        "parzyste = list(filter(lambda x: x % 2 == 0, liczby))\n",
        "print(parzyste)  # Wydrukuje [2, 4, 6]"
      ],
      "metadata": {
        "colab": {
          "base_uri": "https://localhost:8080/"
        },
        "id": "0GcaAM0xULAw",
        "outputId": "b5dbc35b-164f-4dc6-c32f-03f58536b487"
      },
      "execution_count": null,
      "outputs": [
        {
          "output_type": "stream",
          "name": "stdout",
          "text": [
            "[2, 4, 6]\n"
          ]
        }
      ]
    },
    {
      "cell_type": "markdown",
      "source": [
        "## 1.10. Zadania"
      ],
      "metadata": {
        "id": "H6GIu95G44g3"
      }
    },
    {
      "cell_type": "markdown",
      "source": [
        "### 1.10.1. Zadanie 10.1\n"
      ],
      "metadata": {
        "id": "ssHCTtxf86lF"
      }
    },
    {
      "cell_type": "markdown",
      "source": [
        "Napisz funkcję, która będzie przyjmowała dowolną liczbę losowych wartości całkowitych i zwracała ich iloczyn.\n",
        "\n",
        "UWAGA: Aby przekazać elementy listy jako oddzielne argumenty do funkcji w Pythonie, możesz użyć operatora rozpakowania listy, który jest oznaczony gwiazdką *. Ten operator pozwala na przekazanie listy wartości do funkcji tak, jakby były one przekazane do funkcji indywidualnie jako oddzielne argumenty."
      ],
      "metadata": {
        "id": "51PNBhIvQT_s"
      }
    },
    {
      "cell_type": "markdown",
      "source": [
        "### 1.10.2. Zadanie 10.2\n"
      ],
      "metadata": {
        "id": "58PWDhtS8fIp"
      }
    },
    {
      "cell_type": "markdown",
      "source": [
        "Napisz funkcję, która będzie przyjmowała listę wartości całkowitych o dowolnym rozmiarze i zwracała ich iloczyn i iloraz w jednej funkcji"
      ],
      "metadata": {
        "id": "j7p361XGQfkT"
      }
    },
    {
      "cell_type": "markdown",
      "source": [
        "### 1.10.3. Zadanie 10.3"
      ],
      "metadata": {
        "id": "x0iCQTUtQq6Z"
      }
    },
    {
      "cell_type": "markdown",
      "source": [
        "Napisz funkcję, która będzie przyjmowała jako argumenty dwie liczby oraz łańcuch znaków, z informacją jaka to ma być operacja matematyczna - do wyboru: dodawanie, odejmowanie, mnożenie i dzielenie. Jeśli nie podano operacji, domyślnie będzie to dodawanie. Dodatkowo postaraj się skorzystać z konstrukcji `match ... case`. Funkcja ma zwracać wynik wybranej operacji."
      ],
      "metadata": {
        "id": "eGWLatptQvWg"
      }
    },
    {
      "cell_type": "markdown",
      "source": [
        "# 2.Zakresy widoczności zmiennych"
      ],
      "metadata": {
        "id": "UvAuignEUc78"
      }
    },
    {
      "cell_type": "markdown",
      "source": [
        "W Pythonie zakres widoczności zmiennych określa kontekst, w którym zmienne są widoczne i mogą być używane. Istnieją cztery podstawowe zakresy widoczności zmiennych, które są określane przez miejsce ich definicji. Te zakresy są często opisywane przez akronim `LEGB`, który oznacza:\n",
        "\n",
        "* **L - Local (Lokalny)**: Zmienne zdefiniowane wewnątrz funkcji. Zakres lokalny oznacza, że zmienne są dostępne tylko w ramach funkcji, w której zostały zdefiniowane.\n",
        "* **E - Enclosing (Otoczający)**: Zmienne w zakresie otaczającym, dostępne w funkcjach zagnieżdżonych. Jeżeli funkcja jest zagnieżdżona w innej funkcji, to zmienne zdefiniowane w funkcji zewnętrznej są dostępne w funkcji wewnętrznej, ale nie na odwrót.\n",
        "* **G - Global (Globalny)**: Zmienne zdefiniowane na najwyższym poziomie skryptu lub w zakresie globalnym modułu. Zmienne globalne są dostępne w całym module/kodzie.\n",
        "* **B - Built-in (Wbudowany)**: Zmienne wbudowane w Pythonie, takie jak `id, print, type`. Są one dostępne globalnie w każdym skrypcie."
      ],
      "metadata": {
        "id": "CnCYwQXDU7mL"
      }
    },
    {
      "cell_type": "markdown",
      "source": [
        "## 2.1. Zmienne lokalne"
      ],
      "metadata": {
        "id": "dwFJvLttVNPn"
      }
    },
    {
      "cell_type": "markdown",
      "source": [
        "Zmienne zdefiniowane wewnątrz funkcji. Zakres lokalny oznacza, że zmienne są dostępne tylko w ramach funkcji, w której zostały zdefiniowane."
      ],
      "metadata": {
        "id": "uA34nf-5VcBO"
      }
    },
    {
      "cell_type": "code",
      "source": [
        "def funkcja():\n",
        "    x = 10  # x jest zmienną lokalną\n",
        "    print(x)\n",
        "\n",
        "funkcja()  # Wydrukuje 10\n"
      ],
      "metadata": {
        "id": "I8hHdO8PVdNe"
      },
      "execution_count": null,
      "outputs": []
    },
    {
      "cell_type": "markdown",
      "source": [
        "## 2.2. Zmienne w zakresie otaczającym (nielokalne)"
      ],
      "metadata": {
        "id": "rHchnH2MViON"
      }
    },
    {
      "cell_type": "markdown",
      "source": [
        "Zmienne w zakresie otaczającym, dostępne w funkcjach zagnieżdżonych. Jeżeli funkcja jest zagnieżdżona w innej funkcji, to zmienne zdefiniowane w funkcji zewnętrznej są dostępne w funkcji wewnętrznej, ale nie na odwrót."
      ],
      "metadata": {
        "id": "B8dMjys6VoMh"
      }
    },
    {
      "cell_type": "code",
      "source": [
        "y=5\n",
        "\n",
        "def zewnetrzna():\n",
        "    x = 10\n",
        "    def wewnetrzna():\n",
        "        z=14\n",
        "        print(x)  # x jest zmienną z zakresu otaczającego\n",
        "    wewnetrzna()\n",
        "\n",
        "zewnetrzna()  # Wydrukuje 10"
      ],
      "metadata": {
        "id": "FoImYyf1VyEU"
      },
      "execution_count": null,
      "outputs": []
    },
    {
      "cell_type": "markdown",
      "source": [
        "## 2.3. Zmienne globalne"
      ],
      "metadata": {
        "id": "e1_EbIQrV5xW"
      }
    },
    {
      "cell_type": "markdown",
      "source": [
        "Zmienne zdefiniowane na najwyższym poziomie skryptu lub w zakresie globalnym modułu. Zmienne globalne są dostępne w całym module/kodzie."
      ],
      "metadata": {
        "id": "9tbNV80MV_pI"
      }
    },
    {
      "cell_type": "code",
      "source": [
        "x = 10  # x jest zmienną globalną\n",
        "\n",
        "def funkcja():\n",
        "    print(x)\n",
        "\n",
        "funkcja()  # Wydrukuje 10"
      ],
      "metadata": {
        "id": "1GL3Dh3rWUxI"
      },
      "execution_count": null,
      "outputs": []
    },
    {
      "cell_type": "markdown",
      "source": [
        "Aby zmodyfikować zmienną globalną wewnątrz funkcji, należy użyć słowa kluczowego `global:`"
      ],
      "metadata": {
        "id": "7-4cwoK4WYG-"
      }
    },
    {
      "cell_type": "code",
      "source": [
        "x = 10\n",
        "\n",
        "def funkcja():\n",
        "    global x = 20\n",
        "\n",
        "funkcja()\n",
        "print(x)  # Wydrukuje 20"
      ],
      "metadata": {
        "colab": {
          "base_uri": "https://localhost:8080/"
        },
        "id": "GIRAZDWgWezR",
        "outputId": "bfd76631-cd9a-4b44-c111-08eb7810bf98"
      },
      "execution_count": null,
      "outputs": [
        {
          "output_type": "stream",
          "name": "stdout",
          "text": [
            "20\n"
          ]
        }
      ]
    },
    {
      "cell_type": "code",
      "source": [
        "def outer_function():\n",
        "    num = 20\n",
        "\n",
        "    def inner_function():\n",
        "        global num # tworzymy zmienną globalną\n",
        "        num = 25 # te zmiany będą widocznie globalnie, ALE NIE LOKALNIE\n",
        "\n",
        "    print(\"Before calling inner_function(): \", num) # zwróci 20 bo wciąż jesteśmy w zakresie lokalnym\n",
        "    inner_function() # to zmieni zmienną globalną\n",
        "    print(\"After calling inner_function(): \", num) # zwróci 20 bo wciąż jesteśmy w zakresie lokalnym\n",
        "\n",
        "outer_function()\n",
        "print(\"Outside both function: \", num)"
      ],
      "metadata": {
        "colab": {
          "base_uri": "https://localhost:8080/"
        },
        "id": "SHZ_g70mXQS7",
        "outputId": "840e2af4-a695-4ea1-df83-426fd4d2e236"
      },
      "execution_count": null,
      "outputs": [
        {
          "output_type": "stream",
          "name": "stdout",
          "text": [
            "Before calling inner_function():  20\n",
            "After calling inner_function():  20\n",
            "Outside both function:  25\n"
          ]
        }
      ]
    },
    {
      "cell_type": "markdown",
      "source": [
        "# 3.Rekurencja"
      ],
      "metadata": {
        "id": "fppUs21OWdqq"
      }
    },
    {
      "cell_type": "markdown",
      "source": [
        "Rekurencja w Pythonie, podobnie jak w innych językach programowania, odnosi się do techniki, w której funkcja wywołuje samą siebie. Jest to narzędzie, które pozwala na rozwiązywanie skomplikowanych problemów poprzez dzielenie ich na mniejsze, bardziej zarządzalne części, często według schematu „dziel i zwyciężaj”. Rekurencja szczególnie dobrze nadaje się do rozwiązywania problemów związanych z przeszukiwaniem, sortowaniem oraz operacjami na strukturach danych, takich jak drzewa i grafy.\n",
        "\n",
        "**Podstawy rekurencji**\n",
        "\n",
        "Aby rekurencja działała poprawnie, musi spełniać dwa główne kryteria:\n",
        "\n",
        "* **Przypadek bazowy:** Jest to warunek, który kończy rekurencję, zapobiegając nieskończonemu wywoływaniu się funkcji. Każda funkcja rekurencyjna musi mieć co najmniej jeden przypadek bazowy.\n",
        "\n",
        "* **Krok rekurencyjny:** W tym kroku funkcja wywołuje samą siebie z argumentami, które przybliżają rozwiązanie do przypadku bazowego.\n",
        "\n",
        "**Przykład:** Obliczanie silni\n",
        "\n",
        "Silnia liczby n, oznaczana jako n!, jest klasycznym przykładem zastosowania rekurencji. Silnia liczby n to iloczyn wszystkich liczb całkowitych od `1` do `n` i jest zdefiniowana jako:\n",
        "\n",
        "    n! = n * (n-1) * (n-2) * ... * 1\n",
        "\n",
        "Przypadkiem bazowym jest `0! = 1`."
      ],
      "metadata": {
        "id": "5wUUdUeiX_c0"
      }
    },
    {
      "cell_type": "code",
      "source": [
        "def factorial(x):\n",
        "    \"\"\"Funkcja rekurencyjna do obliczenia silni\"\"\"\n",
        "\n",
        "    if x == 1:\n",
        "        return 1\n",
        "    else:\n",
        "        return (x * factorial(x-1))\n",
        "\n",
        "\n",
        "num = 1000\n",
        "print(f\"{num}! jest równe {factorial(num)}\")"
      ],
      "metadata": {
        "colab": {
          "base_uri": "https://localhost:8080/",
          "height": 365
        },
        "id": "ZrgZVDxRY0Gf",
        "outputId": "ed3ae995-69ae-4698-ff9a-abe0b84f0d36"
      },
      "execution_count": null,
      "outputs": [
        {
          "output_type": "error",
          "ename": "RecursionError",
          "evalue": "maximum recursion depth exceeded in comparison",
          "traceback": [
            "\u001b[0;31m---------------------------------------------------------------------------\u001b[0m",
            "\u001b[0;31mRecursionError\u001b[0m                            Traceback (most recent call last)",
            "\u001b[0;32m<ipython-input-62-d5795cc655b2>\u001b[0m in \u001b[0;36m<cell line: 11>\u001b[0;34m()\u001b[0m\n\u001b[1;32m      9\u001b[0m \u001b[0;34m\u001b[0m\u001b[0m\n\u001b[1;32m     10\u001b[0m \u001b[0mnum\u001b[0m \u001b[0;34m=\u001b[0m \u001b[0;36m1000\u001b[0m\u001b[0;34m\u001b[0m\u001b[0;34m\u001b[0m\u001b[0m\n\u001b[0;32m---> 11\u001b[0;31m \u001b[0mprint\u001b[0m\u001b[0;34m(\u001b[0m\u001b[0;34mf\"{num}! jest równe {factorial(num)}\"\u001b[0m\u001b[0;34m)\u001b[0m\u001b[0;34m\u001b[0m\u001b[0;34m\u001b[0m\u001b[0m\n\u001b[0m",
            "\u001b[0;32m<ipython-input-62-d5795cc655b2>\u001b[0m in \u001b[0;36mfactorial\u001b[0;34m(x)\u001b[0m\n\u001b[1;32m      5\u001b[0m         \u001b[0;32mreturn\u001b[0m \u001b[0;36m1\u001b[0m\u001b[0;34m\u001b[0m\u001b[0;34m\u001b[0m\u001b[0m\n\u001b[1;32m      6\u001b[0m     \u001b[0;32melse\u001b[0m\u001b[0;34m:\u001b[0m\u001b[0;34m\u001b[0m\u001b[0;34m\u001b[0m\u001b[0m\n\u001b[0;32m----> 7\u001b[0;31m         \u001b[0;32mreturn\u001b[0m \u001b[0;34m(\u001b[0m\u001b[0mx\u001b[0m \u001b[0;34m*\u001b[0m \u001b[0mfactorial\u001b[0m\u001b[0;34m(\u001b[0m\u001b[0mx\u001b[0m\u001b[0;34m-\u001b[0m\u001b[0;36m1\u001b[0m\u001b[0;34m)\u001b[0m\u001b[0;34m)\u001b[0m\u001b[0;34m\u001b[0m\u001b[0;34m\u001b[0m\u001b[0m\n\u001b[0m\u001b[1;32m      8\u001b[0m \u001b[0;34m\u001b[0m\u001b[0m\n\u001b[1;32m      9\u001b[0m \u001b[0;34m\u001b[0m\u001b[0m\n",
            "... last 1 frames repeated, from the frame below ...\n",
            "\u001b[0;32m<ipython-input-62-d5795cc655b2>\u001b[0m in \u001b[0;36mfactorial\u001b[0;34m(x)\u001b[0m\n\u001b[1;32m      5\u001b[0m         \u001b[0;32mreturn\u001b[0m \u001b[0;36m1\u001b[0m\u001b[0;34m\u001b[0m\u001b[0;34m\u001b[0m\u001b[0m\n\u001b[1;32m      6\u001b[0m     \u001b[0;32melse\u001b[0m\u001b[0;34m:\u001b[0m\u001b[0;34m\u001b[0m\u001b[0;34m\u001b[0m\u001b[0m\n\u001b[0;32m----> 7\u001b[0;31m         \u001b[0;32mreturn\u001b[0m \u001b[0;34m(\u001b[0m\u001b[0mx\u001b[0m \u001b[0;34m*\u001b[0m \u001b[0mfactorial\u001b[0m\u001b[0;34m(\u001b[0m\u001b[0mx\u001b[0m\u001b[0;34m-\u001b[0m\u001b[0;36m1\u001b[0m\u001b[0;34m)\u001b[0m\u001b[0;34m)\u001b[0m\u001b[0;34m\u001b[0m\u001b[0;34m\u001b[0m\u001b[0m\n\u001b[0m\u001b[1;32m      8\u001b[0m \u001b[0;34m\u001b[0m\u001b[0m\n\u001b[1;32m      9\u001b[0m \u001b[0;34m\u001b[0m\u001b[0m\n",
            "\u001b[0;31mRecursionError\u001b[0m: maximum recursion depth exceeded in comparison"
          ]
        }
      ]
    },
    {
      "cell_type": "markdown",
      "source": [
        "![obraz.png](data:image/png;base64,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)"
      ],
      "metadata": {
        "id": "apf1KrXBZHn6"
      }
    },
    {
      "cell_type": "markdown",
      "source": [
        "**Uwagi dotyczące rekurencji**\n",
        "\n",
        "* **Głębokość rekurencji**: Python ma **limit na głębokość rekurencji (domyślnie zazwyczaj 1000 wywołań)**, aby zapobiec przekroczeniu limitu stosu i awarii programu. **Można ten limit zmodyfikować, ale zwiększanie go znacząco może prowadzić do przeciążenia stosu**. Po przekroczeniu założonej liczby wywołań rekurencyjnych, Python zgłosi wyjątek `RecursionError`. Aby wykonać głębszą rekurencję, można zmodyfikować limit używając funkcji `setrecursionlimit()` (moduł `sys`).\n",
        "\n",
        "* **Optymalizacja**: W niektórych przypadkach, **szczególnie gdy rekurencja jest głęboka, lepiej jest użyć iteracji zamiast rekurencji ze względu na wydajność i ograniczenia stosu**."
      ],
      "metadata": {
        "id": "lY1b-GDKZIxc"
      }
    },
    {
      "cell_type": "markdown",
      "source": [
        "# 4.Moduły"
      ],
      "metadata": {
        "id": "6wQRfzwvfwqD"
      }
    },
    {
      "cell_type": "markdown",
      "source": [
        "Moduły w Pythonie to pliki zawierające definicje i instrukcje w języku Python. Głównym celem modułów jest organizacja i ponowne wykorzystanie kodu. Moduły pozwalają na podział programu na mniejsze, zarządzalne części, co ułatwia rozwój i utrzymanie kodu. W Pythonie każdy plik .py może być traktowany jako moduł.\n",
        "\n",
        "Kiedy importujemy moduł, Python tworzy przestrzeń nazw dla tego modułu. Oznacza to, że wszystkie definicje z modułu są dostępne pod przestrzenią nazw tego modułu. Dzięki temu możliwe jest posiadanie funkcji o tych samych nazwach w różnych modułach bez konfliktów.\n",
        "\n",
        "**Moduł to plik z kodem do określonego zadania.**"
      ],
      "metadata": {
        "id": "GpnwSis4f0GO"
      }
    },
    {
      "cell_type": "markdown",
      "source": [
        "## 4.1. Importowanie modułów"
      ],
      "metadata": {
        "id": "nTBvKUzvhg5M"
      }
    },
    {
      "cell_type": "markdown",
      "source": [
        "Aby użyć modułu w programie Python, należy go najpierw zaimportować za pomocą instrukcji\n",
        "\n",
        "`import nazwa_modułu`\n",
        "\n",
        "Python udostępnia szeroki zakres modułów standardowych, które można importować do swoich skryptów, oraz pozwala na tworzenie własnych modułów"
      ],
      "metadata": {
        "id": "4-Cj7lvGhkfZ"
      }
    },
    {
      "cell_type": "code",
      "source": [
        "import math\n",
        "\n",
        "print(math.sqrt(16))  # Wyświetli 4.0\n",
        "\n",
        "dir(math)"
      ],
      "metadata": {
        "id": "tZDHja6EiHq_",
        "colab": {
          "base_uri": "https://localhost:8080/"
        },
        "outputId": "769a8965-886d-4ae2-da7d-fae4d0472fcb"
      },
      "execution_count": null,
      "outputs": [
        {
          "output_type": "stream",
          "name": "stdout",
          "text": [
            "4.0\n"
          ]
        },
        {
          "output_type": "execute_result",
          "data": {
            "text/plain": [
              "['__doc__',\n",
              " '__loader__',\n",
              " '__name__',\n",
              " '__package__',\n",
              " '__spec__',\n",
              " 'acos',\n",
              " 'acosh',\n",
              " 'asin',\n",
              " 'asinh',\n",
              " 'atan',\n",
              " 'atan2',\n",
              " 'atanh',\n",
              " 'ceil',\n",
              " 'comb',\n",
              " 'copysign',\n",
              " 'cos',\n",
              " 'cosh',\n",
              " 'degrees',\n",
              " 'dist',\n",
              " 'e',\n",
              " 'erf',\n",
              " 'erfc',\n",
              " 'exp',\n",
              " 'expm1',\n",
              " 'fabs',\n",
              " 'factorial',\n",
              " 'floor',\n",
              " 'fmod',\n",
              " 'frexp',\n",
              " 'fsum',\n",
              " 'gamma',\n",
              " 'gcd',\n",
              " 'hypot',\n",
              " 'inf',\n",
              " 'isclose',\n",
              " 'isfinite',\n",
              " 'isinf',\n",
              " 'isnan',\n",
              " 'isqrt',\n",
              " 'lcm',\n",
              " 'ldexp',\n",
              " 'lgamma',\n",
              " 'log',\n",
              " 'log10',\n",
              " 'log1p',\n",
              " 'log2',\n",
              " 'modf',\n",
              " 'nan',\n",
              " 'nextafter',\n",
              " 'perm',\n",
              " 'pi',\n",
              " 'pow',\n",
              " 'prod',\n",
              " 'radians',\n",
              " 'remainder',\n",
              " 'sin',\n",
              " 'sinh',\n",
              " 'sqrt',\n",
              " 'tan',\n",
              " 'tanh',\n",
              " 'tau',\n",
              " 'trunc',\n",
              " 'ulp']"
            ]
          },
          "metadata": {},
          "execution_count": 63
        }
      ]
    },
    {
      "cell_type": "markdown",
      "source": [
        "**Importowanie wybranych funkcji**"
      ],
      "metadata": {
        "id": "XTIbQKNG5uoz"
      }
    },
    {
      "cell_type": "code",
      "source": [
        "from math import *\n",
        "\n",
        "print(sqrt(16))  # Wyświetli 4.0\n",
        "\n"
      ],
      "metadata": {
        "id": "2OvHvyxUiLQD",
        "colab": {
          "base_uri": "https://localhost:8080/"
        },
        "outputId": "c8589599-f85a-4efd-ce5b-a6ae46937c26"
      },
      "execution_count": null,
      "outputs": [
        {
          "output_type": "stream",
          "name": "stdout",
          "text": [
            "4.0\n"
          ]
        }
      ]
    },
    {
      "cell_type": "markdown",
      "source": [
        "## 4.2. Tworzenie własnych modułów"
      ],
      "metadata": {
        "id": "ddtpk9iHh7VE"
      }
    },
    {
      "cell_type": "markdown",
      "source": [
        "Aby stworzyć własny moduł, wystarczy zapisać definicje i instrukcje, które\n",
        "chcemy wykorzystać, w pliku `.py`. Na przykład, po utworzeniu pliku o nazwie `mymodule.py`, można go następnie zaimportować w innym skrypcie Pythona"
      ],
      "metadata": {
        "id": "bYoRPRcuiGFc"
      }
    },
    {
      "cell_type": "markdown",
      "source": [
        "Krok 1: Tworzenie modułu"
      ],
      "metadata": {
        "id": "dfvej4YhrCPM"
      }
    },
    {
      "cell_type": "code",
      "source": [
        "### napisane 4 funkcje - dodawanie, odejmowanie etc. zapisz w nowym pliku \"matematyka.py\"\n",
        "%%writefile matematyka.py\n",
        "\n",
        "suma=lambda a,b: a+b\n",
        "\n",
        "roznica=lambda a,b: a-b\n",
        "\n",
        "iloczyn=lambda a,b: a*b\n",
        "\n",
        "def iloraz(a,b):\n",
        "  if b==0:\n",
        "    print('dzielenie przez 0!')\n",
        "    return None\n",
        "  else:\n",
        "    return a/b"
      ],
      "metadata": {
        "id": "JwMHm7Fif3Ut",
        "colab": {
          "base_uri": "https://localhost:8080/"
        },
        "outputId": "283f5bc8-739f-4d3c-8a3a-3be10de06af7"
      },
      "execution_count": null,
      "outputs": [
        {
          "output_type": "stream",
          "name": "stdout",
          "text": [
            "Writing matematyka.py\n"
          ]
        }
      ]
    },
    {
      "cell_type": "code",
      "source": [
        "a=10\n",
        "b=0\n",
        "print('suma:', suma(a,b))\n",
        "print('roznica:', roznica(a,b))\n",
        "print('iloczyn:', iloczyn(a,b))\n",
        "print('iloraz:', iloraz(a,b))"
      ],
      "metadata": {
        "colab": {
          "base_uri": "https://localhost:8080/"
        },
        "id": "dF7qH37nq9-u",
        "outputId": "70605891-3e66-48ea-9cb4-94c1284eff2b"
      },
      "execution_count": null,
      "outputs": [
        {
          "output_type": "stream",
          "name": "stdout",
          "text": [
            "suma: 10\n",
            "roznica: 10\n",
            "iloczyn: 0\n",
            "dzielenie przez 0!\n",
            "iloraz: None\n"
          ]
        }
      ]
    },
    {
      "cell_type": "markdown",
      "source": [
        "Krok 2: importowanie utworzonego modułu"
      ],
      "metadata": {
        "id": "7jpIYW3FrPGR"
      }
    },
    {
      "cell_type": "code",
      "source": [
        "import matematyka\n",
        "matematyka.suma(1,2)"
      ],
      "metadata": {
        "id": "tD5SPrt3TVSj",
        "colab": {
          "base_uri": "https://localhost:8080/"
        },
        "outputId": "f1c5ba68-989b-4f71-b12f-0a9bb3bf76be"
      },
      "execution_count": null,
      "outputs": [
        {
          "output_type": "execute_result",
          "data": {
            "text/plain": [
              "3"
            ]
          },
          "metadata": {},
          "execution_count": 66
        }
      ]
    },
    {
      "cell_type": "markdown",
      "source": [
        "**Importowanie modulu z nazwą użytkownika**\n",
        "\n",
        "W języku Python wyrażenie `import ... as ...` służy do importowania modułu lub pakietu i nadania mu krótszej nazwy, która jest wygodniejsza w użyciu."
      ],
      "metadata": {
        "id": "CUWp9oo_51xG"
      }
    },
    {
      "cell_type": "code",
      "source": [
        "import matematyka as mat\n",
        "\n",
        "mat.iloczyn(3,2)"
      ],
      "metadata": {
        "id": "e05YRqgG0ZIm",
        "colab": {
          "base_uri": "https://localhost:8080/"
        },
        "outputId": "de0a2e7f-3784-409d-c091-233184ebd97d"
      },
      "execution_count": null,
      "outputs": [
        {
          "output_type": "execute_result",
          "data": {
            "text/plain": [
              "6"
            ]
          },
          "metadata": {},
          "execution_count": 75
        }
      ]
    },
    {
      "cell_type": "markdown",
      "source": [
        "Można również importować konkretne funkcje lub zmienne z modułu, używając instrukcji\n",
        "\n",
        "`from nazwa_modułu import nazwa_funkcji`"
      ],
      "metadata": {
        "id": "wWp7xV2IhrKe"
      }
    },
    {
      "cell_type": "code",
      "source": [
        "from matematyka import roznica, iloraz\n",
        "roznica(4,5)\n",
        "iloraz(3,0)"
      ],
      "metadata": {
        "id": "ppw1OkbKgNIf",
        "colab": {
          "base_uri": "https://localhost:8080/"
        },
        "outputId": "08db2cc2-f254-49b6-c876-263b218f1505"
      },
      "execution_count": null,
      "outputs": [
        {
          "output_type": "stream",
          "name": "stdout",
          "text": [
            "dzielenie przez 0!\n"
          ]
        }
      ]
    },
    {
      "cell_type": "code",
      "source": [
        "from matematyka import *\n",
        "a=10\n",
        "b=0\n",
        "print('suma:', suma(a,b))\n",
        "print('roznica:', roznica(a,b))\n",
        "print('iloczyn:', iloczyn(a,b))\n",
        "print('iloraz:', iloraz(a,b))"
      ],
      "metadata": {
        "id": "LI4bvMMWgR9J",
        "colab": {
          "base_uri": "https://localhost:8080/"
        },
        "outputId": "98bb265d-f6b7-4324-c35d-5cc90c30692b"
      },
      "execution_count": null,
      "outputs": [
        {
          "output_type": "stream",
          "name": "stdout",
          "text": [
            "suma: 10\n",
            "roznica: 10\n",
            "iloczyn: 0\n",
            "dzielenie przez 0!\n",
            "iloraz: None\n"
          ]
        }
      ]
    },
    {
      "cell_type": "markdown",
      "source": [
        "## 4.3. Funckja `dir()`"
      ],
      "metadata": {
        "id": "AlOQNNIri9gJ"
      }
    },
    {
      "cell_type": "markdown",
      "source": [
        "Funkcja `dir()` w Pythonie, używana w kontekście modułu, zwraca listę nazw (atrybutów, funkcji, klas, zmiennych itp.), które są zdefiniowane wewnątrz tego modułu. **Lista ta obejmuje zarówno te elementy, które zostały zdefiniowane bezpośrednio w modułe, jak i te, które zostały zaimportowane**.\n",
        "\n",
        "Funkcja `dir()` jest często wykorzystywana w celu zrozumienia funkcjonalności modułu, szczególnie gdy eksplorujemy nowe moduły, oraz do celów debugowania i interaktywnego programowania.\n",
        "\n",
        "**Funkcja `dir()` bez argumentów zwraca listę nazw w bieżącym zakresie lokalnym.** Jeśli jest użyta w środowisku interaktywnym, takim jak interpreter Pythona lub Jupyter Notebook, może służyć do wyświetlenia listy wszystkich zmiennych, funkcji, itp., które zostały zdefiniowane w sesji.\n",
        "\n",
        "**Funkcja `dir()` nie zwraca nazw prywatnych i specjalnych metod, jeśli nie zostaną one jawnie zażądane.**\n",
        "\n",
        "Dokładna lista zwracana przez `dir()` może się różnić w zależności od wersji Pythona oraz od tego, czy dodatkowe atrybuty zostały dodane do modułu po jego załadowaniu."
      ],
      "metadata": {
        "id": "6qXCc1G6jDE2"
      }
    },
    {
      "cell_type": "code",
      "source": [
        "import matematyka\n",
        "dir(matematyka)"
      ],
      "metadata": {
        "colab": {
          "base_uri": "https://localhost:8080/"
        },
        "id": "PHb4PEvGr4P3",
        "outputId": "485538bf-6e78-4b55-d1aa-097b10d5a295"
      },
      "execution_count": null,
      "outputs": [
        {
          "output_type": "execute_result",
          "data": {
            "text/plain": [
              "['__builtins__',\n",
              " '__cached__',\n",
              " '__doc__',\n",
              " '__file__',\n",
              " '__loader__',\n",
              " '__name__',\n",
              " '__package__',\n",
              " '__spec__',\n",
              " 'a',\n",
              " 'b',\n",
              " 'iloczyn',\n",
              " 'iloraz',\n",
              " 'roznica',\n",
              " 'suma']"
            ]
          },
          "metadata": {},
          "execution_count": 83
        }
      ]
    },
    {
      "cell_type": "code",
      "source": [
        "import math\n",
        "dir(math)"
      ],
      "metadata": {
        "colab": {
          "base_uri": "https://localhost:8080/"
        },
        "id": "APn8_ei0jSGA",
        "outputId": "03ae8e5b-d494-44b2-b789-d149a49f72ac"
      },
      "execution_count": null,
      "outputs": [
        {
          "output_type": "execute_result",
          "data": {
            "text/plain": [
              "['__doc__',\n",
              " '__loader__',\n",
              " '__name__',\n",
              " '__package__',\n",
              " '__spec__',\n",
              " 'acos',\n",
              " 'acosh',\n",
              " 'asin',\n",
              " 'asinh',\n",
              " 'atan',\n",
              " 'atan2',\n",
              " 'atanh',\n",
              " 'ceil',\n",
              " 'comb',\n",
              " 'copysign',\n",
              " 'cos',\n",
              " 'cosh',\n",
              " 'degrees',\n",
              " 'dist',\n",
              " 'e',\n",
              " 'erf',\n",
              " 'erfc',\n",
              " 'exp',\n",
              " 'expm1',\n",
              " 'fabs',\n",
              " 'factorial',\n",
              " 'floor',\n",
              " 'fmod',\n",
              " 'frexp',\n",
              " 'fsum',\n",
              " 'gamma',\n",
              " 'gcd',\n",
              " 'hypot',\n",
              " 'inf',\n",
              " 'isclose',\n",
              " 'isfinite',\n",
              " 'isinf',\n",
              " 'isnan',\n",
              " 'isqrt',\n",
              " 'lcm',\n",
              " 'ldexp',\n",
              " 'lgamma',\n",
              " 'log',\n",
              " 'log10',\n",
              " 'log1p',\n",
              " 'log2',\n",
              " 'modf',\n",
              " 'nan',\n",
              " 'nextafter',\n",
              " 'perm',\n",
              " 'pi',\n",
              " 'pow',\n",
              " 'prod',\n",
              " 'radians',\n",
              " 'remainder',\n",
              " 'sin',\n",
              " 'sinh',\n",
              " 'sqrt',\n",
              " 'tan',\n",
              " 'tanh',\n",
              " 'tau',\n",
              " 'trunc',\n",
              " 'ulp']"
            ]
          },
          "metadata": {},
          "execution_count": 2
        }
      ]
    },
    {
      "cell_type": "code",
      "source": [
        "from collections import OrderedDict\n",
        "dir(OrderedDict)"
      ],
      "metadata": {
        "id": "88a7BINeggkW",
        "colab": {
          "base_uri": "https://localhost:8080/"
        },
        "outputId": "2c59c07a-f5df-46b1-9916-0341b87f63fd"
      },
      "execution_count": null,
      "outputs": [
        {
          "output_type": "execute_result",
          "data": {
            "text/plain": [
              "['__class__',\n",
              " '__class_getitem__',\n",
              " '__contains__',\n",
              " '__delattr__',\n",
              " '__delitem__',\n",
              " '__dict__',\n",
              " '__dir__',\n",
              " '__doc__',\n",
              " '__eq__',\n",
              " '__format__',\n",
              " '__ge__',\n",
              " '__getattribute__',\n",
              " '__getitem__',\n",
              " '__gt__',\n",
              " '__hash__',\n",
              " '__init__',\n",
              " '__init_subclass__',\n",
              " '__ior__',\n",
              " '__iter__',\n",
              " '__le__',\n",
              " '__len__',\n",
              " '__lt__',\n",
              " '__ne__',\n",
              " '__new__',\n",
              " '__or__',\n",
              " '__reduce__',\n",
              " '__reduce_ex__',\n",
              " '__repr__',\n",
              " '__reversed__',\n",
              " '__ror__',\n",
              " '__setattr__',\n",
              " '__setitem__',\n",
              " '__sizeof__',\n",
              " '__str__',\n",
              " '__subclasshook__',\n",
              " 'clear',\n",
              " 'copy',\n",
              " 'fromkeys',\n",
              " 'get',\n",
              " 'items',\n",
              " 'keys',\n",
              " 'move_to_end',\n",
              " 'pop',\n",
              " 'popitem',\n",
              " 'setdefault',\n",
              " 'update',\n",
              " 'values']"
            ]
          },
          "metadata": {},
          "execution_count": 1
        }
      ]
    },
    {
      "cell_type": "markdown",
      "source": [
        "#5.Pakiety"
      ],
      "metadata": {
        "id": "mSn-dakjgU4g"
      }
    },
    {
      "cell_type": "markdown",
      "source": [
        "Pakiety to sposób organizacji modułów Pythona za pomocą „katalogów z modułami”. Pakiet to katalog zawierający plik `__init__.py` oraz moduły. Umożliwia to tworzenie hierarchicznej struktury modułów, co jest szczególnie użyteczne w dużych projektach."
      ],
      "metadata": {
        "id": "sjdZthXbgcVS"
      }
    },
    {
      "cell_type": "markdown",
      "source": [
        "## 5.1. Inicjalizacja pakietów - plik __init__.py"
      ],
      "metadata": {
        "id": "VOga2YwBkSWW"
      }
    },
    {
      "cell_type": "markdown",
      "source": [
        "Plik `__init__.py` w Pythonie służy do inicjalizacji pakietu Pythona. Jego obecność w katalogu z plikami `.py` informuje Pythona, że dany katalog powinien być traktowany jako pakiet Pythona. To pozwala na importowanie modułów z tego pakietu. Zawartość pliku `__init__.py` może być bardzo różna – od całkowicie pustego pliku do zawierającego złożony kod inicjalizujący pakiet.\n",
        "\n",
        "**Przykłady użycia pliku** `__init__.py`\n",
        "\n",
        "* **Pusty plik** `__init__.py`\n",
        "\n",
        "Najprostsza forma pliku `__init__.py` to całkowicie pusty plik. Jego jedyna rola to zaznaczenie katalogu jako pakietu Pythona, umożliwiając importowanie modułów z tego katalogu. **W nowszych wersjach Pythona (3.3 i nowsze) obecność pliku** `__init__.py` nie jest już wymagana do traktowania katalogów jako pakietów dzięki wprowadzeniu **przestrzeni nazw pakietów**, ale **jego użycie nadal jest praktyką powszechną, szczególnie dla zapewnienia kompatybilności**.\n",
        "\n",
        "* **Definiowanie zawartości pakietu**\n",
        "\n",
        "Plik __init__.py może być używany do definiowania zmiennych, funkcji, klas itd., które będą dostępne na poziomie pakietu.\n",
        "\n",
        "```\n",
        "# Zawartość pliku __init__.py\n",
        "__all__ = ['modul1', 'modul2']\n",
        "\n",
        "from . import modul1\n",
        "from . import modul2\n",
        "```\n",
        "\n",
        "W powyższym przykładzie, przy użyciu listy `__all__`, definiujemy, które moduły powinny być eksportowane, gdy używane jest wyrażenie `from pakiet import *`. Ponadto, importujemy moduły `modul1` i `modul2` w taki sposób, aby były one dostępne bezpośrednio w przestrzeni nazw pakietu.\n",
        "\n",
        "* **Inicjalizacja pakietu**\n",
        "\n",
        "Plik `__init__.py` może również zawierać kod, który inicjalizuje pakiet. Na przykład, może on ustawiać zmienne globalne, które będą używane przez inne moduły w pakiecie.\n",
        "\n",
        "```\n",
        "# Zawartość pliku __init__.py\n",
        "print(\"Inicjalizacja pakietu\")\n",
        "zmienna_pakietu = \"Wartość dostępna w pakiecie\"\n",
        "```\n",
        "\n",
        "Kiedy moduły z pakietu są importowane, kod zawarty w `__init__.py` jest wykonywany, umożliwiając inicjalizację pakietu."
      ],
      "metadata": {
        "id": "GiC4Ej7kkQPQ"
      }
    }
  ]
}