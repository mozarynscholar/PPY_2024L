{
  "nbformat": 4,
  "nbformat_minor": 0,
  "metadata": {
    "colab": {
      "provenance": [],
      "toc_visible": true
    },
    "kernelspec": {
      "name": "python3",
      "display_name": "Python 3"
    },
    "language_info": {
      "name": "python"
    }
  },
  "cells": [
    {
      "cell_type": "code",
      "source": [
        "from google.colab import drive\n",
        "drive.mount('/content/drive')"
      ],
      "metadata": {
        "colab": {
          "base_uri": "https://localhost:8080/"
        },
        "id": "XyWSolTvrZyi",
        "outputId": "b012034c-d0ef-4de6-fac6-af256271c9a7"
      },
      "execution_count": null,
      "outputs": [
        {
          "output_type": "stream",
          "name": "stdout",
          "text": [
            "Mounted at /content/drive\n"
          ]
        }
      ]
    },
    {
      "cell_type": "markdown",
      "source": [
        "# 1.Pakiety, Moduły i Biblioteki"
      ],
      "metadata": {
        "id": "FB5q4x4z_jWO"
      }
    },
    {
      "cell_type": "markdown",
      "source": [
        "W Pythonie terminy moduł, pakiet i biblioteka często używane są zamiennie, ale mają specyficzne znaczenia:\n",
        "\n",
        "* **Moduł**\n",
        "\n",
        "**Moduł** w Pythonie to po prostu plik z rozszerzeniem `.py`, który zawiera definicje funkcji, klas i zmiennych. Moduły pozwalają na organizowanie kodu w mniejsze, bardziej zrozumiałe części. Dzięki modułom można ponownie wykorzystywać kod w różnych programach. Aby używać modułu, należy go zaimportować przy pomocy instrukcji `import`.\n",
        "\n",
        "**Przykład modułu**"
      ],
      "metadata": {
        "id": "JmmX8UsbDsq-"
      }
    },
    {
      "cell_type": "code",
      "source": [
        "# nazwa pliku: moj_modul.py\n",
        "\n",
        "def powitanie(imie):\n",
        "    return f\"Cześć, {imie}!\"\n",
        "\n",
        "pi = 3.14159\n"
      ],
      "metadata": {
        "id": "t_K5MEYkD58n"
      },
      "execution_count": null,
      "outputs": []
    },
    {
      "cell_type": "markdown",
      "source": [
        "**Użycie modułu**"
      ],
      "metadata": {
        "id": "fMGSgNnMD7Ap"
      }
    },
    {
      "cell_type": "code",
      "source": [
        "import moj_modul\n",
        "\n",
        "print(moj_modul.powitanie(\"Jan\"))\n",
        "print(moj_modul.pi)"
      ],
      "metadata": {
        "id": "PwCDyLxWD91a"
      },
      "execution_count": null,
      "outputs": []
    },
    {
      "cell_type": "markdown",
      "source": [
        "* **Pakiet**\n",
        "\n",
        "Pakiet to zbiór modułów zorganizowanych w strukturę katalogów. Każdy katalog, który ma być traktowany jako pakiet, musi zawierać plik `__init__.py` (może być pusty). Pakiety pozwalają na jeszcze lepszą organizację kodu, szczególnie w dużych projektach. Dzięki pakietom można tworzyć złożone struktury modułów, które są łatwe do zarządzania."
      ],
      "metadata": {
        "id": "j2ZLbBisELF_"
      }
    },
    {
      "cell_type": "markdown",
      "source": [
        "**Struktura pakietu**"
      ],
      "metadata": {
        "id": "nCBlk9JMER3k"
      }
    },
    {
      "cell_type": "code",
      "source": [
        "moj_pakiet/\n",
        "    __init__.py\n",
        "    modul1.py\n",
        "    modul2.py"
      ],
      "metadata": {
        "id": "f1caxesXETd2"
      },
      "execution_count": null,
      "outputs": []
    },
    {
      "cell_type": "markdown",
      "source": [
        "**Importowanie modułu z pakietu**"
      ],
      "metadata": {
        "id": "pmyssVQDEXN_"
      }
    },
    {
      "cell_type": "code",
      "source": [
        "from moj_pakiet import modul1\n",
        "\n",
        "print(modul1.funkcja())"
      ],
      "metadata": {
        "id": "O7oUIJssEhlA"
      },
      "execution_count": null,
      "outputs": []
    },
    {
      "cell_type": "markdown",
      "source": [
        "* **Biblioteka**\n",
        "\n",
        "**Biblioteka** to szersze pojęcie, które obejmuje **zbiór modułów i pakietów zaprojektowanych do realizacji określonych zadań**. Biblioteka to zatem zestaw narzędzi, które programista może używać w swoim kodzie. Przykładami bibliotek są `NumPy` (do obliczeń numerycznych), `Pandas` (do analizy danych) czy `Requests` (do wykonywania zapytań HTTP).\n",
        "\n",
        "**Biblioteki** mogą być instalowane przy pomocy narzędzi takich jak `pi`p i **często zawierają dokumentację oraz przykłady użycia**."
      ],
      "metadata": {
        "id": "Vzc4gq_kEvkd"
      }
    },
    {
      "cell_type": "markdown",
      "source": [
        "**Przykład instalacji biblioteki**"
      ],
      "metadata": {
        "id": "E3iE-vcNFEQL"
      }
    },
    {
      "cell_type": "code",
      "source": [
        "pip install requests"
      ],
      "metadata": {
        "id": "WqwqYZYrFXaJ"
      },
      "execution_count": null,
      "outputs": []
    },
    {
      "cell_type": "markdown",
      "source": [
        "**Przykład użycia biblioteki**"
      ],
      "metadata": {
        "id": "xn5Tl2x9FS3Q"
      }
    },
    {
      "cell_type": "code",
      "source": [
        "import requests\n",
        "\n",
        "response = requests.get('https://api.example.com')\n",
        "print(response.status_code)"
      ],
      "metadata": {
        "id": "dlaKbuJTFb_J"
      },
      "execution_count": null,
      "outputs": []
    },
    {
      "cell_type": "markdown",
      "source": [
        "**Podsumowując:**\n",
        "\n",
        "* Moduł to pojedynczy plik .py z kodem Pythona.\n",
        "* Pakiet to zbiór modułów zorganizowanych w katalogi, zawierający plik `__init__.py`.\n",
        "* Biblioteka to zbiór modułów i pakietów, które dostarczają określonych funkcjonalności i narzędzi, zazwyczaj instalowanych z zewnętrznego źródła."
      ],
      "metadata": {
        "id": "v_AtupKVFlkf"
      }
    },
    {
      "cell_type": "markdown",
      "source": [
        "![obraz.png](data:image/png;base64,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)"
      ],
      "metadata": {
        "id": "BK6qxHPbF31i"
      }
    },
    {
      "cell_type": "markdown",
      "source": [
        "**Rodzaje modułów i pakietów**:\n",
        "* Wbudowane: np. math, statistics;\n",
        "* Użytkownika;\n",
        "* Zewnętrzne: np. NumPy, Matplotlib, scikit-learn"
      ],
      "metadata": {
        "id": "gvON93p7F0Wm"
      }
    },
    {
      "cell_type": "markdown",
      "source": [
        "# 2.Manager pakietów: `pip`"
      ],
      "metadata": {
        "id": "D3TmZ3k0HCbb"
      }
    },
    {
      "cell_type": "markdown",
      "source": [
        "`pip` to preinstalowany manager pakietów w Python, dzięki niemu można pobierać inne pakiety. Pakiet `pip` nie wymaga instalacji, jest zintegrowany z Pythonem, ale wymaga atualizacj. Problem z pobraniem i instalacją jakiegoś pakietu może być spowodowany nieaktualnym pakietem `pip`.\n",
        "\n",
        "Manager `pip` umożliwia instalowanie, odinstalowywanie i update pakietów. Możemy to robić łącząc się bezpośrednio z repozytorium w sieci lub z pliku pakietu, który posiadamy."
      ],
      "metadata": {
        "id": "3aEdKQtpITBJ"
      }
    },
    {
      "cell_type": "markdown",
      "source": [
        "## 2.1.Instrukcje do zarządzania pakietami"
      ],
      "metadata": {
        "id": "YTbJGbg9JWxZ"
      }
    },
    {
      "cell_type": "markdown",
      "source": [
        "Postawowe instrukcje do zarządzania pakietami z wykorzystaniem managera `pip`"
      ],
      "metadata": {
        "id": "IDBBLAA1J7Et"
      }
    },
    {
      "cell_type": "markdown",
      "source": [
        "* Aktualizacja pakietu `pip`\n",
        "\n",
        "`python.exe -m pip install --upgrade pip`\n",
        "* Pobranie pakietu bezpośrednio z repozytorium `pip` (najczęstszy sposób):\n",
        "\n",
        "`pip install PACKAGE_NAME`\n",
        "* Instalacja pakietu z pliku (np plik whl):\n",
        "\n",
        "`pip install \"WHL_FILE_LOCATION\"` - gdzie `WHL_FILE_LOCATIO`N to ścieżka bezpośrednio do pliku `whl`, jeśli pakiet jest w formie pliku.Np:\n",
        "\n",
        "`pip install \"C:\\packages\\my_package.whl\"`\n",
        "* Instalowanie pakietu z katalogu:\n",
        "\n",
        "`pip install \"C:\\packages\\my_package\\\"`\n",
        "* W celu deinstalacji wybranego pakietu:\n",
        "\n",
        "`pip uninstall PACKAGE_NAME`\n",
        "* Aktualizacja pakietów (PIP, Windows CMD):\n",
        "\n",
        "`pip install --upgrade PACKAGE_NAME`\n",
        "* Sprawdzanie listy pakietów czy bibliotek:\n",
        "\n",
        "`pip list`"
      ],
      "metadata": {
        "id": "KSGKLhdzJcTK"
      }
    },
    {
      "cell_type": "markdown",
      "source": [
        "## 2.2.Zarządzanie pakietami w *PyCharm*"
      ],
      "metadata": {
        "id": "Rptvy3IqQiUP"
      }
    },
    {
      "cell_type": "markdown",
      "source": [
        "### 2.2.1.Wywołanie z poziomu terminala"
      ],
      "metadata": {
        "id": "TUek6cn8SN5r"
      }
    },
    {
      "cell_type": "markdown",
      "source": [
        "Zarządzanie pakietami w `PyCharm` może być realizowane z poziomu terminala pythona w *PyCharm*, w oparciu o manager `pip`"
      ],
      "metadata": {
        "id": "r-1rzDa0QyL_"
      }
    },
    {
      "cell_type": "markdown",
      "source": [
        "![obraz.png](data:image/png;base64,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)"
      ],
      "metadata": {
        "id": "t7LI_aGDSUw7"
      }
    },
    {
      "cell_type": "markdown",
      "source": [
        "### 2.2.2. Dodanie biblioteki w oparciu o IDE"
      ],
      "metadata": {
        "id": "9hLmO1aMSinQ"
      }
    },
    {
      "cell_type": "markdown",
      "source": [
        "W celu dodania biblioteki w opaciu o IDE *PyCharm* należy zrealizować nastepujące kroki.\n",
        "* Otwórz PyCharm i swój projekt: Upewnij się, że masz otwarty projekt, w którym chcesz zarządzać pakietami.\n",
        "* Otwórz ustawienia projektu:\n",
        "** Wybierz `File` (Plik) z menu górnego.\n",
        "** Kliknij na `Settings` (Ustawienia) (lub użyj skrótu klawiaturowego Ctrl+Alt+S).\n",
        "* Przejdź do ustawień interpreterów:\n",
        "** W ustawieniach wybierz `Project: <nazwa_projektu>` aby rozwinąć menu.\n",
        "** Kliknij na `Python Interpreter` (Interpreter Pythona).\n",
        "* Zarządzanie pakietami:\n",
        "** W oknie `Python Interpreter` zobaczysz listę aktualnie zainstalowanych pakietów.\n",
        "** Aby dodać nowy pakiet, kliknij na ikonę `+` po prawej stronie listy pakietów.\n",
        "** W nowo otwartym oknie wyszukaj pakiet, który chcesz zainstalować (np. `requests`), i kliknij `Install Package` (Zainstaluj pakiet).\n",
        "** Aby zaktualizować pakiet, wybierz go z listy i kliknij ikonę strzałki (upgrade).\n",
        "** Aby usunąć pakiet, wybierz go z listy i kliknij ikonę `-` (usuń).\n",
        "* Potwierdź zmiany:\n",
        "** Po dodaniu, zaktualizowaniu lub usunięciu pakietu, zamknij okno ustawień, klikając `OK` lub `Apply`, aby zapisać zmiany.\n",
        "\n"
      ],
      "metadata": {
        "id": "kdixFmyKQcNh"
      }
    },
    {
      "cell_type": "markdown",
      "source": [
        "![obraz.png](data:image/png;base64,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)"
      ],
      "metadata": {
        "id": "IzXtkek0UI4a"
      }
    },
    {
      "cell_type": "markdown",
      "source": [
        "**Przykład instalacji pakietu `requests` w PyCharm:**\n",
        "\n",
        "* Otwórz ustawienia projektu (Ctrl+Alt+S).\n",
        "* Przejdź do sekcji `Project: <nazwa_projektu> -> Python Interpreter`.\n",
        "* Kliknij na ikonę `+`, wyszukaj `requests` w wyszukiwarce.\n",
        "* Kliknij `Install Package`.\n",
        "* Po zakończeniu instalacji pakiet będzie widoczny na liście zainstalowanych pakietów.\n",
        "\n",
        "*PyCharm* automatycznie wykorzystuje `pip` do zarządzania pakietami, więc wszystkie zmiany dokonane przez interfejs *PyCharm* są natychmiast odzwierciedlane w środowisku wirtualnym lub globalnym interpreterze Pythona używanym w projekcie. Dzięki tym funkcjom zarządzanie pakietami w *PyCharm* jest intuicyjne i nie wymaga używania linii poleceń, co może być wygodne dla użytkowników preferujących interfejs graficzny."
      ],
      "metadata": {
        "id": "aSTBf0EwUKXL"
      }
    },
    {
      "cell_type": "markdown",
      "source": [
        "# 3.Biblioteki"
      ],
      "metadata": {
        "id": "tT43HLLPVIT5"
      }
    },
    {
      "cell_type": "markdown",
      "source": [
        "Biblioteka w Pythonie to zbiór pakietów, który nie wymaga spełnienia dodatkowych warunków, aby funkcjonować. W przeciwieństwie do pojedynczego pakietu, który jest zorganizowaną strukturą modułów, biblioteka może zawierać wiele pakietów i modułów, dostarczając szeroki zakres funkcji i narzędzi. Standardowa biblioteka Pythona, zawarta bezpośrednio w instalacji języka, obejmuje podstawowy zestaw pakietów dostępnych w katalogu `Lib`. Ta biblioteka dostarcza podstawowe funkcjonalności, takie jak obsługa systemu plików, operacje matematyczne, zarządzanie czasem oraz interakcje z systemem operacyjnym, które są niezbędne do pisania większości aplikacji."
      ],
      "metadata": {
        "id": "WSddxVY1VLC1"
      }
    },
    {
      "cell_type": "markdown",
      "source": [
        "## 3.1.Gdzie szukać pakietów i bibliotek"
      ],
      "metadata": {
        "id": "YIiqSeurXN9L"
      }
    },
    {
      "cell_type": "markdown",
      "source": [
        "`PyPI.org,` czyli *Python Package Index*, to oficjalne repozytorium pakietów dla języka Python. Jest to centralne miejsce, gdzie programiści mogą udostępniać i pobierać tysiące pakietów Pythonowych, co ułatwia współdzielenie kodu i ponowne wykorzystywanie istniejących rozwiązań. **`PyPI` obsługuje narzędzie `pip`, które jest używane do instalowania pakietów bezpośrednio z repozytorium, upraszczając zarządzanie zależnościami i instalację niezbędnych bibliotek.** Platforma umożliwia także przeglądanie dokumentacji, wersji oraz statystyk dotyczących pobierania pakietów, co pomaga programistom w wyborze odpowiednich narzędzi do ich projektów. PyPI.org stanowi nieocenione źródło zasobów dla społeczności Pythona, promując otwarty dostęp do oprogramowania i wspierając rozwój ekosystemu Pythonowego."
      ],
      "metadata": {
        "id": "Eyop9Z-3XTWI"
      }
    },
    {
      "cell_type": "markdown",
      "source": [
        "## 3.1.Biblioteki standardowe"
      ],
      "metadata": {
        "id": "ezU11LYKWYya"
      }
    },
    {
      "cell_type": "markdown",
      "source": [
        "Standardowa biblioteka Pythona zawiera wiele modułów i pakietów, które zapewniają podstawowe funkcjonalności do różnych zadań programistycznych. Oto niektóre z najważniejszych i najczęściej używanych bibliotek w katalogu `Lib`:\n",
        "\n",
        "* `os`: Dostarcza funkcje do interakcji z systemem operacyjnym, takie jak operacje na plikach i katalogach.\n",
        "* `sys`: Umożliwia dostęp do zmiennych i funkcji związanych z interpreterem Pythona.\n",
        "* `math`: Zawiera funkcje matematyczne, takie jak trygonometryczne, logarytmiczne i statystyczne.\n",
        "* `datetime`: Pozwala na manipulowanie datami i czasami.\n",
        "* `json`: Umożliwia kodowanie i dekodowanie danych w formacie JSON.\n",
        "* `re`: Zapewnia funkcje do pracy z wyrażeniami regularnymi.\n",
        "* `subprocess`: Umożliwia uruchamianie nowych procesów, łączenie się z ich wejściem/wyjściem/potokami błędów oraz uzyskiwanie ich kodów powrotu.\n",
        "* `http.client`: Dostarcza interfejs do obsługi HTTP.\n",
        "* `urllib`: Zawiera funkcje do pracy z URL, takie jak pobieranie danych z internetu.\n",
        "* `collections`: Rozszerza wbudowane typy danych o dodatkowe struktury, takie jak `namedtuple`, `deque`, `Counter`, itd.\n",
        "* `itertools`: Zapewnia funkcje do tworzenia iteracji.\n",
        "* `functools`: Zawiera narzędzia do pracy z funkcjami i metodami, takie jak lru_cache, partial.\n",
        "* `random`: Umożliwia generowanie liczb losowych oraz wybór losowych elementów.\n",
        "* `statistics`: Zapewnia funkcje statystyczne, takie jak średnia, mediana, odchylenie standardowe.\n",
        "* `time`: Dostarcza funkcje do pracy z czasem, takie jak opóźnienia, mierzenie czasu wykonania kodu.\n",
        "* `threading`: Umożliwia pracę z wątkami, pozwalając na równoległe wykonywanie kodu.\n",
        "* `socket`: Umożliwia tworzenie i obsługę połączeń sieciowych.\n",
        "\n",
        "Te biblioteki są integralną częścią instalacji Pythona i są dostępne bez konieczności instalowania dodatkowych pakietów. Umożliwiają one realizację szerokiego zakresu zadań programistycznych, od podstawowych operacji na plikach po zaawansowane przetwarzanie danych i komunikację sieciową."
      ],
      "metadata": {
        "id": "DaYUq8bUVc-5"
      }
    },
    {
      "cell_type": "markdown",
      "source": [
        "## 3.2.Popularne biblioteki"
      ],
      "metadata": {
        "id": "UtcWnWhvWctY"
      }
    },
    {
      "cell_type": "markdown",
      "source": [
        "Istnieje szeregg popularnych bibliotek wykorzystywanych w projektach w języku Python."
      ],
      "metadata": {
        "id": "sdUk_RwLW67B"
      }
    },
    {
      "cell_type": "markdown",
      "source": [
        "* `NumPy`: wspiera pracę z tabelami - https://www.w3schools.com/python/numpy/default.asp\n",
        "* `Pandas`: do analizy danych - https://www.w3schools.com/python/pandas/default.asp\n",
        "* `SciPy`: do rozwiązywania problemów naukowych i matematycznych -  https://www.w3schools.com/\n",
        "python/scipy/index.php\n",
        "* `Matplotlib`: tworzenie wykresów - https://www.w3schools.com/python/matplotlib_intro.asp\n",
        "* `Requests`: biblioteka do obsługi protokołu HTTP - https://2.python-requests.org/\n",
        "en/master/\n",
        "* `BeautifulSoup`: parsowanie kodu HTML i XML - https://www.crummy.com/software/BeautifulSoup/\n",
        "bs4/doc/\n",
        "* `IPython`: interpreter poleceń Pythona, rozszerzony o przydatną historię poleceń, autouzupełnianie oraz wiele dodatkowych narzędzi i usprawnień, jak na przykład znacznie prostsze mierzenie czasu wykonania operacji czy aliasy -  https://ipython.org/\n",
        "* `Jupyter`: zbiór narzędzi bazujących na IPhythonie - https://jupyter.org/.\n",
        "* `Black`: formater kodu - https://black.readthedocs.io/.\n",
        "* `SQLAlchemy`: biblioteka do mapowania obiektowo-relacyjnego (ORM) - https://www.sqlalchemy.\n",
        "org/.\n",
        "* `Records`: usprawnia pisanie poleceń SQL - https://pypi.org/project/records/.\n",
        "* `Pipenv`: narzędzie do instalowania pakietów. Tworzy także środowisko wirtualne - https://docs.\n",
        "pipenv.org/.\n",
        "* `pytest`: do testowania kodu - https://pytest.org/.\n",
        "* `Pendulum`: narzędzie do obsługi zmiennych określających datę i czas - https://pendulum.eustace.\n",
        "io/.\n",
        "* `Dash`: tworzenie interaktywnych aplikacji wizualizujących dane uruchamianych jako serwer lokalny. Nie wymaga znajomości JavaScriptu ani nawet zaawansowanego HTMLa - https://dash.plotly.com/\n",
        "* `Pillow`: do przetwarzania danych graficznych - https://pillow.readthedocs.io/.\n",
        "* `Selenium`:  narzędzie dostępne dla wielu języków i technologii, służy do automatyzowania przeglądarek - https://www.seleniumhq.org/.\n",
        "* `NLTK`: zestaw narzędzi przeznaczony do przetwarzania tekstu naturalnego -  https://www.nltk.org/.\n",
        "* `Faker`: generator danych losowych - https://faker.readthedocs.io/\n",
        "* `Validators`: do walidacji danych - https://validators.readthedocs.io/.\n",
        "* `Responder`: alternatywa dla Django Rest Framework lub Flask. Tworzenie prostego API - https: //python-responder.org/.\n",
        "* `Eventlet`: biblioteka do wykonywania równoległych operacji w Pythonie -  http://eventlet.net/.\n",
        "* `Requests-HTML`: połączenie bibliotek `Requests` i `BeautifulSoup` - https://html.python-requests.org/\n",
        "* `Vader`: przetwarzanie języka naturalnego do określenia emocji - https://github.com/cjhutto/vaderSentiment"
      ],
      "metadata": {
        "id": "HTtaCDQUWnkD"
      }
    },
    {
      "cell_type": "markdown",
      "source": [
        "# 4.Biblioteki języka Python: `Pandas`"
      ],
      "metadata": {
        "id": "85l5TN0ebLcW"
      }
    },
    {
      "cell_type": "markdown",
      "source": [
        "`Pandas` to jedna z najpopularniejszych bibliotek w Pythonie, używana do analizy danych. Została stworzona, aby umożliwić łatwe i wydajne przetwarzanie oraz manipulowanie danymi w strukturach podobnych do tabelarycznych, takich jak arkusze kalkulacyjne czy bazy danych. Pandas oferuje dwa główne typy struktur danych: `Series` (jednowymiarowa tablica etykietowanych danych) i `DataFrame `(dwuwymiarowa tabela danych z możliwością etykietowania zarówno wierszy, jak i kolumn).\n",
        "\n",
        "`Pandas` jest szczególnie ceniony za następujące funkcjonalności:\n",
        "\n",
        "* Łatwe ładowanie i zapisywanie danych: Pandas obsługuje wiele formatów plików, takich jak CSV, Excel, SQL, JSON, i wiele innych, co umożliwia szybkie importowanie i eksportowanie danych.\n",
        "* Manipulacja danymi: Biblioteka oferuje zaawansowane metody filtrowania, grupowania, scalania oraz przekształcania danych, co pozwala na skomplikowane operacje na dużych zbiorach danych.\n",
        "* Obsługa brakujących wartości: Pandas ma wbudowane mechanizmy do radzenia sobie z brakującymi danymi, co jest kluczowe w analizie danych.\n",
        "* Integracja z innymi bibliotekami: Pandas świetnie współpracuje z innymi narzędziami do analizy danych w Pythonie, takimi jak `NumPy', `Matplotlib`, `SciPy`, czy `scikit-learn`, co umożliwia tworzenie kompleksowych rozwiązań analitycznych.\n",
        "\n",
        "Dzięki swojej wszechstronności i łatwości użycia, biblioteka `Pandas` stała się nieodłącznym narzędziem w dziedzinach takich jak data science, inżynieria danych oraz analiza biznesowa."
      ],
      "metadata": {
        "id": "kJsHYYkwbQff"
      }
    },
    {
      "cell_type": "markdown",
      "source": [
        "## 4.1. Instalacja biblioteki `Pandas`"
      ],
      "metadata": {
        "id": "P-L97BY1b8Nh"
      }
    },
    {
      "cell_type": "markdown",
      "source": [
        "Aby zainstalować bibliotekę `Pandas` można użyć managera `pip`"
      ],
      "metadata": {
        "id": "bE_UbTfYcSJT"
      }
    },
    {
      "cell_type": "code",
      "source": [
        "pip install pandas"
      ],
      "metadata": {
        "colab": {
          "base_uri": "https://localhost:8080/"
        },
        "id": "Y5S0POJhcS6v",
        "outputId": "cc7651b5-50a1-4bd9-a590-451e6367e86d"
      },
      "execution_count": null,
      "outputs": [
        {
          "output_type": "stream",
          "name": "stdout",
          "text": [
            "Requirement already satisfied: pandas in /usr/local/lib/python3.10/dist-packages (2.0.3)\n",
            "Requirement already satisfied: python-dateutil>=2.8.2 in /usr/local/lib/python3.10/dist-packages (from pandas) (2.8.2)\n",
            "Requirement already satisfied: pytz>=2020.1 in /usr/local/lib/python3.10/dist-packages (from pandas) (2023.4)\n",
            "Requirement already satisfied: tzdata>=2022.1 in /usr/local/lib/python3.10/dist-packages (from pandas) (2024.1)\n",
            "Requirement already satisfied: numpy>=1.21.0 in /usr/local/lib/python3.10/dist-packages (from pandas) (1.25.2)\n",
            "Requirement already satisfied: six>=1.5 in /usr/local/lib/python3.10/dist-packages (from python-dateutil>=2.8.2->pandas) (1.16.0)\n"
          ]
        }
      ]
    },
    {
      "cell_type": "markdown",
      "source": [
        "Bibliotekę 'pandas' można ją dołączyć do własnego kodu za pomocą polecenia\n",
        "\n",
        "`import pandas as pd`\n",
        "\n",
        "Podstawowym typem danych biblioteki `panda`s jest `pandas.DataFrame` który reprezentuje tabelę danych. Pod względem struktury tabele danych przypominają tablice dwuwymiarowe. Kolumny tabeli reprezentują kolejne cechy lub atrybuty, natomiast wiersze reprezentują kolejne obiekty lub próbki."
      ],
      "metadata": {
        "id": "BqpN9LxycE95"
      }
    },
    {
      "cell_type": "markdown",
      "source": [
        "**Przykład**"
      ],
      "metadata": {
        "id": "kRHXFO2Fmc9I"
      }
    },
    {
      "cell_type": "code",
      "source": [
        "import pandas as pd\n",
        "\n",
        "# Tworzenie Series\n",
        "series = pd.Series([1, 2, 3, 4, 5], index=['a', 'b', 'c', 'd', 'e'])\n",
        "print(series)\n",
        "\n",
        "# Tworzenie DataFrame\n",
        "data = {\n",
        "    'Imię': ['Anna', 'Jan', 'Maria'],\n",
        "    'Wiek': [28, 34, 29],\n",
        "    'Miasto': ['Warszawa', 'Kraków', 'Gdańsk']\n",
        "}\n",
        "df = pd.DataFrame(data)\n",
        "print(df)\n",
        "\n",
        "# Filtrowanie danych\n",
        "filtered_df = df[df['Wiek'] > 30]"
      ],
      "metadata": {
        "colab": {
          "base_uri": "https://localhost:8080/"
        },
        "id": "LEPLZg5Ylx2x",
        "outputId": "aad116b5-dd73-48e4-89a1-3463730c27c4"
      },
      "execution_count": null,
      "outputs": [
        {
          "output_type": "stream",
          "name": "stdout",
          "text": [
            "a    1\n",
            "b    2\n",
            "c    3\n",
            "d    4\n",
            "e    5\n",
            "dtype: int64\n",
            "    Imię  Wiek    Miasto\n",
            "0   Anna    28  Warszawa\n",
            "1    Jan    34    Kraków\n",
            "2  Maria    29    Gdańsk\n"
          ]
        }
      ]
    },
    {
      "cell_type": "markdown",
      "source": [
        "**Przykład:** Tworzenie tabeli danych na podstawie słownika"
      ],
      "metadata": {
        "id": "G-q3ixhwcrT0"
      }
    },
    {
      "cell_type": "code",
      "source": [
        "import pandas as pd\n",
        "d = {\n",
        "    'cecha_1': [1, 2, 3, 4],\n",
        "    'cecha_2': [5, 6, 7, 8]\n",
        "    }\n",
        "df = pd.DataFrame(d)\n",
        "df"
      ],
      "metadata": {
        "colab": {
          "base_uri": "https://localhost:8080/",
          "height": 175
        },
        "id": "w59069JXcxd-",
        "outputId": "a47c0b0d-aad6-4371-c282-e697fd14eb37"
      },
      "execution_count": null,
      "outputs": [
        {
          "output_type": "execute_result",
          "data": {
            "text/plain": [
              "   cecha_1  cecha_2\n",
              "0        1        5\n",
              "1        2        6\n",
              "2        3        7\n",
              "3        4        8"
            ],
            "text/html": [
              "\n",
              "  <div id=\"df-ce0e29ae-f164-458b-b4cd-dc22c7bf815b\" class=\"colab-df-container\">\n",
              "    <div>\n",
              "<style scoped>\n",
              "    .dataframe tbody tr th:only-of-type {\n",
              "        vertical-align: middle;\n",
              "    }\n",
              "\n",
              "    .dataframe tbody tr th {\n",
              "        vertical-align: top;\n",
              "    }\n",
              "\n",
              "    .dataframe thead th {\n",
              "        text-align: right;\n",
              "    }\n",
              "</style>\n",
              "<table border=\"1\" class=\"dataframe\">\n",
              "  <thead>\n",
              "    <tr style=\"text-align: right;\">\n",
              "      <th></th>\n",
              "      <th>cecha_1</th>\n",
              "      <th>cecha_2</th>\n",
              "    </tr>\n",
              "  </thead>\n",
              "  <tbody>\n",
              "    <tr>\n",
              "      <th>0</th>\n",
              "      <td>1</td>\n",
              "      <td>5</td>\n",
              "    </tr>\n",
              "    <tr>\n",
              "      <th>1</th>\n",
              "      <td>2</td>\n",
              "      <td>6</td>\n",
              "    </tr>\n",
              "    <tr>\n",
              "      <th>2</th>\n",
              "      <td>3</td>\n",
              "      <td>7</td>\n",
              "    </tr>\n",
              "    <tr>\n",
              "      <th>3</th>\n",
              "      <td>4</td>\n",
              "      <td>8</td>\n",
              "    </tr>\n",
              "  </tbody>\n",
              "</table>\n",
              "</div>\n",
              "    <div class=\"colab-df-buttons\">\n",
              "\n",
              "  <div class=\"colab-df-container\">\n",
              "    <button class=\"colab-df-convert\" onclick=\"convertToInteractive('df-ce0e29ae-f164-458b-b4cd-dc22c7bf815b')\"\n",
              "            title=\"Convert this dataframe to an interactive table.\"\n",
              "            style=\"display:none;\">\n",
              "\n",
              "  <svg xmlns=\"http://www.w3.org/2000/svg\" height=\"24px\" viewBox=\"0 -960 960 960\">\n",
              "    <path d=\"M120-120v-720h720v720H120Zm60-500h600v-160H180v160Zm220 220h160v-160H400v160Zm0 220h160v-160H400v160ZM180-400h160v-160H180v160Zm440 0h160v-160H620v160ZM180-180h160v-160H180v160Zm440 0h160v-160H620v160Z\"/>\n",
              "  </svg>\n",
              "    </button>\n",
              "\n",
              "  <style>\n",
              "    .colab-df-container {\n",
              "      display:flex;\n",
              "      gap: 12px;\n",
              "    }\n",
              "\n",
              "    .colab-df-convert {\n",
              "      background-color: #E8F0FE;\n",
              "      border: none;\n",
              "      border-radius: 50%;\n",
              "      cursor: pointer;\n",
              "      display: none;\n",
              "      fill: #1967D2;\n",
              "      height: 32px;\n",
              "      padding: 0 0 0 0;\n",
              "      width: 32px;\n",
              "    }\n",
              "\n",
              "    .colab-df-convert:hover {\n",
              "      background-color: #E2EBFA;\n",
              "      box-shadow: 0px 1px 2px rgba(60, 64, 67, 0.3), 0px 1px 3px 1px rgba(60, 64, 67, 0.15);\n",
              "      fill: #174EA6;\n",
              "    }\n",
              "\n",
              "    .colab-df-buttons div {\n",
              "      margin-bottom: 4px;\n",
              "    }\n",
              "\n",
              "    [theme=dark] .colab-df-convert {\n",
              "      background-color: #3B4455;\n",
              "      fill: #D2E3FC;\n",
              "    }\n",
              "\n",
              "    [theme=dark] .colab-df-convert:hover {\n",
              "      background-color: #434B5C;\n",
              "      box-shadow: 0px 1px 3px 1px rgba(0, 0, 0, 0.15);\n",
              "      filter: drop-shadow(0px 1px 2px rgba(0, 0, 0, 0.3));\n",
              "      fill: #FFFFFF;\n",
              "    }\n",
              "  </style>\n",
              "\n",
              "    <script>\n",
              "      const buttonEl =\n",
              "        document.querySelector('#df-ce0e29ae-f164-458b-b4cd-dc22c7bf815b button.colab-df-convert');\n",
              "      buttonEl.style.display =\n",
              "        google.colab.kernel.accessAllowed ? 'block' : 'none';\n",
              "\n",
              "      async function convertToInteractive(key) {\n",
              "        const element = document.querySelector('#df-ce0e29ae-f164-458b-b4cd-dc22c7bf815b');\n",
              "        const dataTable =\n",
              "          await google.colab.kernel.invokeFunction('convertToInteractive',\n",
              "                                                    [key], {});\n",
              "        if (!dataTable) return;\n",
              "\n",
              "        const docLinkHtml = 'Like what you see? Visit the ' +\n",
              "          '<a target=\"_blank\" href=https://colab.research.google.com/notebooks/data_table.ipynb>data table notebook</a>'\n",
              "          + ' to learn more about interactive tables.';\n",
              "        element.innerHTML = '';\n",
              "        dataTable['output_type'] = 'display_data';\n",
              "        await google.colab.output.renderOutput(dataTable, element);\n",
              "        const docLink = document.createElement('div');\n",
              "        docLink.innerHTML = docLinkHtml;\n",
              "        element.appendChild(docLink);\n",
              "      }\n",
              "    </script>\n",
              "  </div>\n",
              "\n",
              "\n",
              "<div id=\"df-20f556f0-376c-4831-bc6c-3f413f74da9f\">\n",
              "  <button class=\"colab-df-quickchart\" onclick=\"quickchart('df-20f556f0-376c-4831-bc6c-3f413f74da9f')\"\n",
              "            title=\"Suggest charts\"\n",
              "            style=\"display:none;\">\n",
              "\n",
              "<svg xmlns=\"http://www.w3.org/2000/svg\" height=\"24px\"viewBox=\"0 0 24 24\"\n",
              "     width=\"24px\">\n",
              "    <g>\n",
              "        <path d=\"M19 3H5c-1.1 0-2 .9-2 2v14c0 1.1.9 2 2 2h14c1.1 0 2-.9 2-2V5c0-1.1-.9-2-2-2zM9 17H7v-7h2v7zm4 0h-2V7h2v10zm4 0h-2v-4h2v4z\"/>\n",
              "    </g>\n",
              "</svg>\n",
              "  </button>\n",
              "\n",
              "<style>\n",
              "  .colab-df-quickchart {\n",
              "      --bg-color: #E8F0FE;\n",
              "      --fill-color: #1967D2;\n",
              "      --hover-bg-color: #E2EBFA;\n",
              "      --hover-fill-color: #174EA6;\n",
              "      --disabled-fill-color: #AAA;\n",
              "      --disabled-bg-color: #DDD;\n",
              "  }\n",
              "\n",
              "  [theme=dark] .colab-df-quickchart {\n",
              "      --bg-color: #3B4455;\n",
              "      --fill-color: #D2E3FC;\n",
              "      --hover-bg-color: #434B5C;\n",
              "      --hover-fill-color: #FFFFFF;\n",
              "      --disabled-bg-color: #3B4455;\n",
              "      --disabled-fill-color: #666;\n",
              "  }\n",
              "\n",
              "  .colab-df-quickchart {\n",
              "    background-color: var(--bg-color);\n",
              "    border: none;\n",
              "    border-radius: 50%;\n",
              "    cursor: pointer;\n",
              "    display: none;\n",
              "    fill: var(--fill-color);\n",
              "    height: 32px;\n",
              "    padding: 0;\n",
              "    width: 32px;\n",
              "  }\n",
              "\n",
              "  .colab-df-quickchart:hover {\n",
              "    background-color: var(--hover-bg-color);\n",
              "    box-shadow: 0 1px 2px rgba(60, 64, 67, 0.3), 0 1px 3px 1px rgba(60, 64, 67, 0.15);\n",
              "    fill: var(--button-hover-fill-color);\n",
              "  }\n",
              "\n",
              "  .colab-df-quickchart-complete:disabled,\n",
              "  .colab-df-quickchart-complete:disabled:hover {\n",
              "    background-color: var(--disabled-bg-color);\n",
              "    fill: var(--disabled-fill-color);\n",
              "    box-shadow: none;\n",
              "  }\n",
              "\n",
              "  .colab-df-spinner {\n",
              "    border: 2px solid var(--fill-color);\n",
              "    border-color: transparent;\n",
              "    border-bottom-color: var(--fill-color);\n",
              "    animation:\n",
              "      spin 1s steps(1) infinite;\n",
              "  }\n",
              "\n",
              "  @keyframes spin {\n",
              "    0% {\n",
              "      border-color: transparent;\n",
              "      border-bottom-color: var(--fill-color);\n",
              "      border-left-color: var(--fill-color);\n",
              "    }\n",
              "    20% {\n",
              "      border-color: transparent;\n",
              "      border-left-color: var(--fill-color);\n",
              "      border-top-color: var(--fill-color);\n",
              "    }\n",
              "    30% {\n",
              "      border-color: transparent;\n",
              "      border-left-color: var(--fill-color);\n",
              "      border-top-color: var(--fill-color);\n",
              "      border-right-color: var(--fill-color);\n",
              "    }\n",
              "    40% {\n",
              "      border-color: transparent;\n",
              "      border-right-color: var(--fill-color);\n",
              "      border-top-color: var(--fill-color);\n",
              "    }\n",
              "    60% {\n",
              "      border-color: transparent;\n",
              "      border-right-color: var(--fill-color);\n",
              "    }\n",
              "    80% {\n",
              "      border-color: transparent;\n",
              "      border-right-color: var(--fill-color);\n",
              "      border-bottom-color: var(--fill-color);\n",
              "    }\n",
              "    90% {\n",
              "      border-color: transparent;\n",
              "      border-bottom-color: var(--fill-color);\n",
              "    }\n",
              "  }\n",
              "</style>\n",
              "\n",
              "  <script>\n",
              "    async function quickchart(key) {\n",
              "      const quickchartButtonEl =\n",
              "        document.querySelector('#' + key + ' button');\n",
              "      quickchartButtonEl.disabled = true;  // To prevent multiple clicks.\n",
              "      quickchartButtonEl.classList.add('colab-df-spinner');\n",
              "      try {\n",
              "        const charts = await google.colab.kernel.invokeFunction(\n",
              "            'suggestCharts', [key], {});\n",
              "      } catch (error) {\n",
              "        console.error('Error during call to suggestCharts:', error);\n",
              "      }\n",
              "      quickchartButtonEl.classList.remove('colab-df-spinner');\n",
              "      quickchartButtonEl.classList.add('colab-df-quickchart-complete');\n",
              "    }\n",
              "    (() => {\n",
              "      let quickchartButtonEl =\n",
              "        document.querySelector('#df-20f556f0-376c-4831-bc6c-3f413f74da9f button');\n",
              "      quickchartButtonEl.style.display =\n",
              "        google.colab.kernel.accessAllowed ? 'block' : 'none';\n",
              "    })();\n",
              "  </script>\n",
              "</div>\n",
              "    </div>\n",
              "  </div>\n"
            ],
            "application/vnd.google.colaboratory.intrinsic+json": {
              "type": "dataframe",
              "variable_name": "df",
              "summary": "{\n  \"name\": \"df\",\n  \"rows\": 4,\n  \"fields\": [\n    {\n      \"column\": \"cecha_1\",\n      \"properties\": {\n        \"dtype\": \"number\",\n        \"std\": 1,\n        \"min\": 1,\n        \"max\": 4,\n        \"num_unique_values\": 4,\n        \"samples\": [\n          2,\n          4,\n          1\n        ],\n        \"semantic_type\": \"\",\n        \"description\": \"\"\n      }\n    },\n    {\n      \"column\": \"cecha_2\",\n      \"properties\": {\n        \"dtype\": \"number\",\n        \"std\": 1,\n        \"min\": 5,\n        \"max\": 8,\n        \"num_unique_values\": 4,\n        \"samples\": [\n          6,\n          8,\n          5\n        ],\n        \"semantic_type\": \"\",\n        \"description\": \"\"\n      }\n    }\n  ]\n}"
            }
          },
          "metadata": {},
          "execution_count": 5
        }
      ]
    },
    {
      "cell_type": "markdown",
      "source": [
        "**Przyklad:** Tworzenie tabeli na podstawie tablicy wielowymiarowej"
      ],
      "metadata": {
        "id": "Ct1CcvKDk1X-"
      }
    },
    {
      "cell_type": "code",
      "source": [
        "import numpy as np\n",
        "\n",
        "# Definiowanie macierzy a\n",
        "a = np.array([\n",
        "    [85, 44, 75, 14],\n",
        "    [47, 11, 25, 37],\n",
        "    [61, 70, 83, 36],\n",
        "    [38, 88, 45, 93],\n",
        "    [44, 71, 78, 17],\n",
        "    [11, 51, 45, 66],\n",
        "    [48, 76, 40, 12]\n",
        "])\n",
        "#lista zawierająca nazwy wierszy\n",
        "ind=['p1','p2','p3','p4','p5','p6','p7']\n",
        "#lista zawierająca nazwy kolumn\n",
        "cols=['c1','c2','c3','c4']\n",
        "#tworzenie tabeli\n",
        "df = pd.DataFrame(a, columns=cols, index=ind)\n",
        "df"
      ],
      "metadata": {
        "colab": {
          "base_uri": "https://localhost:8080/",
          "height": 269
        },
        "id": "UX3i2HSCm3sj",
        "outputId": "e2e04761-201c-4749-b5be-8dfebb5b98c2"
      },
      "execution_count": null,
      "outputs": [
        {
          "output_type": "execute_result",
          "data": {
            "text/plain": [
              "    c1  c2  c3  c4\n",
              "p1  85  44  75  14\n",
              "p2  47  11  25  37\n",
              "p3  61  70  83  36\n",
              "p4  38  88  45  93\n",
              "p5  44  71  78  17\n",
              "p6  11  51  45  66\n",
              "p7  48  76  40  12"
            ],
            "text/html": [
              "\n",
              "  <div id=\"df-58223236-342c-4609-aba3-adfb636f6440\" class=\"colab-df-container\">\n",
              "    <div>\n",
              "<style scoped>\n",
              "    .dataframe tbody tr th:only-of-type {\n",
              "        vertical-align: middle;\n",
              "    }\n",
              "\n",
              "    .dataframe tbody tr th {\n",
              "        vertical-align: top;\n",
              "    }\n",
              "\n",
              "    .dataframe thead th {\n",
              "        text-align: right;\n",
              "    }\n",
              "</style>\n",
              "<table border=\"1\" class=\"dataframe\">\n",
              "  <thead>\n",
              "    <tr style=\"text-align: right;\">\n",
              "      <th></th>\n",
              "      <th>c1</th>\n",
              "      <th>c2</th>\n",
              "      <th>c3</th>\n",
              "      <th>c4</th>\n",
              "    </tr>\n",
              "  </thead>\n",
              "  <tbody>\n",
              "    <tr>\n",
              "      <th>p1</th>\n",
              "      <td>85</td>\n",
              "      <td>44</td>\n",
              "      <td>75</td>\n",
              "      <td>14</td>\n",
              "    </tr>\n",
              "    <tr>\n",
              "      <th>p2</th>\n",
              "      <td>47</td>\n",
              "      <td>11</td>\n",
              "      <td>25</td>\n",
              "      <td>37</td>\n",
              "    </tr>\n",
              "    <tr>\n",
              "      <th>p3</th>\n",
              "      <td>61</td>\n",
              "      <td>70</td>\n",
              "      <td>83</td>\n",
              "      <td>36</td>\n",
              "    </tr>\n",
              "    <tr>\n",
              "      <th>p4</th>\n",
              "      <td>38</td>\n",
              "      <td>88</td>\n",
              "      <td>45</td>\n",
              "      <td>93</td>\n",
              "    </tr>\n",
              "    <tr>\n",
              "      <th>p5</th>\n",
              "      <td>44</td>\n",
              "      <td>71</td>\n",
              "      <td>78</td>\n",
              "      <td>17</td>\n",
              "    </tr>\n",
              "    <tr>\n",
              "      <th>p6</th>\n",
              "      <td>11</td>\n",
              "      <td>51</td>\n",
              "      <td>45</td>\n",
              "      <td>66</td>\n",
              "    </tr>\n",
              "    <tr>\n",
              "      <th>p7</th>\n",
              "      <td>48</td>\n",
              "      <td>76</td>\n",
              "      <td>40</td>\n",
              "      <td>12</td>\n",
              "    </tr>\n",
              "  </tbody>\n",
              "</table>\n",
              "</div>\n",
              "    <div class=\"colab-df-buttons\">\n",
              "\n",
              "  <div class=\"colab-df-container\">\n",
              "    <button class=\"colab-df-convert\" onclick=\"convertToInteractive('df-58223236-342c-4609-aba3-adfb636f6440')\"\n",
              "            title=\"Convert this dataframe to an interactive table.\"\n",
              "            style=\"display:none;\">\n",
              "\n",
              "  <svg xmlns=\"http://www.w3.org/2000/svg\" height=\"24px\" viewBox=\"0 -960 960 960\">\n",
              "    <path d=\"M120-120v-720h720v720H120Zm60-500h600v-160H180v160Zm220 220h160v-160H400v160Zm0 220h160v-160H400v160ZM180-400h160v-160H180v160Zm440 0h160v-160H620v160ZM180-180h160v-160H180v160Zm440 0h160v-160H620v160Z\"/>\n",
              "  </svg>\n",
              "    </button>\n",
              "\n",
              "  <style>\n",
              "    .colab-df-container {\n",
              "      display:flex;\n",
              "      gap: 12px;\n",
              "    }\n",
              "\n",
              "    .colab-df-convert {\n",
              "      background-color: #E8F0FE;\n",
              "      border: none;\n",
              "      border-radius: 50%;\n",
              "      cursor: pointer;\n",
              "      display: none;\n",
              "      fill: #1967D2;\n",
              "      height: 32px;\n",
              "      padding: 0 0 0 0;\n",
              "      width: 32px;\n",
              "    }\n",
              "\n",
              "    .colab-df-convert:hover {\n",
              "      background-color: #E2EBFA;\n",
              "      box-shadow: 0px 1px 2px rgba(60, 64, 67, 0.3), 0px 1px 3px 1px rgba(60, 64, 67, 0.15);\n",
              "      fill: #174EA6;\n",
              "    }\n",
              "\n",
              "    .colab-df-buttons div {\n",
              "      margin-bottom: 4px;\n",
              "    }\n",
              "\n",
              "    [theme=dark] .colab-df-convert {\n",
              "      background-color: #3B4455;\n",
              "      fill: #D2E3FC;\n",
              "    }\n",
              "\n",
              "    [theme=dark] .colab-df-convert:hover {\n",
              "      background-color: #434B5C;\n",
              "      box-shadow: 0px 1px 3px 1px rgba(0, 0, 0, 0.15);\n",
              "      filter: drop-shadow(0px 1px 2px rgba(0, 0, 0, 0.3));\n",
              "      fill: #FFFFFF;\n",
              "    }\n",
              "  </style>\n",
              "\n",
              "    <script>\n",
              "      const buttonEl =\n",
              "        document.querySelector('#df-58223236-342c-4609-aba3-adfb636f6440 button.colab-df-convert');\n",
              "      buttonEl.style.display =\n",
              "        google.colab.kernel.accessAllowed ? 'block' : 'none';\n",
              "\n",
              "      async function convertToInteractive(key) {\n",
              "        const element = document.querySelector('#df-58223236-342c-4609-aba3-adfb636f6440');\n",
              "        const dataTable =\n",
              "          await google.colab.kernel.invokeFunction('convertToInteractive',\n",
              "                                                    [key], {});\n",
              "        if (!dataTable) return;\n",
              "\n",
              "        const docLinkHtml = 'Like what you see? Visit the ' +\n",
              "          '<a target=\"_blank\" href=https://colab.research.google.com/notebooks/data_table.ipynb>data table notebook</a>'\n",
              "          + ' to learn more about interactive tables.';\n",
              "        element.innerHTML = '';\n",
              "        dataTable['output_type'] = 'display_data';\n",
              "        await google.colab.output.renderOutput(dataTable, element);\n",
              "        const docLink = document.createElement('div');\n",
              "        docLink.innerHTML = docLinkHtml;\n",
              "        element.appendChild(docLink);\n",
              "      }\n",
              "    </script>\n",
              "  </div>\n",
              "\n",
              "\n",
              "<div id=\"df-bb471349-6c49-45ea-a593-498e92593095\">\n",
              "  <button class=\"colab-df-quickchart\" onclick=\"quickchart('df-bb471349-6c49-45ea-a593-498e92593095')\"\n",
              "            title=\"Suggest charts\"\n",
              "            style=\"display:none;\">\n",
              "\n",
              "<svg xmlns=\"http://www.w3.org/2000/svg\" height=\"24px\"viewBox=\"0 0 24 24\"\n",
              "     width=\"24px\">\n",
              "    <g>\n",
              "        <path d=\"M19 3H5c-1.1 0-2 .9-2 2v14c0 1.1.9 2 2 2h14c1.1 0 2-.9 2-2V5c0-1.1-.9-2-2-2zM9 17H7v-7h2v7zm4 0h-2V7h2v10zm4 0h-2v-4h2v4z\"/>\n",
              "    </g>\n",
              "</svg>\n",
              "  </button>\n",
              "\n",
              "<style>\n",
              "  .colab-df-quickchart {\n",
              "      --bg-color: #E8F0FE;\n",
              "      --fill-color: #1967D2;\n",
              "      --hover-bg-color: #E2EBFA;\n",
              "      --hover-fill-color: #174EA6;\n",
              "      --disabled-fill-color: #AAA;\n",
              "      --disabled-bg-color: #DDD;\n",
              "  }\n",
              "\n",
              "  [theme=dark] .colab-df-quickchart {\n",
              "      --bg-color: #3B4455;\n",
              "      --fill-color: #D2E3FC;\n",
              "      --hover-bg-color: #434B5C;\n",
              "      --hover-fill-color: #FFFFFF;\n",
              "      --disabled-bg-color: #3B4455;\n",
              "      --disabled-fill-color: #666;\n",
              "  }\n",
              "\n",
              "  .colab-df-quickchart {\n",
              "    background-color: var(--bg-color);\n",
              "    border: none;\n",
              "    border-radius: 50%;\n",
              "    cursor: pointer;\n",
              "    display: none;\n",
              "    fill: var(--fill-color);\n",
              "    height: 32px;\n",
              "    padding: 0;\n",
              "    width: 32px;\n",
              "  }\n",
              "\n",
              "  .colab-df-quickchart:hover {\n",
              "    background-color: var(--hover-bg-color);\n",
              "    box-shadow: 0 1px 2px rgba(60, 64, 67, 0.3), 0 1px 3px 1px rgba(60, 64, 67, 0.15);\n",
              "    fill: var(--button-hover-fill-color);\n",
              "  }\n",
              "\n",
              "  .colab-df-quickchart-complete:disabled,\n",
              "  .colab-df-quickchart-complete:disabled:hover {\n",
              "    background-color: var(--disabled-bg-color);\n",
              "    fill: var(--disabled-fill-color);\n",
              "    box-shadow: none;\n",
              "  }\n",
              "\n",
              "  .colab-df-spinner {\n",
              "    border: 2px solid var(--fill-color);\n",
              "    border-color: transparent;\n",
              "    border-bottom-color: var(--fill-color);\n",
              "    animation:\n",
              "      spin 1s steps(1) infinite;\n",
              "  }\n",
              "\n",
              "  @keyframes spin {\n",
              "    0% {\n",
              "      border-color: transparent;\n",
              "      border-bottom-color: var(--fill-color);\n",
              "      border-left-color: var(--fill-color);\n",
              "    }\n",
              "    20% {\n",
              "      border-color: transparent;\n",
              "      border-left-color: var(--fill-color);\n",
              "      border-top-color: var(--fill-color);\n",
              "    }\n",
              "    30% {\n",
              "      border-color: transparent;\n",
              "      border-left-color: var(--fill-color);\n",
              "      border-top-color: var(--fill-color);\n",
              "      border-right-color: var(--fill-color);\n",
              "    }\n",
              "    40% {\n",
              "      border-color: transparent;\n",
              "      border-right-color: var(--fill-color);\n",
              "      border-top-color: var(--fill-color);\n",
              "    }\n",
              "    60% {\n",
              "      border-color: transparent;\n",
              "      border-right-color: var(--fill-color);\n",
              "    }\n",
              "    80% {\n",
              "      border-color: transparent;\n",
              "      border-right-color: var(--fill-color);\n",
              "      border-bottom-color: var(--fill-color);\n",
              "    }\n",
              "    90% {\n",
              "      border-color: transparent;\n",
              "      border-bottom-color: var(--fill-color);\n",
              "    }\n",
              "  }\n",
              "</style>\n",
              "\n",
              "  <script>\n",
              "    async function quickchart(key) {\n",
              "      const quickchartButtonEl =\n",
              "        document.querySelector('#' + key + ' button');\n",
              "      quickchartButtonEl.disabled = true;  // To prevent multiple clicks.\n",
              "      quickchartButtonEl.classList.add('colab-df-spinner');\n",
              "      try {\n",
              "        const charts = await google.colab.kernel.invokeFunction(\n",
              "            'suggestCharts', [key], {});\n",
              "      } catch (error) {\n",
              "        console.error('Error during call to suggestCharts:', error);\n",
              "      }\n",
              "      quickchartButtonEl.classList.remove('colab-df-spinner');\n",
              "      quickchartButtonEl.classList.add('colab-df-quickchart-complete');\n",
              "    }\n",
              "    (() => {\n",
              "      let quickchartButtonEl =\n",
              "        document.querySelector('#df-bb471349-6c49-45ea-a593-498e92593095 button');\n",
              "      quickchartButtonEl.style.display =\n",
              "        google.colab.kernel.accessAllowed ? 'block' : 'none';\n",
              "    })();\n",
              "  </script>\n",
              "</div>\n",
              "    </div>\n",
              "  </div>\n"
            ],
            "application/vnd.google.colaboratory.intrinsic+json": {
              "type": "dataframe",
              "variable_name": "df",
              "summary": "{\n  \"name\": \"df\",\n  \"rows\": 7,\n  \"fields\": [\n    {\n      \"column\": \"c1\",\n      \"properties\": {\n        \"dtype\": \"number\",\n        \"std\": 22,\n        \"min\": 11,\n        \"max\": 85,\n        \"num_unique_values\": 7,\n        \"samples\": [\n          85,\n          47,\n          11\n        ],\n        \"semantic_type\": \"\",\n        \"description\": \"\"\n      }\n    },\n    {\n      \"column\": \"c2\",\n      \"properties\": {\n        \"dtype\": \"number\",\n        \"std\": 25,\n        \"min\": 11,\n        \"max\": 88,\n        \"num_unique_values\": 7,\n        \"samples\": [\n          44,\n          11,\n          51\n        ],\n        \"semantic_type\": \"\",\n        \"description\": \"\"\n      }\n    },\n    {\n      \"column\": \"c3\",\n      \"properties\": {\n        \"dtype\": \"number\",\n        \"std\": 22,\n        \"min\": 25,\n        \"max\": 83,\n        \"num_unique_values\": 6,\n        \"samples\": [\n          75,\n          25,\n          40\n        ],\n        \"semantic_type\": \"\",\n        \"description\": \"\"\n      }\n    },\n    {\n      \"column\": \"c4\",\n      \"properties\": {\n        \"dtype\": \"number\",\n        \"std\": 30,\n        \"min\": 12,\n        \"max\": 93,\n        \"num_unique_values\": 7,\n        \"samples\": [\n          14,\n          37,\n          66\n        ],\n        \"semantic_type\": \"\",\n        \"description\": \"\"\n      }\n    }\n  ]\n}"
            }
          },
          "metadata": {},
          "execution_count": 19
        }
      ]
    },
    {
      "cell_type": "markdown",
      "source": [
        "## 4.2. Wczytywanie danych z pliku .csv"
      ],
      "metadata": {
        "id": "BKJ7trDwu7qe"
      }
    },
    {
      "cell_type": "markdown",
      "source": [
        "**Przykład**"
      ],
      "metadata": {
        "id": "sBwkJaZAoG4Z"
      }
    },
    {
      "cell_type": "code",
      "source": [
        "'''zawartość pliku file.csv\n",
        "85; 44; 75; 14\n",
        "47; 11; 25; 37\n",
        "61; 70; 83; 36\n",
        "38; 88; 45; 93\n",
        "44; 71; 78; 17\n",
        "11; 51; 45; 66'''\n",
        "#wczytywanie danych z pliku .csv\n",
        "df = pd.read_csv('/content/drive/MyDrive/Colab Notebooks/file.csv', sep = ';', header=0, names=['c1','c2','c3','c4'])\n",
        "row_names = ['p1', 'p2', 'p3', 'p4', 'p5']\n",
        "df.index = row_names\n",
        "df"
      ],
      "metadata": {
        "colab": {
          "base_uri": "https://localhost:8080/",
          "height": 206
        },
        "id": "gscSqkEFoIlZ",
        "outputId": "40678d8c-28da-4ae1-cb3a-291d67a0d81d"
      },
      "execution_count": null,
      "outputs": [
        {
          "output_type": "execute_result",
          "data": {
            "text/plain": [
              "    c1  c2  c3  c4\n",
              "p1  47  11  25  37\n",
              "p2  61  70  83  36\n",
              "p3  38  88  45  93\n",
              "p4  44  71  78  17\n",
              "p5  11  51  45  66"
            ],
            "text/html": [
              "\n",
              "  <div id=\"df-2f24b66d-0583-44bd-964f-308015c0c2d2\" class=\"colab-df-container\">\n",
              "    <div>\n",
              "<style scoped>\n",
              "    .dataframe tbody tr th:only-of-type {\n",
              "        vertical-align: middle;\n",
              "    }\n",
              "\n",
              "    .dataframe tbody tr th {\n",
              "        vertical-align: top;\n",
              "    }\n",
              "\n",
              "    .dataframe thead th {\n",
              "        text-align: right;\n",
              "    }\n",
              "</style>\n",
              "<table border=\"1\" class=\"dataframe\">\n",
              "  <thead>\n",
              "    <tr style=\"text-align: right;\">\n",
              "      <th></th>\n",
              "      <th>c1</th>\n",
              "      <th>c2</th>\n",
              "      <th>c3</th>\n",
              "      <th>c4</th>\n",
              "    </tr>\n",
              "  </thead>\n",
              "  <tbody>\n",
              "    <tr>\n",
              "      <th>p1</th>\n",
              "      <td>47</td>\n",
              "      <td>11</td>\n",
              "      <td>25</td>\n",
              "      <td>37</td>\n",
              "    </tr>\n",
              "    <tr>\n",
              "      <th>p2</th>\n",
              "      <td>61</td>\n",
              "      <td>70</td>\n",
              "      <td>83</td>\n",
              "      <td>36</td>\n",
              "    </tr>\n",
              "    <tr>\n",
              "      <th>p3</th>\n",
              "      <td>38</td>\n",
              "      <td>88</td>\n",
              "      <td>45</td>\n",
              "      <td>93</td>\n",
              "    </tr>\n",
              "    <tr>\n",
              "      <th>p4</th>\n",
              "      <td>44</td>\n",
              "      <td>71</td>\n",
              "      <td>78</td>\n",
              "      <td>17</td>\n",
              "    </tr>\n",
              "    <tr>\n",
              "      <th>p5</th>\n",
              "      <td>11</td>\n",
              "      <td>51</td>\n",
              "      <td>45</td>\n",
              "      <td>66</td>\n",
              "    </tr>\n",
              "  </tbody>\n",
              "</table>\n",
              "</div>\n",
              "    <div class=\"colab-df-buttons\">\n",
              "\n",
              "  <div class=\"colab-df-container\">\n",
              "    <button class=\"colab-df-convert\" onclick=\"convertToInteractive('df-2f24b66d-0583-44bd-964f-308015c0c2d2')\"\n",
              "            title=\"Convert this dataframe to an interactive table.\"\n",
              "            style=\"display:none;\">\n",
              "\n",
              "  <svg xmlns=\"http://www.w3.org/2000/svg\" height=\"24px\" viewBox=\"0 -960 960 960\">\n",
              "    <path d=\"M120-120v-720h720v720H120Zm60-500h600v-160H180v160Zm220 220h160v-160H400v160Zm0 220h160v-160H400v160ZM180-400h160v-160H180v160Zm440 0h160v-160H620v160ZM180-180h160v-160H180v160Zm440 0h160v-160H620v160Z\"/>\n",
              "  </svg>\n",
              "    </button>\n",
              "\n",
              "  <style>\n",
              "    .colab-df-container {\n",
              "      display:flex;\n",
              "      gap: 12px;\n",
              "    }\n",
              "\n",
              "    .colab-df-convert {\n",
              "      background-color: #E8F0FE;\n",
              "      border: none;\n",
              "      border-radius: 50%;\n",
              "      cursor: pointer;\n",
              "      display: none;\n",
              "      fill: #1967D2;\n",
              "      height: 32px;\n",
              "      padding: 0 0 0 0;\n",
              "      width: 32px;\n",
              "    }\n",
              "\n",
              "    .colab-df-convert:hover {\n",
              "      background-color: #E2EBFA;\n",
              "      box-shadow: 0px 1px 2px rgba(60, 64, 67, 0.3), 0px 1px 3px 1px rgba(60, 64, 67, 0.15);\n",
              "      fill: #174EA6;\n",
              "    }\n",
              "\n",
              "    .colab-df-buttons div {\n",
              "      margin-bottom: 4px;\n",
              "    }\n",
              "\n",
              "    [theme=dark] .colab-df-convert {\n",
              "      background-color: #3B4455;\n",
              "      fill: #D2E3FC;\n",
              "    }\n",
              "\n",
              "    [theme=dark] .colab-df-convert:hover {\n",
              "      background-color: #434B5C;\n",
              "      box-shadow: 0px 1px 3px 1px rgba(0, 0, 0, 0.15);\n",
              "      filter: drop-shadow(0px 1px 2px rgba(0, 0, 0, 0.3));\n",
              "      fill: #FFFFFF;\n",
              "    }\n",
              "  </style>\n",
              "\n",
              "    <script>\n",
              "      const buttonEl =\n",
              "        document.querySelector('#df-2f24b66d-0583-44bd-964f-308015c0c2d2 button.colab-df-convert');\n",
              "      buttonEl.style.display =\n",
              "        google.colab.kernel.accessAllowed ? 'block' : 'none';\n",
              "\n",
              "      async function convertToInteractive(key) {\n",
              "        const element = document.querySelector('#df-2f24b66d-0583-44bd-964f-308015c0c2d2');\n",
              "        const dataTable =\n",
              "          await google.colab.kernel.invokeFunction('convertToInteractive',\n",
              "                                                    [key], {});\n",
              "        if (!dataTable) return;\n",
              "\n",
              "        const docLinkHtml = 'Like what you see? Visit the ' +\n",
              "          '<a target=\"_blank\" href=https://colab.research.google.com/notebooks/data_table.ipynb>data table notebook</a>'\n",
              "          + ' to learn more about interactive tables.';\n",
              "        element.innerHTML = '';\n",
              "        dataTable['output_type'] = 'display_data';\n",
              "        await google.colab.output.renderOutput(dataTable, element);\n",
              "        const docLink = document.createElement('div');\n",
              "        docLink.innerHTML = docLinkHtml;\n",
              "        element.appendChild(docLink);\n",
              "      }\n",
              "    </script>\n",
              "  </div>\n",
              "\n",
              "\n",
              "<div id=\"df-824f76cf-c08e-42dd-830a-926386996480\">\n",
              "  <button class=\"colab-df-quickchart\" onclick=\"quickchart('df-824f76cf-c08e-42dd-830a-926386996480')\"\n",
              "            title=\"Suggest charts\"\n",
              "            style=\"display:none;\">\n",
              "\n",
              "<svg xmlns=\"http://www.w3.org/2000/svg\" height=\"24px\"viewBox=\"0 0 24 24\"\n",
              "     width=\"24px\">\n",
              "    <g>\n",
              "        <path d=\"M19 3H5c-1.1 0-2 .9-2 2v14c0 1.1.9 2 2 2h14c1.1 0 2-.9 2-2V5c0-1.1-.9-2-2-2zM9 17H7v-7h2v7zm4 0h-2V7h2v10zm4 0h-2v-4h2v4z\"/>\n",
              "    </g>\n",
              "</svg>\n",
              "  </button>\n",
              "\n",
              "<style>\n",
              "  .colab-df-quickchart {\n",
              "      --bg-color: #E8F0FE;\n",
              "      --fill-color: #1967D2;\n",
              "      --hover-bg-color: #E2EBFA;\n",
              "      --hover-fill-color: #174EA6;\n",
              "      --disabled-fill-color: #AAA;\n",
              "      --disabled-bg-color: #DDD;\n",
              "  }\n",
              "\n",
              "  [theme=dark] .colab-df-quickchart {\n",
              "      --bg-color: #3B4455;\n",
              "      --fill-color: #D2E3FC;\n",
              "      --hover-bg-color: #434B5C;\n",
              "      --hover-fill-color: #FFFFFF;\n",
              "      --disabled-bg-color: #3B4455;\n",
              "      --disabled-fill-color: #666;\n",
              "  }\n",
              "\n",
              "  .colab-df-quickchart {\n",
              "    background-color: var(--bg-color);\n",
              "    border: none;\n",
              "    border-radius: 50%;\n",
              "    cursor: pointer;\n",
              "    display: none;\n",
              "    fill: var(--fill-color);\n",
              "    height: 32px;\n",
              "    padding: 0;\n",
              "    width: 32px;\n",
              "  }\n",
              "\n",
              "  .colab-df-quickchart:hover {\n",
              "    background-color: var(--hover-bg-color);\n",
              "    box-shadow: 0 1px 2px rgba(60, 64, 67, 0.3), 0 1px 3px 1px rgba(60, 64, 67, 0.15);\n",
              "    fill: var(--button-hover-fill-color);\n",
              "  }\n",
              "\n",
              "  .colab-df-quickchart-complete:disabled,\n",
              "  .colab-df-quickchart-complete:disabled:hover {\n",
              "    background-color: var(--disabled-bg-color);\n",
              "    fill: var(--disabled-fill-color);\n",
              "    box-shadow: none;\n",
              "  }\n",
              "\n",
              "  .colab-df-spinner {\n",
              "    border: 2px solid var(--fill-color);\n",
              "    border-color: transparent;\n",
              "    border-bottom-color: var(--fill-color);\n",
              "    animation:\n",
              "      spin 1s steps(1) infinite;\n",
              "  }\n",
              "\n",
              "  @keyframes spin {\n",
              "    0% {\n",
              "      border-color: transparent;\n",
              "      border-bottom-color: var(--fill-color);\n",
              "      border-left-color: var(--fill-color);\n",
              "    }\n",
              "    20% {\n",
              "      border-color: transparent;\n",
              "      border-left-color: var(--fill-color);\n",
              "      border-top-color: var(--fill-color);\n",
              "    }\n",
              "    30% {\n",
              "      border-color: transparent;\n",
              "      border-left-color: var(--fill-color);\n",
              "      border-top-color: var(--fill-color);\n",
              "      border-right-color: var(--fill-color);\n",
              "    }\n",
              "    40% {\n",
              "      border-color: transparent;\n",
              "      border-right-color: var(--fill-color);\n",
              "      border-top-color: var(--fill-color);\n",
              "    }\n",
              "    60% {\n",
              "      border-color: transparent;\n",
              "      border-right-color: var(--fill-color);\n",
              "    }\n",
              "    80% {\n",
              "      border-color: transparent;\n",
              "      border-right-color: var(--fill-color);\n",
              "      border-bottom-color: var(--fill-color);\n",
              "    }\n",
              "    90% {\n",
              "      border-color: transparent;\n",
              "      border-bottom-color: var(--fill-color);\n",
              "    }\n",
              "  }\n",
              "</style>\n",
              "\n",
              "  <script>\n",
              "    async function quickchart(key) {\n",
              "      const quickchartButtonEl =\n",
              "        document.querySelector('#' + key + ' button');\n",
              "      quickchartButtonEl.disabled = true;  // To prevent multiple clicks.\n",
              "      quickchartButtonEl.classList.add('colab-df-spinner');\n",
              "      try {\n",
              "        const charts = await google.colab.kernel.invokeFunction(\n",
              "            'suggestCharts', [key], {});\n",
              "      } catch (error) {\n",
              "        console.error('Error during call to suggestCharts:', error);\n",
              "      }\n",
              "      quickchartButtonEl.classList.remove('colab-df-spinner');\n",
              "      quickchartButtonEl.classList.add('colab-df-quickchart-complete');\n",
              "    }\n",
              "    (() => {\n",
              "      let quickchartButtonEl =\n",
              "        document.querySelector('#df-824f76cf-c08e-42dd-830a-926386996480 button');\n",
              "      quickchartButtonEl.style.display =\n",
              "        google.colab.kernel.accessAllowed ? 'block' : 'none';\n",
              "    })();\n",
              "  </script>\n",
              "</div>\n",
              "    </div>\n",
              "  </div>\n"
            ],
            "application/vnd.google.colaboratory.intrinsic+json": {
              "type": "dataframe",
              "variable_name": "df",
              "summary": "{\n  \"name\": \"df\",\n  \"rows\": 5,\n  \"fields\": [\n    {\n      \"column\": \"c1\",\n      \"properties\": {\n        \"dtype\": \"number\",\n        \"std\": 18,\n        \"min\": 11,\n        \"max\": 61,\n        \"num_unique_values\": 5,\n        \"samples\": [\n          61,\n          11,\n          38\n        ],\n        \"semantic_type\": \"\",\n        \"description\": \"\"\n      }\n    },\n    {\n      \"column\": \"c2\",\n      \"properties\": {\n        \"dtype\": \"number\",\n        \"std\": 29,\n        \"min\": 11,\n        \"max\": 88,\n        \"num_unique_values\": 5,\n        \"samples\": [\n          70,\n          51,\n          88\n        ],\n        \"semantic_type\": \"\",\n        \"description\": \"\"\n      }\n    },\n    {\n      \"column\": \"c3\",\n      \"properties\": {\n        \"dtype\": \"number\",\n        \"std\": 24,\n        \"min\": 25,\n        \"max\": 83,\n        \"num_unique_values\": 4,\n        \"samples\": [\n          83,\n          78,\n          25\n        ],\n        \"semantic_type\": \"\",\n        \"description\": \"\"\n      }\n    },\n    {\n      \"column\": \"c4\",\n      \"properties\": {\n        \"dtype\": \"number\",\n        \"std\": 29,\n        \"min\": 17,\n        \"max\": 93,\n        \"num_unique_values\": 5,\n        \"samples\": [\n          36,\n          66,\n          93\n        ],\n        \"semantic_type\": \"\",\n        \"description\": \"\"\n      }\n    }\n  ]\n}"
            }
          },
          "metadata": {},
          "execution_count": 47
        }
      ]
    },
    {
      "cell_type": "code",
      "source": [
        "#Wybieranie jednej kolumny – wynik to seria danych pandas.Series\n",
        "ex1=df['c1']\n",
        "print(ex1)\n",
        "#Wybieranie kilku kolumn\n",
        "ex2=df[['c1','c2']]\n",
        "print(ex2)"
      ],
      "metadata": {
        "colab": {
          "base_uri": "https://localhost:8080/"
        },
        "id": "NhkOdBRSt-n3",
        "outputId": "96cd09c9-24e1-4aee-dd7c-54bf4eab4188"
      },
      "execution_count": null,
      "outputs": [
        {
          "output_type": "stream",
          "name": "stdout",
          "text": [
            "p1    47\n",
            "p2    61\n",
            "p3    38\n",
            "p4    44\n",
            "p5    11\n",
            "Name: c1, dtype: int64\n",
            "    c1  c2\n",
            "p1  47  11\n",
            "p2  61  70\n",
            "p3  38  88\n",
            "p4  44  71\n",
            "p5  11  51\n"
          ]
        }
      ]
    },
    {
      "cell_type": "markdown",
      "source": [
        "## 4.3.Indeksowanie za pomocą nazw - metoda `.loc[]`"
      ],
      "metadata": {
        "id": "tUKf1_WRuOK0"
      }
    },
    {
      "cell_type": "markdown",
      "source": [
        "Metoda `.loc[]` w `Pandas` służy do indeksowania i selekcji danych w `DataFrame` za pomocą etykiet (nazw) wierszy i kolumn. Jest to bardzo elastyczne narzędzie, które umożliwia dostęp do określonych fragmentów danych na podstawie ich etykiet, co może być bardziej intuicyjne niż używanie indeksów numerycznych.\n",
        "\n",
        "* **Podstawy użycia .loc[]**\n",
        "\n",
        "`.loc[]` używa nazw (etykiet) wierszy i kolumn, aby uzyskać dostęp do danych. Podstawowe zasady są następujące\n",
        "\n",
        "**Selekcja pojedynczej wartości:**\n",
        "\n",
        "`df.loc[row_label, column_label]`\n",
        "\n",
        "Ta składnia zwróci wartość w określonym wierszu i kolumnie.\n",
        "\n",
        "**Selekcja wielu wierszy lub kolumn:**\n",
        "\n",
        "`df.loc[row_labels, column_labels]`\n",
        "\n",
        "Można przekazać listy etykiet wierszy i kolumn, aby uzyskać podzbiór DataFrame.\n",
        "\n",
        "**Selekcja zakresu:**\n",
        "\n",
        "`df.loc[start_row:end_row, start_column:end_column]`\n",
        "\n",
        "**Można określić zakres wierszy i kolumn za pomocą etykiet.**\n",
        "\n",
        "**Selekcja całego wiersza lub kolumny:**\n",
        "\n",
        "* Cały wiersz: `df.loc[row_label, :]`\n",
        "* Cała kolumna: `df.loc[:, column_label]`"
      ],
      "metadata": {
        "id": "jdiX0CIFuk38"
      }
    },
    {
      "cell_type": "markdown",
      "source": [
        "**Przykład:** Podstawowe operacje na DataFrame z wykorzystaniem `.loc[]`"
      ],
      "metadata": {
        "id": "wAUALQ2vv_T0"
      }
    },
    {
      "cell_type": "code",
      "source": [
        "import pandas as pd\n",
        "\n",
        "# Przykładowe dane\n",
        "data = {\n",
        "    'Col1': [85, 47, 61, 38, 44, 11, 48],\n",
        "    'Col2': [44, 11, 70, 88, 71, 51, 76],\n",
        "    'Col3': [75, 25, 83, 45, 78, 45, 40],\n",
        "    'Col4': [14, 37, 36, 93, 17, 66, 12]\n",
        "}\n",
        "\n",
        "# Tworzenie DataFrame z nazwami wierszy\n",
        "df = pd.DataFrame(data, index=['Row1', 'Row2', 'Row3', 'Row4', 'Row5', 'Row6', 'Row7'])"
      ],
      "metadata": {
        "colab": {
          "base_uri": "https://localhost:8080/"
        },
        "id": "BbE_PgK5wJZP",
        "outputId": "25352185-76c3-4d22-e80e-4bace6f80ba0"
      },
      "execution_count": null,
      "outputs": [
        {
          "output_type": "stream",
          "name": "stdout",
          "text": [
            "70\n",
            "      Col1  Col3\n",
            "Row1    85    75\n",
            "Row3    61    83\n",
            "      Col2  Col3  Col4\n",
            "Row2    11    25    37\n",
            "Row3    70    83    36\n",
            "Row4    88    45    93\n",
            "Col1    44\n",
            "Col2    71\n",
            "Col3    78\n",
            "Col4    17\n",
            "Name: Row5, dtype: int64\n",
            "Row1    75\n",
            "Row2    25\n",
            "Row3    83\n",
            "Row4    45\n",
            "Row5    78\n",
            "Row6    45\n",
            "Row7    40\n",
            "Name: Col3, dtype: int64\n"
          ]
        }
      ]
    },
    {
      "cell_type": "code",
      "source": [
        "#Selekcja pojedynczej wartości\n",
        "#Aby wybrać wartość z wiersza \"Row3\" i kolumny \"Col2\":\n",
        "\n",
        "value = df.loc['Row3', 'Col2']\n",
        "print(value)  # Output: 70"
      ],
      "metadata": {
        "colab": {
          "base_uri": "https://localhost:8080/"
        },
        "id": "3GYzXdkowzDn",
        "outputId": "0821f166-47d6-43fd-b650-a6a3975f493a"
      },
      "execution_count": null,
      "outputs": [
        {
          "output_type": "stream",
          "name": "stdout",
          "text": [
            "70\n"
          ]
        }
      ]
    },
    {
      "cell_type": "code",
      "source": [
        "#Selekcja wielu wierszy i kolumn\n",
        "#by wybrać dane z wierszy \"Row1\" i \"Row3\" oraz kolumn \"Col1\" i \"Col3\":\n",
        "\n",
        "subset = df.loc[['Row1', 'Row3'], ['Col1', 'Col3']]\n",
        "print(subset)"
      ],
      "metadata": {
        "colab": {
          "base_uri": "https://localhost:8080/"
        },
        "id": "bGJ-byDUwxLn",
        "outputId": "95ea951c-cb12-4dc5-c90f-2f649caabf56"
      },
      "execution_count": null,
      "outputs": [
        {
          "output_type": "stream",
          "name": "stdout",
          "text": [
            "      Col1  Col3\n",
            "Row1    85    75\n",
            "Row3    61    83\n"
          ]
        }
      ]
    },
    {
      "cell_type": "code",
      "source": [
        "#Selekcja zakresu wierszy i kolumn\n",
        "#Aby wybrać dane od \"Row2\" do \"Row4\" oraz od \"Col2\" do \"Col4\":\n",
        "\n",
        "range_subset = df.loc['Row2':'Row4', 'Col2':'Col4']\n",
        "print(range_subset)"
      ],
      "metadata": {
        "colab": {
          "base_uri": "https://localhost:8080/"
        },
        "id": "flojetLXwvLX",
        "outputId": "986e0609-713d-41c1-cc5f-2db107b3b19c"
      },
      "execution_count": null,
      "outputs": [
        {
          "output_type": "stream",
          "name": "stdout",
          "text": [
            "      Col2  Col3  Col4\n",
            "Row2    11    25    37\n",
            "Row3    70    83    36\n",
            "Row4    88    45    93\n"
          ]
        }
      ]
    },
    {
      "cell_type": "code",
      "source": [
        "#Selekcja całego wiersza\n",
        "#Aby wybrać cały wiersz \"Row5\":\n",
        "\n",
        "row5 = df.loc['Row5', :]\n",
        "print(row5)"
      ],
      "metadata": {
        "colab": {
          "base_uri": "https://localhost:8080/"
        },
        "id": "6km73KR9wsV0",
        "outputId": "d0b61cb2-a74e-4710-cb42-452e66c565cb"
      },
      "execution_count": null,
      "outputs": [
        {
          "output_type": "stream",
          "name": "stdout",
          "text": [
            "Col1    44\n",
            "Col2    71\n",
            "Col3    78\n",
            "Col4    17\n",
            "Name: Row5, dtype: int64\n"
          ]
        }
      ]
    },
    {
      "cell_type": "code",
      "source": [
        "#Selekcja całej kolumny\n",
        "#Aby wybrać całą kolumnę \"Col3\":\n",
        "\n",
        "col3 = df.loc[:, 'Col3']\n",
        "print(col3)"
      ],
      "metadata": {
        "colab": {
          "base_uri": "https://localhost:8080/"
        },
        "id": "G7wk3252wn9H",
        "outputId": "e17a578c-a7fc-40cc-f7af-56cd00478045"
      },
      "execution_count": null,
      "outputs": [
        {
          "output_type": "stream",
          "name": "stdout",
          "text": [
            "Row1    75\n",
            "Row2    25\n",
            "Row3    83\n",
            "Row4    45\n",
            "Row5    78\n",
            "Row6    45\n",
            "Row7    40\n",
            "Name: Col3, dtype: int64\n"
          ]
        }
      ]
    },
    {
      "cell_type": "markdown",
      "source": [
        "## 4.4. Zadania"
      ],
      "metadata": {
        "id": "kFY2Jj1rxkWG"
      }
    },
    {
      "cell_type": "markdown",
      "source": [
        "Zadanie 4.1.\n",
        "Masz zestaw danych dotyczących ocen studentów w różnych przedmiotach. Dane są przechowywane w `DataFrame`. Twoim zadaniem jest wykorzystanie metody `.loc[]` do wykonania kilku prostych operacji na tych danych."
      ],
      "metadata": {
        "id": "sxooNkRsxqm0"
      }
    },
    {
      "cell_type": "code",
      "source": [
        "# Przykładowe dane\n",
        "data = {\n",
        "    'Name': ['Alice', 'Bob', 'Charlie', 'David', 'Eva'],\n",
        "    'Math': [85, 78, 90, 60, 76],\n",
        "    'Science': [88, 82, 95, 70, 80],\n",
        "    'English': [92, 85, 88, 75, 85]\n",
        "}"
      ],
      "metadata": {
        "id": "jyD3xXjHxyiz"
      },
      "execution_count": null,
      "outputs": []
    },
    {
      "cell_type": "markdown",
      "source": [
        "* Wyświetl oceny z przedmiotu `Math` dla wszystkich studentów\n",
        "* Wyświetl oceny ze wszystkich przedmiotów dla studenta o imieniu `Charli`e\n",
        "* Wyświetl oceny z przedmiotów `Science` i `English` dla studentek `Alice` i `Eva`"
      ],
      "metadata": {
        "id": "zeIGB61Dx2u8"
      }
    },
    {
      "cell_type": "markdown",
      "source": [
        "## 4.5. Indeksowanie za pomocą indeksow liczbowych - metoda `.iloc[]`"
      ],
      "metadata": {
        "id": "d6vezre20VGG"
      }
    },
    {
      "cell_type": "markdown",
      "source": [
        "Metoda `.iloc[]` w `Pandas` służy do indeksowania i selekcji danych w `DataFrame` za pomocą indeksów liczbowych (*integer location-based indexing*). Jest to bardzo przydatne, gdy chcemy uzyskać dostęp do danych na podstawie ich pozycji w `DataFrame`, a nie nazw (etykiet)."
      ],
      "metadata": {
        "id": "9BEZBkU00I17"
      }
    },
    {
      "cell_type": "markdown",
      "source": [
        "**Przykład**"
      ],
      "metadata": {
        "id": "6r_KUjo20uSw"
      }
    },
    {
      "cell_type": "code",
      "source": [
        "import pandas as pd\n",
        "\n",
        "# Tworzenie przykładowego DataFrame\n",
        "data = {\n",
        "    'c1': [85, 47, 61, 38, 44, 11],\n",
        "    'c2': [44, 11, 70, 88, 71, 51],\n",
        "    'c3': [75, 25, 83, 45, 78, 45],\n",
        "    'c4': [14, 37, 36, 93, 17, 66]\n",
        "}\n",
        "df = pd.DataFrame(data, index=['p1', 'p2', 'p3', 'p4', 'p5', 'p6'])\n",
        "print(df)"
      ],
      "metadata": {
        "colab": {
          "base_uri": "https://localhost:8080/"
        },
        "id": "lZ1HI8-207JF",
        "outputId": "9adea7cd-6fad-45be-85b6-a88fc5aeb808"
      },
      "execution_count": null,
      "outputs": [
        {
          "output_type": "stream",
          "name": "stdout",
          "text": [
            "    c1  c2  c3  c4\n",
            "p1  85  44  75  14\n",
            "p2  47  11  25  37\n",
            "p3  61  70  83  36\n",
            "p4  38  88  45  93\n",
            "p5  44  71  78  17\n",
            "p6  11  51  45  66\n"
          ]
        }
      ]
    },
    {
      "cell_type": "markdown",
      "source": [
        "**Wybieranie wierszy**\n",
        "\n",
        "* Wybieranie zakresu wierszy"
      ],
      "metadata": {
        "id": "3Cm5ihsl07gm"
      }
    },
    {
      "cell_type": "code",
      "source": [
        "#Chcemy wybrać wiersze od drugiego (indeks 1) do trzeciego (indeks 2):\n",
        "result = df.iloc[1:3, :]\n",
        "print(result)"
      ],
      "metadata": {
        "colab": {
          "base_uri": "https://localhost:8080/"
        },
        "id": "YL2UQZbg1MN8",
        "outputId": "f6ea982b-2661-469c-c00e-3f0785b4213e"
      },
      "execution_count": null,
      "outputs": [
        {
          "output_type": "stream",
          "name": "stdout",
          "text": [
            "    c1  c2  c3  c4\n",
            "p2  47  11  25  37\n",
            "p3  61  70  83  36\n"
          ]
        }
      ]
    },
    {
      "cell_type": "markdown",
      "source": [
        "* Wybieranie konkretnych wierszy"
      ],
      "metadata": {
        "id": "K55OkZ5k1Qbf"
      }
    },
    {
      "cell_type": "code",
      "source": [
        "#Chcemy wybrać szósty (indeks 5) i drugi (indeks 1) wiersz:\n",
        "result = df.iloc[[5, 1], :]\n",
        "print(result)"
      ],
      "metadata": {
        "id": "St7Zj1IM1YY2"
      },
      "execution_count": null,
      "outputs": []
    },
    {
      "cell_type": "markdown",
      "source": [
        "**Wybieranie wierszy i kolumn**\n",
        "* Wybieranie konkretnych wierszy i kolumn"
      ],
      "metadata": {
        "id": "z438EsVq1YvK"
      }
    },
    {
      "cell_type": "code",
      "source": [
        "#Chcemy wybrać szósty (indeks 5) i drugi (indeks 1) wiersz oraz kolumny - trzecią (indeks 2) i drugą (indeks 1):\n",
        "result = df.iloc[[5, 1], [2, 1]]\n",
        "print(result)"
      ],
      "metadata": {
        "colab": {
          "base_uri": "https://localhost:8080/"
        },
        "id": "2ghY-WSu0xW-",
        "outputId": "a51896f0-f6be-46cd-9aa9-53b867b43cff"
      },
      "execution_count": null,
      "outputs": [
        {
          "output_type": "stream",
          "name": "stdout",
          "text": [
            "    c3  c2\n",
            "p6  45  51\n",
            "p2  25  11\n"
          ]
        }
      ]
    },
    {
      "cell_type": "markdown",
      "source": [
        "## 4.5.Indeksowanie za pomocą warunków logicznych"
      ],
      "metadata": {
        "id": "lgIcwjnu8Tqt"
      }
    },
    {
      "cell_type": "markdown",
      "source": [
        "Indeksowanie za pomocą warunków logicznych w `Pandas` pozwala na filtrowanie danych w `DataFrame` na podstawie spełnienia określonych warunków. Umożliwia to wybranie tylko tych wierszy, które spełniają dany warunek logiczny."
      ],
      "metadata": {
        "id": "uClgpeac8Rxd"
      }
    },
    {
      "cell_type": "markdown",
      "source": [
        "**Przykład:**"
      ],
      "metadata": {
        "id": "2yXvhoFl8fcE"
      }
    },
    {
      "cell_type": "code",
      "source": [
        "import pandas as pd\n",
        "\n",
        "# Tworzenie przykładowego DataFrame\n",
        "data = {\n",
        "    'c1': [85, 47, 61, 38, 44, 11],\n",
        "    'c2': [44, 11, 70, 88, 71, 51],\n",
        "    'c3': [75, 25, 83, 45, 78, 45],\n",
        "    'c4': [14, 37, 36, 93, 17, 66]\n",
        "}\n",
        "df = pd.DataFrame(data, index=['p1', 'p2', 'p3', 'p4', 'p5', 'p6'])\n",
        "print(df)"
      ],
      "metadata": {
        "colab": {
          "base_uri": "https://localhost:8080/"
        },
        "id": "ZQQ0jX3p8hp2",
        "outputId": "b30118ee-dab4-4630-fffb-82f34861a43a"
      },
      "execution_count": null,
      "outputs": [
        {
          "output_type": "stream",
          "name": "stdout",
          "text": [
            "    c1  c2  c3  c4\n",
            "p1  85  44  75  14\n",
            "p2  47  11  25  37\n",
            "p3  61  70  83  36\n",
            "p4  38  88  45  93\n",
            "p5  44  71  78  17\n",
            "p6  11  51  45  66\n"
          ]
        }
      ]
    },
    {
      "cell_type": "markdown",
      "source": [
        "**Sprawdzanie warunku logicznego**"
      ],
      "metadata": {
        "id": "5IHRVbaH8ldT"
      }
    },
    {
      "cell_type": "code",
      "source": [
        "#Aby sprawdzić, które wartości w kolumnie 'c1' są większe niż 40:\n",
        "condition = df['c1'] > 40\n",
        "print(condition)"
      ],
      "metadata": {
        "colab": {
          "base_uri": "https://localhost:8080/"
        },
        "id": "NRI8PPu08qql",
        "outputId": "54ed87fb-f00a-467f-9a62-88aba70afe7e"
      },
      "execution_count": null,
      "outputs": [
        {
          "output_type": "stream",
          "name": "stdout",
          "text": [
            "p1     True\n",
            "p2     True\n",
            "p3     True\n",
            "p4    False\n",
            "p5     True\n",
            "p6    False\n",
            "Name: c1, dtype: bool\n"
          ]
        }
      ]
    },
    {
      "cell_type": "markdown",
      "source": [
        "Wynik tego sprawdzenia to seria boolowska, gdzie każda wartość wskazuje, czy warunek jest spełniony (`True`) czy nie (`False`) dla danego wiersza."
      ],
      "metadata": {
        "id": "7Kci7ZUY8y9T"
      }
    },
    {
      "cell_type": "markdown",
      "source": [
        "**Wybieranie fragmentu tabeli na podstawie warunku**"
      ],
      "metadata": {
        "id": "gJT1J0Pa86rY"
      }
    },
    {
      "cell_type": "code",
      "source": [
        "#Aby wybrać tylko te wiersze, w których wartość w kolumnie `c1` jest większa niż `40`\n",
        "filtered_df = df[df['c1'] > 40]\n",
        "print(filtered_df)"
      ],
      "metadata": {
        "id": "DARd-NJ09Cy4"
      },
      "execution_count": null,
      "outputs": []
    },
    {
      "cell_type": "markdown",
      "source": [
        "**Wybieranie wierszy na podstawie kilku warunków**\n",
        "\n",
        "Możemy również łączyć warunki logiczne za pomocą operatorów `&` (`and`) oraz `|` (`or`). Na przykład:"
      ],
      "metadata": {
        "id": "D7JgfygT9I76"
      }
    },
    {
      "cell_type": "code",
      "source": [
        "# Wybieranie wierszy, gdzie 'c1' > 40 i 'c2' < 50\n",
        "filtered_df = df[(df['c1'] > 40) & (df['c2'] < 50)]\n",
        "print(filtered_df)"
      ],
      "metadata": {
        "colab": {
          "base_uri": "https://localhost:8080/"
        },
        "id": "hrZYvKrB9dk5",
        "outputId": "037393b1-7141-4979-b455-87e98bf67237"
      },
      "execution_count": null,
      "outputs": [
        {
          "output_type": "stream",
          "name": "stdout",
          "text": [
            "    c1  c2  c3  c4\n",
            "p1  85  44  75  14\n",
            "p2  47  11  25  37\n"
          ]
        }
      ]
    },
    {
      "cell_type": "markdown",
      "source": [
        "**Wybieranie wierszy na podstawie wartości tekstowych**\n",
        "\n",
        "Jeśli `DataFrame` zawiera kolumny tekstowe, można również filtrować na podstawie wartości tekstowych:"
      ],
      "metadata": {
        "id": "vwgiY2sG9iaf"
      }
    },
    {
      "cell_type": "code",
      "source": [
        "# Dodanie kolumny z nazwami\n",
        "df['name'] = ['Anna', 'Bob', 'Charlie', 'David', 'Eva', 'Frank']\n",
        "\n",
        "# Wybieranie wierszy, gdzie nazwa zawiera literę 'a'\n",
        "filtered_df = df[df['name'].str.contains('a', case=False)]\n",
        "print(filtered_df)"
      ],
      "metadata": {
        "colab": {
          "base_uri": "https://localhost:8080/"
        },
        "id": "C5q-OUU99lEX",
        "outputId": "b662a1de-fc49-474b-f5d0-2946fcd23ff8"
      },
      "execution_count": null,
      "outputs": [
        {
          "output_type": "stream",
          "name": "stdout",
          "text": [
            "    c1  c2  c3  c4     name\n",
            "p1  85  44  75  14     Anna\n",
            "p3  61  70  83  36  Charlie\n",
            "p4  38  88  45  93    David\n",
            "p5  44  71  78  17      Eva\n",
            "p6  11  51  45  66    Frank\n"
          ]
        }
      ]
    },
    {
      "cell_type": "markdown",
      "source": [
        "## 4.6. Manipulowanie danymi w oparciu o indeksowanie"
      ],
      "metadata": {
        "id": "-EPGE7e4-QLF"
      }
    },
    {
      "cell_type": "markdown",
      "source": [
        "Indeksowanie w `Panda`s pozwala nie tylko na wybieranie i filtrowanie danych, ale także na manipulowanie nimi."
      ],
      "metadata": {
        "id": "CxIPtQuz-XNR"
      }
    },
    {
      "cell_type": "markdown",
      "source": [
        "**Przykład**"
      ],
      "metadata": {
        "id": "H5KdCoFH-ZZe"
      }
    },
    {
      "cell_type": "code",
      "source": [
        "import pandas as pd\n",
        "\n",
        "# Tworzenie przykładowego DataFrame\n",
        "data = {\n",
        "    'c1': [85, 47, 61, 38, 44, 11],\n",
        "    'c2': [44, 11, 70, 88, 71, 51],\n",
        "    'c3': [75, 25, 83, 45, 78, 45],\n",
        "    'c4': [14, 37, 36, 93, 17, 66]\n",
        "}\n",
        "df = pd.DataFrame(data, index=['p1', 'p2', 'p3', 'p4', 'p5', 'p6'])\n",
        "print(df)"
      ],
      "metadata": {
        "colab": {
          "base_uri": "https://localhost:8080/"
        },
        "id": "F3zOQMTn-d0P",
        "outputId": "2d0106d1-dae9-48fd-e467-d357c78118f6"
      },
      "execution_count": null,
      "outputs": [
        {
          "output_type": "stream",
          "name": "stdout",
          "text": [
            "    c1  c2  c3  c4\n",
            "p1  85  44  75  14\n",
            "p2  47  11  25  37\n",
            "p3  61  70  83  36\n",
            "p4  38  88  45  93\n",
            "p5  44  71  78  17\n",
            "p6  11  51  45  66\n"
          ]
        }
      ]
    },
    {
      "cell_type": "markdown",
      "source": [
        "**Manipulowanie całą kolumną**\n"
      ],
      "metadata": {
        "id": "7JvK_3C0-ewS"
      }
    },
    {
      "cell_type": "code",
      "source": [
        "#Aby ustawić wszystkie wartości w kolumnie 'c1' na 0:\n",
        "df['c1'] = 0\n",
        "print(df)"
      ],
      "metadata": {
        "colab": {
          "base_uri": "https://localhost:8080/"
        },
        "id": "ZdVvSkUQ-hTJ",
        "outputId": "b42cfbdd-6e95-48be-ced7-ebdc1223a0d0"
      },
      "execution_count": null,
      "outputs": [
        {
          "output_type": "stream",
          "name": "stdout",
          "text": [
            "    c1  c2  c3  c4\n",
            "p1   0  44  75  14\n",
            "p2   0  11  25  37\n",
            "p3   0  70  83  36\n",
            "p4   0  88  45  93\n",
            "p5   0  71  78  17\n",
            "p6   0  51  45  66\n"
          ]
        }
      ]
    },
    {
      "cell_type": "markdown",
      "source": [
        "**Manipulowanie fragmentem tabeli**"
      ],
      "metadata": {
        "id": "G1ANDE_B-jf-"
      }
    },
    {
      "cell_type": "code",
      "source": [
        "#Aby ustawić wartości w kolumnach 'c3' i 'c4' dla wierszy od 'p4' do 'p5' na 0:\n",
        "df.loc['p4':'p5', ['c3', 'c4']] = 0\n",
        "print(df)"
      ],
      "metadata": {
        "colab": {
          "base_uri": "https://localhost:8080/"
        },
        "id": "MRsdirk0-mtR",
        "outputId": "26b11ec8-6c64-4077-a268-ea2a1664c8ff"
      },
      "execution_count": null,
      "outputs": [
        {
          "output_type": "stream",
          "name": "stdout",
          "text": [
            "    c1  c2  c3  c4\n",
            "p1   0  44  75  14\n",
            "p2   0  11  25  37\n",
            "p3   0  70  83  36\n",
            "p4   0  88   0   0\n",
            "p5   0  71   0   0\n",
            "p6   0  51  45  66\n"
          ]
        }
      ]
    },
    {
      "cell_type": "markdown",
      "source": [
        "**Manipulowanie danymi przy użyciu warunków logicznych**\n"
      ],
      "metadata": {
        "id": "hYrMkq-1-ouC"
      }
    },
    {
      "cell_type": "code",
      "source": [
        "#Aby ustawić wartości w kolumnach 'c2' i 'c4' na 0 dla tych wierszy, w których wartość w kolumnie 'c1' jest większa niż 40:\n",
        "df = pd.DataFrame(data, index=['p1', 'p2', 'p3', 'p4', 'p5', 'p6'])  # Resetowanie DataFrame do początkowych wartości\n",
        "df.loc[df['c1'] > 40, ['c2', 'c4']] = 0\n",
        "print(df)"
      ],
      "metadata": {
        "colab": {
          "base_uri": "https://localhost:8080/"
        },
        "id": "SbMeE-BZ-s_6",
        "outputId": "33de1794-80db-4358-bb50-5d9dc21702e8"
      },
      "execution_count": null,
      "outputs": [
        {
          "output_type": "stream",
          "name": "stdout",
          "text": [
            "    c1  c2  c3  c4\n",
            "p1  85   0  75   0\n",
            "p2  47   0  25   0\n",
            "p3  61   0  83   0\n",
            "p4  38  88  45  93\n",
            "p5  44   0  78   0\n",
            "p6  11  51  45  66\n"
          ]
        }
      ]
    },
    {
      "cell_type": "markdown",
      "source": [
        "## 4.7.Statystyczna analiza danych w Pandas\n",
        "\n"
      ],
      "metadata": {
        "id": "uSLyAD1e_xqu"
      }
    },
    {
      "cell_type": "markdown",
      "source": [
        "Biblioteka `Pandas` w Pythonie udostępnia szereg narzędzi do przeprowadzania statystycznej analizy danych zapisanych w tabelach."
      ],
      "metadata": {
        "id": "YiTh5Wpn_1kB"
      }
    },
    {
      "cell_type": "markdown",
      "source": [
        "**Przykład**"
      ],
      "metadata": {
        "id": "nkUJkJzs_2bD"
      }
    },
    {
      "cell_type": "code",
      "source": [
        "import pandas as pd\n",
        "\n",
        "# Tworzenie przykładowego DataFrame\n",
        "data = {\n",
        "    'c1': [85, 47, 61, 38, 44, 11],\n",
        "    'c2': [44, 11, 70, 88, 71, 51],\n",
        "    'c3': [75, 25, 83, 45, 78, 45],\n",
        "    'c4': [14, 37, 36, 93, 17, 66]\n",
        "}\n",
        "df = pd.DataFrame(data, index=['p1', 'p2', 'p3', 'p4', 'p5', 'p6'])\n",
        "print(df)"
      ],
      "metadata": {
        "colab": {
          "base_uri": "https://localhost:8080/"
        },
        "id": "JGz5v1x5_7gN",
        "outputId": "e35f5946-629b-4fbb-f05e-53684fdabd22"
      },
      "execution_count": null,
      "outputs": [
        {
          "output_type": "stream",
          "name": "stdout",
          "text": [
            "    c1  c2  c3  c4\n",
            "p1  85  44  75  14\n",
            "p2  47  11  25  37\n",
            "p3  61  70  83  36\n",
            "p4  38  88  45  93\n",
            "p5  44  71  78  17\n",
            "p6  11  51  45  66\n"
          ]
        }
      ]
    },
    {
      "cell_type": "markdown",
      "source": [
        "**Największy element w każdej kolumnie**\n"
      ],
      "metadata": {
        "id": "wWxRyMZNABgg"
      }
    },
    {
      "cell_type": "code",
      "source": [
        "#Aby znaleźć największy element w każdej kolumnie, można użyć metody max()\n",
        "max_values = df.max()\n",
        "print(max_values)"
      ],
      "metadata": {
        "colab": {
          "base_uri": "https://localhost:8080/"
        },
        "id": "s9OdFWi8ADul",
        "outputId": "730b82b7-053a-44d7-a886-0ecec9d6e513"
      },
      "execution_count": null,
      "outputs": [
        {
          "output_type": "stream",
          "name": "stdout",
          "text": [
            "c1    85\n",
            "c2    88\n",
            "c3    83\n",
            "c4    93\n",
            "dtype: int64\n"
          ]
        }
      ]
    },
    {
      "cell_type": "markdown",
      "source": [
        "**Średnia wartości w każdej kolumnie**"
      ],
      "metadata": {
        "id": "A0GD94UoAHjj"
      }
    },
    {
      "cell_type": "code",
      "source": [
        "#Aby obliczyć średnią wartość dla każdej kolumny, można użyć metody mean()\n",
        "mean_values = df.mean()\n",
        "print(mean_values)"
      ],
      "metadata": {
        "id": "3EMior9CAP10"
      },
      "execution_count": null,
      "outputs": []
    },
    {
      "cell_type": "markdown",
      "source": [
        "**Mediana wartości w każdej kolumnie**"
      ],
      "metadata": {
        "id": "CJBUJ6s8_4-c"
      }
    },
    {
      "cell_type": "code",
      "source": [
        "median_values = df.median()\n",
        "print(median_values)"
      ],
      "metadata": {
        "colab": {
          "base_uri": "https://localhost:8080/"
        },
        "id": "DoR9mVITAeKA",
        "outputId": "20c6e739-6fb7-4c41-f814-ebd8eeb4f2b9"
      },
      "execution_count": null,
      "outputs": [
        {
          "output_type": "stream",
          "name": "stdout",
          "text": [
            "c1    45.5\n",
            "c2    60.5\n",
            "c3    60.0\n",
            "c4    36.5\n",
            "dtype: float64\n"
          ]
        }
      ]
    },
    {
      "cell_type": "markdown",
      "source": [
        "**Odchylenie standardowe wartości w każdej kolumnie**"
      ],
      "metadata": {
        "id": "ypzzqJtpAfv3"
      }
    },
    {
      "cell_type": "code",
      "source": [
        "std_values = df.std()\n",
        "print(std_values)"
      ],
      "metadata": {
        "id": "eHuEYEqlAis1"
      },
      "execution_count": null,
      "outputs": []
    },
    {
      "cell_type": "markdown",
      "source": [
        "**Sumaryczne statystyki**\n",
        "\n",
        "Metoda `describe()` zwraca pełny zestaw statystyk opisowych dla każdej kolumny"
      ],
      "metadata": {
        "id": "Y7rKDamgAk3d"
      }
    },
    {
      "cell_type": "code",
      "source": [
        "summary = df.describe()\n",
        "print(summary)"
      ],
      "metadata": {
        "colab": {
          "base_uri": "https://localhost:8080/"
        },
        "id": "t-MVr4atAuqC",
        "outputId": "aaaab40f-b6fd-4cc0-e20c-f54377337ea3"
      },
      "execution_count": null,
      "outputs": [
        {
          "output_type": "stream",
          "name": "stdout",
          "text": [
            "              c1         c2         c3         c4\n",
            "count   6.000000   6.000000   6.000000   6.000000\n",
            "mean   47.666667  55.833333  58.500000  43.833333\n",
            "std    24.589971  26.977151  23.407264  30.419840\n",
            "min    11.000000  11.000000  25.000000  14.000000\n",
            "25%    39.500000  45.750000  45.000000  21.750000\n",
            "50%    45.500000  60.500000  60.000000  36.500000\n",
            "75%    57.500000  70.750000  77.250000  58.750000\n",
            "max    85.000000  88.000000  83.000000  93.000000\n"
          ]
        }
      ]
    },
    {
      "cell_type": "markdown",
      "source": [
        "## 4.8. Sortowanie danych w Pandas"
      ],
      "metadata": {
        "id": "LiDxF2IoBEhS"
      }
    },
    {
      "cell_type": "markdown",
      "source": [
        "Biblioteka `Pandas` udostępnia szereg narzędzi do sortowania danych w `DataFram`e."
      ],
      "metadata": {
        "id": "nrfc-Ty3BMM9"
      }
    },
    {
      "cell_type": "markdown",
      "source": [
        "**Przykład**"
      ],
      "metadata": {
        "id": "ljJtfd10BQdY"
      }
    },
    {
      "cell_type": "code",
      "source": [
        "import pandas as pd\n",
        "\n",
        "# Tworzenie przykładowego DataFrame\n",
        "data = {\n",
        "    'c1': [85, 47, 61, 38, 44, 11],\n",
        "    'c2': [44, 11, 70, 88, 71, 51],\n",
        "    'c3': [75, 25, 83, 45, 78, 45],\n",
        "    'c4': [14, 37, 36, 93, 17, 66]\n",
        "}\n",
        "df = pd.DataFrame(data, index=['p1', 'p2', 'p3', 'p4', 'p5', 'p6'])\n",
        "print(df)"
      ],
      "metadata": {
        "colab": {
          "base_uri": "https://localhost:8080/"
        },
        "id": "37Xl34ZhBU-K",
        "outputId": "3cbe1103-f1e8-454e-97c0-e06eef20afc9"
      },
      "execution_count": null,
      "outputs": [
        {
          "output_type": "stream",
          "name": "stdout",
          "text": [
            "    c1  c2  c3  c4\n",
            "p1  85  44  75  14\n",
            "p2  47  11  25  37\n",
            "p3  61  70  83  36\n",
            "p4  38  88  45  93\n",
            "p5  44  71  78  17\n",
            "p6  11  51  45  66\n"
          ]
        }
      ]
    },
    {
      "cell_type": "markdown",
      "source": [
        "**Sortowanie względem wybranej kolumny w kolejności rosnącej**\n"
      ],
      "metadata": {
        "id": "vyeDkEQhBWSU"
      }
    },
    {
      "cell_type": "code",
      "source": [
        "#Aby posortować dane względem kolumny 'c3'\n",
        "sorted_df = df.sort_values(by='c3')\n",
        "print(sorted_df)"
      ],
      "metadata": {
        "colab": {
          "base_uri": "https://localhost:8080/"
        },
        "id": "1K-yhvkXBDzc",
        "outputId": "49659c18-11ee-4344-86a6-f7a928aaf96b"
      },
      "execution_count": null,
      "outputs": [
        {
          "output_type": "stream",
          "name": "stdout",
          "text": [
            "    c1  c2  c3  c4\n",
            "p2  47  11  25  37\n",
            "p4  38  88  45  93\n",
            "p6  11  51  45  66\n",
            "p1  85  44  75  14\n",
            "p5  44  71  78  17\n",
            "p3  61  70  83  36\n"
          ]
        }
      ]
    },
    {
      "cell_type": "markdown",
      "source": [
        "**Sortowanie względem wybranej kolumny w kolejności malejącej**"
      ],
      "metadata": {
        "id": "3-vnMU6BBgZ5"
      }
    },
    {
      "cell_type": "code",
      "source": [
        "#Aby posortować dane względem kolumny 'c3' w kolejności malejącej\n",
        "sorted_df_desc = df.sort_values(by='c3', ascending=False)\n",
        "print(sorted_df_desc)"
      ],
      "metadata": {
        "colab": {
          "base_uri": "https://localhost:8080/"
        },
        "id": "TMqKxL6zBwKb",
        "outputId": "8c57d00a-b6be-40f4-8d62-ea73b033bf17"
      },
      "execution_count": null,
      "outputs": [
        {
          "output_type": "stream",
          "name": "stdout",
          "text": [
            "    c1  c2  c3  c4\n",
            "p3  61  70  83  36\n",
            "p5  44  71  78  17\n",
            "p1  85  44  75  14\n",
            "p4  38  88  45  93\n",
            "p6  11  51  45  66\n",
            "p2  47  11  25  37\n"
          ]
        }
      ]
    },
    {
      "cell_type": "markdown",
      "source": [
        "**Sortowanie względem wielu kolumn**"
      ],
      "metadata": {
        "id": "209sY_3-B7SN"
      }
    },
    {
      "cell_type": "code",
      "source": [
        "#Aby posortować najpierw względem kolumny 'c3', a następnie względem kolumny 'c1'\n",
        "sorted_df_multi = df.sort_values(by=['c3', 'c1'])\n",
        "print(sorted_df_multi)"
      ],
      "metadata": {
        "colab": {
          "base_uri": "https://localhost:8080/"
        },
        "id": "joC4Ja4RB-g7",
        "outputId": "4dfefba0-9256-480d-81b7-0ba7da179095"
      },
      "execution_count": null,
      "outputs": [
        {
          "output_type": "stream",
          "name": "stdout",
          "text": [
            "    c1  c2  c3  c4\n",
            "p2  47  11  25  37\n",
            "p6  11  51  45  66\n",
            "p4  38  88  45  93\n",
            "p1  85  44  75  14\n",
            "p5  44  71  78  17\n",
            "p3  61  70  83  36\n"
          ]
        }
      ]
    },
    {
      "cell_type": "markdown",
      "source": [
        "**Sortowanie względem indeksu**"
      ],
      "metadata": {
        "id": "HR1KjTFoCKf_"
      }
    },
    {
      "cell_type": "code",
      "source": [
        "sorted_by_index = df.sort_index()\n",
        "print(sorted_by_index)"
      ],
      "metadata": {
        "id": "yoQPE-GUCOJJ"
      },
      "execution_count": null,
      "outputs": []
    },
    {
      "cell_type": "markdown",
      "source": [
        "## 4.8. Grupowanie danych"
      ],
      "metadata": {
        "id": "AKQw7JwZCjfx"
      }
    },
    {
      "cell_type": "markdown",
      "source": [
        "Biblioteka `Pandas` umożliwia łatwe grupowanie danych w `DataFram`e względem kolumn (cech), co jest przydatne do agregacji i analizy danych w podgrupach.  Używając metody `groupby()`, możemy grupować dane względem kolumn i obliczać agregaty, takie jak średnia, suma, mediana"
      ],
      "metadata": {
        "id": "ebNPHzM2CpDp"
      }
    },
    {
      "cell_type": "markdown",
      "source": [
        "**Przykład**"
      ],
      "metadata": {
        "id": "3Put5h_JC2Lk"
      }
    },
    {
      "cell_type": "code",
      "source": [
        "import pandas as pd\n",
        "\n",
        "# Tworzenie przykładowego DataFrame\n",
        "data = {\n",
        "    'c1': [85, 47, 61, 38, 44, 11],\n",
        "    'c2': [44, 11, 70, 88, 71, 51],\n",
        "    'c3': [75, 25, 83, 45, 78, 45],\n",
        "    'c4': ['g1', 'g2', 'g2', 'g1', 'g2', 'g1']\n",
        "}\n",
        "df = pd.DataFrame(data, index=['p1', 'p2', 'p3', 'p4', 'p5', 'p6'])\n",
        "print(df)"
      ],
      "metadata": {
        "colab": {
          "base_uri": "https://localhost:8080/"
        },
        "id": "EiDduXQpClwi",
        "outputId": "27f1df29-21dd-406c-af1e-1173fb238387"
      },
      "execution_count": null,
      "outputs": [
        {
          "output_type": "stream",
          "name": "stdout",
          "text": [
            "    c1  c2  c3  c4\n",
            "p1  85  44  75  g1\n",
            "p2  47  11  25  g2\n",
            "p3  61  70  83  g2\n",
            "p4  38  88  45  g1\n",
            "p5  44  71  78  g2\n",
            "p6  11  51  45  g1\n"
          ]
        }
      ]
    },
    {
      "cell_type": "markdown",
      "source": [
        "**Grupowanie i obliczanie średniej dla grup utworzonych względem kolumny**"
      ],
      "metadata": {
        "id": "BV8evUIZDPKw"
      }
    },
    {
      "cell_type": "code",
      "source": [
        "grouped_mean = df.groupby(by='c4').mean()\n",
        "print(grouped_mean)"
      ],
      "metadata": {
        "colab": {
          "base_uri": "https://localhost:8080/"
        },
        "id": "7y1-RzQoDBa4",
        "outputId": "63835e24-e2ce-46bc-ef52-7cb1ffe2e820"
      },
      "execution_count": null,
      "outputs": [
        {
          "output_type": "stream",
          "name": "stdout",
          "text": [
            "           c1         c2    c3\n",
            "c4                            \n",
            "g1  44.666667  61.000000  55.0\n",
            "g2  50.666667  50.666667  62.0\n"
          ]
        }
      ]
    },
    {
      "cell_type": "markdown",
      "source": [
        "## 4.9. Łączenie tabel"
      ],
      "metadata": {
        "id": "ywc8GbGKDj_o"
      }
    },
    {
      "cell_type": "markdown",
      "source": [
        "Biblioteka `Pandas` umożliwia również łączenie danych z różnych tabel na podstawie wspólnych kolumn lub indeksów. Metoda `merge()` pozwala na łączenie danych z różnych tabel na podstawie wspólnych kolumn lub indeksów, co jest przydatne do integracji danych z różnych źródeł."
      ],
      "metadata": {
        "id": "Tka1bifoDvF1"
      }
    },
    {
      "cell_type": "markdown",
      "source": [
        "**Przykład**"
      ],
      "metadata": {
        "id": "b6lIVWuIDyVP"
      }
    },
    {
      "cell_type": "code",
      "source": [
        "# Tworzenie pierwszego przykładowego DataFrame\n",
        "data1 = {\n",
        "    'c1': [85, 47, 61, 38, 44, 11],\n",
        "    'c2': [44, 11, 70, 88, 71, 51]\n",
        "}\n",
        "df1 = pd.DataFrame(data1, index=['p1', 'p2', 'p3', 'p4', 'p5', 'p6'])\n",
        "print(df1)"
      ],
      "metadata": {
        "id": "tQo4xrV2D2uw"
      },
      "execution_count": null,
      "outputs": []
    },
    {
      "cell_type": "code",
      "source": [
        "# Tworzenie drugiego przykładowego DataFrame\n",
        "data2 = {\n",
        "    'c3': [75, 25, 83, 45, 78, 45],\n",
        "    'c4': [14, 37, 36, 93, 17, 66]\n",
        "}\n",
        "df2 = pd.DataFrame(data2, index=['p1', 'p2', 'p3', 'p4', 'p5', 'p6'])\n",
        "print(df2)"
      ],
      "metadata": {
        "id": "Rat15P0hD4KD"
      },
      "execution_count": null,
      "outputs": []
    },
    {
      "cell_type": "markdown",
      "source": [
        "**Łączenie tabel względem indeksu**"
      ],
      "metadata": {
        "id": "F5vq0EhoC5D6"
      }
    },
    {
      "cell_type": "code",
      "source": [
        "merged_df = df1.merge(df2, left_index=True, right_index=True)\n",
        "print(merged_df)"
      ],
      "metadata": {
        "id": "8iJi_IcKD_rP"
      },
      "execution_count": null,
      "outputs": []
    },
    {
      "cell_type": "markdown",
      "source": [
        "Parametry `left_index` i `right_index` w metodzie `merge()` służą do łączenia dwóch `DataFrame`'ów na podstawie ich indeksów. To oznacza, że zamiast używać kolumny jako klucza do łączenia, Pandas używa indeksu (index) każdego `DataFrame`. Jest to szczególnie przydatne, gdy dane są już odpowiednio zindeksowane, a my chcemy połączyć tabele bez dodawania dodatkowych kolumn kluczowych."
      ],
      "metadata": {
        "id": "6bWztEB6FdsO"
      }
    },
    {
      "cell_type": "markdown",
      "source": [
        "## 4.10. Zadania"
      ],
      "metadata": {
        "id": "WyALlZlEGP7g"
      }
    },
    {
      "cell_type": "markdown",
      "source": [
        "**Zadanie 4.10.1**\n",
        "\n",
        "Masz zestaw danych dotyczących wyników studentów w różnych przedmiotach. Twoim zadaniem jest wykonanie filtracji oraz manipulacji danymi w `DataFrame` za pomocą warunków logicznych."
      ],
      "metadata": {
        "id": "6UXv5eavGVpv"
      }
    },
    {
      "cell_type": "code",
      "source": [
        "import pandas as pd\n",
        "\n",
        "# Tworzenie przykładowego DataFrame\n",
        "data = {\n",
        "    'Student': ['Alice', 'Bob', 'Charlie', 'David', 'Eva', 'Frank'],\n",
        "    'Math': [85, 47, 61, 38, 44, 11],\n",
        "    'Science': [44, 11, 70, 88, 71, 51],\n",
        "    'English': [75, 25, 83, 45, 78, 45],\n",
        "    'Grade': ['A', 'B', 'A', 'C', 'B', 'C']\n",
        "}\n",
        "df = pd.DataFrame(data)\n",
        "print(df)"
      ],
      "metadata": {
        "id": "XpCsVA3gGcCx"
      },
      "execution_count": null,
      "outputs": []
    },
    {
      "cell_type": "markdown",
      "source": [
        "* Filtruj dane, aby wyświetlić tylko te wiersze, w których wartość w kolumnie `'Math'` jest większa niż 50.\n",
        "* Filtruj dane, aby wyświetlić tylko te wiersze, w których wartość w kolumnie `'Math'` jest większa niż 50 oraz wartość w kolumnie `'Science'` jest mniejsza niż 60.\n",
        "* Filtruj dane, aby wyświetlić tylko te wiersze, w których wartość w kolumnie `'Student'` zawiera literę `'a'`.\n",
        "* Ustaw wartości w kolumnach `'Science'` i `'English'` na 0 dla tych wierszy, w których wartość w kolumnie 'Math' jest większa niż 60."
      ],
      "metadata": {
        "id": "CC0bwEX3Gf53"
      }
    },
    {
      "cell_type": "markdown",
      "source": [
        "**Zadanie 4.10.2**\n",
        "\n",
        "Twoim zadaniem jest przeprowadzenie analizy danych z salonu samochodowego, w tym statystycznej analizy, sortowania oraz grupowania danych. Na koniec, połącz dane z dwóch różnych źródeł, aby uzyskać pełny obraz sprzedaży i dostępności samochodów.\n",
        "\n",
        "1. Najpierw utwórz przykładowy `DataFrame` na podstawie poniższych danych:\n",
        "```\n",
        "import pandas as pd\n",
        "# Tworzenie przykładowego DataFrame\n",
        "data = {\n",
        "    'Model': ['Model A', 'Model B', 'Model C', 'Model D', 'Model E', 'Model F'],\n",
        "    'Price': [25000, 27000, 30000, 22000, 21000, 24000],\n",
        "    'Mileage': [5000, 3000, 10000, 15000, 20000, 12000],\n",
        "    'Year': [2019, 2020, 2018, 2020, 2021, 2019],\n",
        "    'Condition': ['New', 'Used', 'Used', 'New', 'New', 'Used']\n",
        "}\n",
        "df = pd.DataFrame(data, index=['Car1', 'Car2', 'Car3', 'Car4', 'Car5', 'Car6'])\n",
        "print(df)\n",
        "```\n",
        "\n",
        "2. Statystyczna analiza danych\n",
        "\n",
        "Wykonaj następujące operacje statystyczne:\n",
        "\n",
        "* Największa wartość w każdej kolumnie\n",
        "* Średnia wartość w każdej kolumnie\n",
        "* Mediana wartości w każdej kolumnie\n",
        "* Odchylenie standardowe wartości w każdej kolumnie\n",
        "* Sumaryczne statystyki\n",
        "\n",
        "3. Sortowanie danych\n",
        "\n",
        "Wykonaj sortowanie danych na różne sposoby:\n",
        "* Sortowanie względem kolumny `'Price'` w kolejności rosnącej\n",
        "* Sortowanie względem kolumny `'Mileage'` w kolejności malejącej\n",
        "* Sortowanie względem wielu kolumn (`Year`, `Price`)\n",
        "* Sortowanie względem indeksu\n",
        "\n",
        "4. Grupowanie danych\n",
        "\n",
        "Wykonaj grupowanie danych względem kolumny `'Condition'` i oblicz średnie wartości w każdej grupie:\n",
        "\n",
        "5. Łączenie tabel\n",
        "\n",
        "Utwórz dwa `DataFrame`'y i połącz je względem indeksu:\n",
        "```\n",
        "# Tworzenie pierwszego przykładowego DataFrame\n",
        "data1 = {\n",
        "    'Model': ['Model A', 'Model B', 'Model C', 'Model D', 'Model E', 'Model F'],\n",
        "    'Price': [25000, 27000, 30000, 22000, 21000, 24000]\n",
        "}\n",
        "df1 = pd.DataFrame(data1, index=['Car1', 'Car2', 'Car3', 'Car4', 'Car5', 'Car6'])\n",
        "print(\"DataFrame df1:\\n\", df1)\n",
        "\n",
        "# Tworzenie drugiego przykładowego DataFrame\n",
        "data2 = {\n",
        "    'Mileage': [5000, 3000, 10000, 15000, 20000, 12000],\n",
        "    'Year': [2019, 2020, 2018, 2020, 2021, 2019],\n",
        "    'Condition': ['New', 'Used', 'Used', 'New', 'New', 'Used']\n",
        "}\n",
        "df2 = pd.DataFrame(data2, index=['Car1', 'Car2', 'Car3', 'Car4', 'Car5', 'Car6'])\n",
        "print(\"DataFrame df2:\\n\", df2)\n",
        "```"
      ],
      "metadata": {
        "id": "CLF_JbqQH5MY"
      }
    }
  ]
}