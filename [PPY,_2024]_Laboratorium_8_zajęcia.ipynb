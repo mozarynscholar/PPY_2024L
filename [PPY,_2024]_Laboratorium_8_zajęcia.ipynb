{
  "nbformat": 4,
  "nbformat_minor": 0,
  "metadata": {
    "colab": {
      "provenance": [],
      "toc_visible": true
    },
    "kernelspec": {
      "name": "python3",
      "display_name": "Python 3"
    },
    "language_info": {
      "name": "python"
    }
  },
  "cells": [
    {
      "cell_type": "code",
      "source": [
        "import warnings\n",
        "# Configure warnings to always show them\n",
        "warnings.filterwarnings('always')"
      ],
      "metadata": {
        "id": "nkDAY3eA0rRP"
      },
      "execution_count": null,
      "outputs": []
    },
    {
      "cell_type": "markdown",
      "source": [
        "# 1.Klasy"
      ],
      "metadata": {
        "id": "YCUNvb5FoG1x"
      }
    },
    {
      "cell_type": "markdown",
      "source": [
        "Klasy w Pythonie stanowią kluczowy element programowania obiektowego i pozwalają programistom na definiowanie nowych typów, które mogą zawierać zarówno dane (atrybuty) jak i funkcje (metody)."
      ],
      "metadata": {
        "id": "e3QDnWacscVX"
      }
    },
    {
      "cell_type": "markdown",
      "source": [
        "## 1.1. Definicja klasy"
      ],
      "metadata": {
        "id": "Km_fa3o4t3zE"
      }
    },
    {
      "cell_type": "markdown",
      "source": [
        "Klasa w Pythonie jest tworzona za pomocą słowa kluczowego `class`. Podstawowy szkielet definicji klasy jest następujący"
      ],
      "metadata": {
        "id": "ZaaFguv9vUem"
      }
    },
    {
      "cell_type": "code",
      "source": [
        "class ClassName:\n",
        "    # atrybuty klasy\n",
        "    class_attribute = 'wartość'\n",
        "\n",
        "    def __init__(self, param1, param2):\n",
        "    # konstruktor klasy\n",
        "        # atrybuty instancji\n",
        "        self.param1 = param1\n",
        "        self.param2 = param2\n",
        "\n",
        "    def method1(self):\n",
        "    # Kod metody\n",
        "        return 'działanie metody1'\n",
        "\n",
        "    @classmethod\n",
        "    def class_method(cls):\n",
        "    # Kod metody klasy\n",
        "        return 'działanie metody klasy'\n",
        "\n",
        "    @staticmethod\n",
        "    def static_method():\n",
        "    # Kod metody statycznej\n",
        "        return 'działanie metody statycznej'\n"
      ],
      "metadata": {
        "id": "vaX_shZZuNlZ"
      },
      "execution_count": null,
      "outputs": []
    },
    {
      "cell_type": "markdown",
      "source": [
        "## 1.2. Konstruktor i destruktor"
      ],
      "metadata": {
        "id": "EOYmpyZx4adu"
      }
    },
    {
      "cell_type": "markdown",
      "source": [
        "* **Konstruktor**\n",
        "\n",
        "Konstruktor w Pythonie to specjalna metoda, która jest wywoływana automatycznie podczas tworzenia nowej instancji klasy. Jest to metoda inicjalizacyjna, której głównym celem jest ustawienie początkowego stanu obiektu poprzez przypisanie wartości do jego atrybutów. W języku Python konstruktor jest reprezentowany przez metodę `__init__`.\n",
        "\n",
        "**Zrozumienie metody `__init__`**\n",
        "\n",
        "Metoda `__init__` jest zawsze związana z daną klasą i nazywana jest **konstruktorem tej klasy**.\n",
        "\n",
        "Konstruktor może również zawierać **argumenty opcjonalne z wartościami domyślnymi**, co daje większą elastyczność przy tworzeniu instancji.\n",
        "\n",
        "**Uwagi**\n",
        "\n",
        "* **Inicjalizacja stanu**: Konstruktor służy głównie do inicjalizacji stanu nowych obiektów.\n",
        "* **Konstruktor nie zwraca wartości**: Metoda `__init__` nigdy nie zwraca żadnej wartości (ani nawet `None`).\n",
        "* **Automatyczne wywołanie**: Jest automatycznie wywoływana, gdy tylko nowy obiekt klasy jest tworzony.\n",
        "* **Dostęp do innych metod**: W konstruktorze można również wywoływać inne metody klasy (metody instancji) lub nawet metody klasy nadrzędnej, jeśli istnieje dziedziczenie."
      ],
      "metadata": {
        "id": "BT1nAYNw4pNz"
      }
    },
    {
      "cell_type": "code",
      "source": [
        "class Person:\n",
        "    def __init__(self, name, age, country=\"Nieokreślone\"):\n",
        "        self.name = name\n",
        "        self.age = age\n",
        "        self.country = country\n",
        "\n",
        "# Tworzenie instancji z domyślną lokalizacją\n",
        "person2 = Person(\"Jan\", 30)\n",
        "# Tworzenie instancji z określoną lokalizacją\n",
        "person3 = Person(\"Marta\", 22, \"Polska\")\n",
        "\n",
        "#del(person2)"
      ],
      "metadata": {
        "id": "xBvgSDCG5hjn"
      },
      "execution_count": null,
      "outputs": []
    },
    {
      "cell_type": "markdown",
      "source": [
        "**Instancje klasy**\n",
        "\n",
        "Kiedy klasa jest zdefiniowana, można tworzyć jej instancje (obiekty), wywołując klasę jak funkcję, przekazując argumenty, które jej konstruktor (`__init__`) przyjmuje."
      ],
      "metadata": {
        "id": "O1Ru9vHNvkMs"
      }
    },
    {
      "cell_type": "code",
      "source": [
        "class ClassName:\n",
        "    # atrybuty klasy\n",
        "    class_attribute = 'wartość'\n",
        "\n",
        "    def __init__(self, param1, param2):\n",
        "    # konstruktor klasy\n",
        "        # atrybuty instancji\n",
        "        self.param1 = param1\n",
        "        self.param2 = param2\n",
        "\n",
        "    def method1(self):\n",
        "    # Kod metody\n",
        "        return 'działanie metody1'\n",
        "\n",
        "    @classmethod\n",
        "    def class_method(cls):\n",
        "    # Kod metody klasy\n",
        "        return 'działanie metody klasy'\n",
        "\n",
        "    @staticmethod\n",
        "    def static_method():\n",
        "    # Kod metody statycznej\n",
        "        return 'działanie metody statycznej'\n",
        "\n",
        "#tworzenie instancji\n",
        "obj = ClassName('wartość1', 'wartość2')\n",
        "print(f\"par.1: {obj.param1}, par.2: {obj.param2}, typ:\", type(obj))"
      ],
      "metadata": {
        "colab": {
          "base_uri": "https://localhost:8080/"
        },
        "id": "R09B5_a-vug1",
        "outputId": "90ef2f3f-28d8-4f93-d2a7-adcff2ea7613"
      },
      "execution_count": null,
      "outputs": [
        {
          "output_type": "stream",
          "name": "stdout",
          "text": [
            "par.1: wartość1, par.2: wartość2, typ: <class '__main__.ClassName'>\n"
          ]
        }
      ]
    },
    {
      "cell_type": "markdown",
      "source": [
        "**Atrybuty i metody**\n",
        "\n",
        "* **Atrybuty instancji:** są zwykle ustawiane w metodzie `__init__` i są specyficzne dla danej instancji (obiektu).\n",
        "* **Metody instancji:** muszą przyjmować przynajmniej jeden argument, `self`, który jest referencją do samej instancji.\n",
        "* **Metody klasy:** są oznaczone dekoratorem `@classmethod` i przyjmują jako pierwszy argument `cls`, który reprezentuje klasę.\n",
        "* **Metody statyczne:** są oznaczone dekoratorem `@staticmethod` i nie przyjmują automatycznie żadnego argumentu specyficznego (takiego jak self lub cls). Są one używane, gdy metoda nie operuje na atrybutach instancji ani klasy."
      ],
      "metadata": {
        "id": "r0I7fzb1vgmy"
      }
    },
    {
      "cell_type": "markdown",
      "source": [
        "* **Destruktor**"
      ],
      "metadata": {
        "id": "BtKuShjhNOZC"
      }
    },
    {
      "cell_type": "markdown",
      "source": [
        "Dekstruktor klasy w Pythonie to metoda, która jest wywoływana, gdy obiekt jest usuwany (zwykle gdy jego licznik referencji spada do zera). Dekstruktor w Pythonie jest definiowany za pomocą metody `__del__()` klasy."
      ],
      "metadata": {
        "id": "cK5pVI26NSHt"
      }
    },
    {
      "cell_type": "markdown",
      "source": [
        "**Przykład**"
      ],
      "metadata": {
        "id": "meWwfLpGNalS"
      }
    },
    {
      "cell_type": "code",
      "source": [
        "class SampleClass:\n",
        "    def __init__(self):\n",
        "      #definicja konstruktora\n",
        "        print(\"Obiekt został stworzony\")\n",
        "\n",
        "    def __del__(self):\n",
        "      #definicja destruktora\n",
        "        print(\"Obiekt został usunięty\")\n",
        "\n",
        "# Tworzenie obiektu klasy\n",
        "obj = SampleClass()\n",
        "\n",
        "# Usuwanie obiektu\n",
        "del obj"
      ],
      "metadata": {
        "colab": {
          "base_uri": "https://localhost:8080/"
        },
        "id": "o0YcNKO4NXBy",
        "outputId": "9c77d44b-d915-4849-ca3a-fdf542d18818"
      },
      "execution_count": null,
      "outputs": [
        {
          "output_type": "stream",
          "name": "stdout",
          "text": [
            "Obiekt został stworzony\n",
            "Obiekt został usunięty\n"
          ]
        }
      ]
    },
    {
      "cell_type": "markdown",
      "source": [
        "W powyższym przykładzie, gdy obiekt obj klasy `SampleClass` jest usuwany przy pomocy `del obj`, Python automatycznie wywoła destruktor, czyli metodę `__del__()`. Metoda ta drukuje komunikat `\"Obiekt został usunięty\"`, informując, że obiekt został właściwie usunięty.\n",
        "\n",
        "Należy jednak pamiętać, że w Pythonie, ze względu na zarządzanie pamięcią przez *garbage collector*, **dokładny moment wywołania destruktora może nie być przewidywalny**. Python nie gwarantuje natychmiastowego wywołania `__del__()` po usunięciu ostatniej referencji do obiektu, zwłaszcza w obecności cyklicznych referencji."
      ],
      "metadata": {
        "id": "sS-u9_t0NobP"
      }
    },
    {
      "cell_type": "markdown",
      "source": [
        "## 1.3. Atrybuty klasy i atrybuty instancji"
      ],
      "metadata": {
        "id": "5sSA5FDV0NaR"
      }
    },
    {
      "cell_type": "markdown",
      "source": [
        "* **Atrybuty klasy**\n",
        "\n",
        "Atrybuty klasy są zmiennymi, które są **wspólne dla wszystkich instancji danej klasy**. Są one definiowane wewnątrz klasy, ale poza jakąkolwiek metodą, co oznacza, że mają te same wartości dla każdej instancji klasy, chyba że są jawnie zmienione dla całej klasy.\n",
        "\n",
        "**Przykłady użycia:**\n",
        "\n",
        "* Przechowywanie stałych powiązanych z klasą\n",
        "* Śledzenie stanów lub wartości wspólnych dla wszystkich instancji"
      ],
      "metadata": {
        "id": "ojCUljoD0YCJ"
      }
    },
    {
      "cell_type": "markdown",
      "source": [
        "* **Atrybuty Instancji**\n",
        "\n",
        "Atrybuty instancji są zmiennymi, które **specyficzne dla każdej instancji klasy**. Oznacza to, że każdy obiekt (instancja) klasy może mieć różne wartości tych atrybutów. Są one zwykle definiowane w metodzie `__init__`, co pozwala na ich inicjalizację podczas tworzenia każdej nowej instancji.\n",
        "\n",
        "**Przykłady użycia:**\n",
        "\n",
        "* Przechowywanie danych specyficznych dla instancji\n",
        "* Reprezentowanie stanu obiektu, który może się różnić między instancjami"
      ],
      "metadata": {
        "id": "zwLbcpRs08_H"
      }
    },
    {
      "cell_type": "markdown",
      "source": [
        "**Przykład**"
      ],
      "metadata": {
        "id": "8v_QqT4r06SP"
      }
    },
    {
      "cell_type": "code",
      "source": [
        "class Dog:\n",
        "    species = \"Canis familiaris\"  # Atrybut klasy\n",
        "\n",
        "    def __init__(self, name, age):\n",
        "        self.name = name  # Atrybut instancji\n",
        "        self.age = age    # Atrybut instancji\n",
        "\n",
        "# Tworzenie dwóch instancji klasy Dog\n",
        "dog1 = Dog(\"Buddy\", 5)\n",
        "dog2 = Dog(\"Lucy\", 3)\n",
        "\n",
        "# Każda instancja ma swoje unikalne atrybuty instancji\n",
        "print(dog1.name, dog1.age)  # Buddy 5\n",
        "print(dog2.name, dog2.age)  # Lucy 3\n",
        "# Ale wspólny atrybut klasy\n",
        "print(dog1.species)\n",
        "print(Dog.species)\n",
        "# Zmiana atrybutu klasy\n",
        "Dog.species= \"Canis lupus\"\n",
        "# Każda instancja ma swoje unikalne atrybuty instancji\n",
        "print(dog1.name, dog1.age)  # Buddy 5\n",
        "print(dog2.name, dog2.age)  # Lucy 3\n",
        "# Ale wspólny atrybut klasy\n",
        "print(dog1.species)\n",
        "print(Dog.species)\n"
      ],
      "metadata": {
        "colab": {
          "base_uri": "https://localhost:8080/"
        },
        "id": "NM6SmVTt1v4U",
        "outputId": "e5ff0801-32c7-4753-9d2f-7ec6f5de816e"
      },
      "execution_count": null,
      "outputs": [
        {
          "output_type": "stream",
          "name": "stdout",
          "text": [
            "Buddy 5\n",
            "Lucy 3\n",
            "Canis familiaris\n",
            "Canis familiaris\n",
            "Buddy 5\n",
            "Lucy 3\n",
            "Canis lupus\n",
            "Canis lupus\n"
          ]
        }
      ]
    },
    {
      "cell_type": "markdown",
      "source": [
        "## 1.4. Metody instancji, metody klasy, metody statyczne"
      ],
      "metadata": {
        "id": "jXd_BTc0xUeu"
      }
    },
    {
      "cell_type": "markdown",
      "source": [
        "* **Metody instancji**\n",
        "\n",
        "Metody instancji w Pythonie to funkcje zdefiniowane wewnątrz klasy, które operują na danych lub stanach specyficznych dla danej instancji klasy. Każda metoda instancji automatycznie przyjmuje jako pierwszy argument referencję do obiektu, na którym jest wywoływana. Ten argument jest zazwyczaj nazywany `self`. Dzięki temu metody instancji mają dostęp i mogą modyfikować stan instancji oraz wywoływać inne metody instancji.\n",
        "\n",
        "**Zrozumienie `self`**: Argument `self` to konwencja, nie wymóg składniowy Pythona, ale jest to powszechnie akceptowany standard. Jest to po prostu pierwszy argument metody instancji i odnosi się do samej instancji obiektu. Przez używanie `self` metoda wie, do którego obiektu (instancji) ma się odnosić."
      ],
      "metadata": {
        "id": "TKqurLpd250s"
      }
    },
    {
      "cell_type": "markdown",
      "source": [
        "Metody instancji są szczególnie przydatne w modelowaniu rzeczywistych obiektów i interakcji. Można użyć metod instancji do symulacji zachowań, przetwarzania danych wejściowych lub zarządzania stanem wewnętrznym obiektu.\n",
        "\n",
        "**Przykład**\n",
        "\n",
        "Metody instancji, takie jak `deposit` i `withdraw`, pozwalają na manipulację danymi instancji (tutaj saldem konta) w sposób kontrolowany i zgodny z regułami biznesowymi zdefiniowanymi w metodach."
      ],
      "metadata": {
        "id": "uZ82mO2p3tPv"
      }
    },
    {
      "cell_type": "code",
      "source": [
        "class Account:\n",
        "    def __init__(self, owner, balance=0):\n",
        "    #konstruktor\n",
        "        self.owner = owner\n",
        "        self.balance = balance\n",
        "\n",
        "    def deposit(self, amount):\n",
        "    #metoda instancji\n",
        "        if amount > 0:\n",
        "            self.balance += amount\n",
        "            print(f\"Dodano {amount} do salda.\")\n",
        "        else:\n",
        "            print(\"Kwota wpłaty musi być dodatnia.\")\n",
        "\n",
        "    def withdraw(self, amount):\n",
        "    #metoda instancji\n",
        "        if 0 < amount <= self.balance:\n",
        "            self.balance -= amount\n",
        "            print(f\"Wypłacono {amount}.\")\n",
        "        else:\n",
        "            print(\"Nieprawidłowa kwota do wypłaty.\")\n",
        "\n",
        "# Użycie metod instancji klasy Account\n",
        "acc = Account(\"Jan Kowalski\")\n",
        "acc.deposit(1000)\n",
        "acc.withdraw(500)\n",
        "print(f\"Saldo: {acc.balance}\")  # Saldo: 500"
      ],
      "metadata": {
        "id": "CP3Q4G3o3rur",
        "colab": {
          "base_uri": "https://localhost:8080/"
        },
        "outputId": "0baf6d1f-fe70-4e4a-bbf8-e15f6e1e7777"
      },
      "execution_count": null,
      "outputs": [
        {
          "output_type": "stream",
          "name": "stdout",
          "text": [
            "Dodano 1000 do salda.\n",
            "Wypłacono 500.\n",
            "Saldo: 500\n"
          ]
        }
      ]
    },
    {
      "cell_type": "markdown",
      "source": [
        "* **Metody klasy**\n",
        "\n",
        "Metody klasy w Pythonie, znane jako `class methods`, to rodzaj metody, która jest powiązana z klasą, a nie z instancją tej klasy. Oznacza to, że metoda przyjmuje samą klasę jako pierwszy argument zamiast instancji. W Pythonie, pierwszy argument metody klasy to zazwyczaj `cls`, który odnosi się do klasy.\n",
        "\n",
        "**Zastosowanie metod klasy**\n",
        "\n",
        "Metody klasy są używane w sytuacjach, gdy metoda musi operować na atrybutach klasy, które są wspólne dla wszystkich instancji, lub gdy potrzebujemy operacji, które dotyczą klasy jako całości, a nie jej pojedynczej instancji. Przykładowo, metody klasy mogą być używane do:\n",
        "\n",
        "* Tworzenia instancji klasy na różne sposoby (alternatywne konstruktory).\n",
        "* Dostępu lub modyfikacji stanu klasy, który jest wspólny dla wszystkich instancji.\n",
        "\n",
        "**Jak zdefiniować metodę klasy**\n",
        "\n",
        "Do definiowania metody klasy używamy dekoratora `@classmethod`."
      ],
      "metadata": {
        "id": "sVhMdpAjxsFB"
      }
    },
    {
      "cell_type": "markdown",
      "source": [
        "**Przykład**\n",
        "\n",
        "W przykładzie, `how_many` jest metodą klasy, która zwraca informacje o liczbie stworzonych instancji klasy `Person`. Widać, że **metoda ta nie operuje na konkretnych atrybutach instancji, ale zamiast tego korzysta z atrybutu klasy** `population`, co jest typowym zastosowaniem dla metod klasy."
      ],
      "metadata": {
        "id": "CJE7rkwlzxSk"
      }
    },
    {
      "cell_type": "code",
      "source": [
        "class Person:\n",
        "    population = 0  # atrybut klasy śledzący liczbę ludzi (instancji) w populacji\n",
        "\n",
        "    def __init__(self, name):\n",
        "        self.name = name\n",
        "        Person.population += 1\n",
        "\n",
        "    @classmethod\n",
        "    def how_many(cls):\n",
        "        # Metoda klasy używająca 'cls' do dostępu do atrybutu klasy\n",
        "        return f\"Populacja wynosi: {cls.population}\"\n",
        "\n",
        "# Użycie metody klasy\n",
        "print(Person.how_many())  # Wywołanie przed stworzeniem jakichkolwiek instancji\n",
        "\n",
        "pop1 = Person(\"Osoba 1\")\n",
        "print(Person.how_many())"
      ],
      "metadata": {
        "colab": {
          "base_uri": "https://localhost:8080/"
        },
        "id": "JdTg2USAym0i",
        "outputId": "6c6cde33-e1d9-4e26-d4a9-6a3acf1decdb"
      },
      "execution_count": null,
      "outputs": [
        {
          "output_type": "stream",
          "name": "stdout",
          "text": [
            "Populacja wynosi: 0\n",
            "Populacja wynosi: 1\n"
          ]
        }
      ]
    },
    {
      "cell_type": "markdown",
      "source": [
        "* **Metody statyczne**\n",
        "\n",
        "Metody statyczne w Pythonie to funkcje zdefiniowane wewnątrz klasy, które nie mają dostępu do instancji (`self`) ani do samej klasy (`cls`) jako takiej. Są one używane w sytuacjach, gdy funkcjonalność, którą metoda ma zapewniać, jest związana z klasą, ale nie wymaga dostępu do żadnych atrybutów klasy czy instancji. Dzięki temu metody statyczne mogą być wywoływane na poziomie klasy, jak i na poziomie instancji, ale ich zachowanie jest takie samo niezależnie od tego, jak są wywoływane.\n",
        "\n",
        "**Zastosowanie metod statycznych**\n",
        "\n",
        "Metody statyczne często są używane do tworzenia pomocniczych funkcji wewnątrz klasy, na przykład funkcji, które wykonują obliczenia niezwiązane bezpośrednio z danymi przechowywanymi w klasie. Służą one do enkapsulacji funkcji w klasie, gdy chcemy, aby logika była związana z klasą z semantycznego punktu widzenia, ale nie wymagała dostępu do żadnych jej atrybutów.\n",
        "\n",
        "**Definiowanie metody statycznej**\n",
        "\n",
        "Do zdefiniowania metody statycznej używa się dekoratora **@staticmethod**.\n",
        "\n",
        "**Użycie metod statycznych:**\n",
        "\n",
        "* **Enkapsulacja**: Metody statyczne pozwalają na grupowanie funkcji, które logicznie należą do klasy, ale które nie wymagają interakcji z atrybutami klasy.\n",
        "* **Unikanie globalnego stanu**: Metody statyczne nie zmieniają stanu globalnego, co czyni je bezpiecznymi do użycia w wielowątkowych lub współbieżnych aplikacjach."
      ],
      "metadata": {
        "id": "Pt7TkFhF7HJV"
      }
    },
    {
      "cell_type": "markdown",
      "source": [
        "**Przykład**"
      ],
      "metadata": {
        "id": "rGBiryY375NA"
      }
    },
    {
      "cell_type": "code",
      "source": [
        "class MathUtils:\n",
        "    @staticmethod\n",
        "    def add(x, y):\n",
        "        return x + y\n",
        "\n",
        "    @staticmethod\n",
        "    def multiply(x, y):\n",
        "        return x * y\n",
        "\n",
        "# Wywołanie metody statycznej na poziomie klasy\n",
        "result = MathUtils.add(5, 3)\n",
        "print(\"wywołanie na poziomie klasy, wynik:\", result)  # Wynik: 8\n",
        "\n",
        "# Metody statyczne można także wywoływać na poziomie instancji klasy,\n",
        "# ale jest to rzadko stosowane\n",
        "math_instance = MathUtils()\n",
        "result = math_instance.multiply(4, 3)\n",
        "print(\"wywołanie na poziomie instancji, wynik:\", result)  # Wynik: 8\n"
      ],
      "metadata": {
        "colab": {
          "base_uri": "https://localhost:8080/"
        },
        "id": "i49urrVo78Ff",
        "outputId": "3e0ac41c-ab3e-4d21-bb63-2fde191ddc7c"
      },
      "execution_count": null,
      "outputs": [
        {
          "output_type": "stream",
          "name": "stdout",
          "text": [
            "wywołanie na poziomie klasy, wynik: 8\n",
            "wywołanie na poziomie instancji, wynik: 12\n"
          ]
        }
      ]
    },
    {
      "cell_type": "markdown",
      "source": [
        "## 1.5. Zadania"
      ],
      "metadata": {
        "id": "KBVzW3i-HzAF"
      }
    },
    {
      "cell_type": "markdown",
      "source": [
        "**Zadanie 1.1**"
      ],
      "metadata": {
        "id": "oPBdV6JyH36Y"
      }
    },
    {
      "cell_type": "markdown",
      "source": [
        "Napisz program w języku Python, który symuluje prosty system zarządzania biblioteką. Program powinien zawierać dwie klasy: `Book` i `Library`.\n",
        "\n",
        "1. Klasa `Book` powinna posiadać:\n",
        "* Atrybuty: `title` (tytuł książki), `author` (autor książki), `year` (rok wydania), oraz `is_borrowed` (status wypożyczenia, domyślnie False).\n",
        "* Metody:\n",
        "** `borrow_book()`: Metoda powinna zmieniać status `is_borrowed` na `True`, jeżeli książka nie jest aktualnie wypożyczona. Jeśli książka jest już wypożyczona, metoda powinna zwracać `False`.\n",
        "** `return_book()`: Metoda powinna zmieniać status `is_borrowed` na `False`, jeżeli książka jest wypożyczona. Jeśli książka nie jest wypożyczona, metoda powinna zwracać `False`.\n",
        "** `__str__()`: Specjalna metoda do reprezentacji obiektu jako string, powinna zwracać informacje o książce w formacie: \"Tytuł, Autor, Rok Wydania\".\n",
        "\n",
        "2. Klasa `Library` powinna posiadać:\n",
        "* Atrybut: `books` (lista przechowująca obiekty klasy` Book`).\n",
        "* Metody:\n",
        "** `add_book(book)`: Metoda powinna dodawać książkę do listy `books`.\n",
        "** `list_books()`: Metoda powinna wyświetlać listę wszystkich książek w bibliotece wraz z ich statusami (`Available` jeśli `is_borrowed` jest `False`, `Borrowed` jeśli `True`).\n",
        "\n",
        "Testowanie:\n",
        "* Utwórz obiekt klasy `Library`.\n",
        "* Dodaj do biblioteki książki: \"1984\" George'a Orwella z 1949 roku i \"The Great Gatsby\" F. Scotta Fitzgeralda z 1925 roku.\n",
        "* Wywołaj metodę `list_books()`, aby wyświetlić dostępne książki i ich status."
      ],
      "metadata": {
        "id": "sHhYEg7tH7JA"
      }
    },
    {
      "cell_type": "markdown",
      "source": [
        "## 1.6. Rozwiązania zadań"
      ],
      "metadata": {
        "id": "1HiHYooJMNl_"
      }
    },
    {
      "cell_type": "markdown",
      "source": [
        "## 1.7 Metody `__str__` i `__repr__`"
      ],
      "metadata": {
        "id": "I5E1Ka7NMTXn"
      }
    },
    {
      "cell_type": "markdown",
      "source": [
        "* **Metoda `__str__`**\n",
        "\n",
        "Metoda `__str__` w języku Python jest często wykorzystywana do zdefiniowania czytelnej dla człowieka reprezentacji instancji klasy jako **czytelny dla człowieka** `string`.\n",
        "\n",
        "Kiedy tworzona jest klasa w Pythonie i dodawana metoda `__str__`, Python automatycznie używa tej metody za każdym razem, gdy chcemy skonwertować obiekt klasy na łańcuch znaków, na przykład przy użyciu funkcji `str()` lub kiedy używamy obiektu w kontekście, który wymaga reprezentacji tekstowej (np. w funkcji print()).\n",
        "\n",
        "* **Metoda `__repr__`**\n",
        "\n",
        "W Pythonie istnieje także inna specjalna metoda o nazwie `__repr__`, która ma podobny cel, ale jest używana w nieco innych kontekstach. **Metoda `__repr__` ma na celu dostarczenie reprezentacji, która jest jednoznaczna i zazwyczaj może być użyta do odtworzenia obiektu (jak kod Pythona).** Reprezentacja zwracana przez `__repr__` powinna być przede wszystkim jednoznaczna i zorientowana na programistów, podczas gdy `__str__` jest bardziej zorientowana na użytkowników końcowych i powinna być czytelna i przyjazna.\n",
        "\n",
        "**Kiedy używać `__str__` i `__repr__`**\n",
        "\n",
        "* `__str__`: kiedy chcemy zdefiniować, jak obiekt powinien być przedstawiony w sposób przyjazny i zrozumiały dla człowieka, np. w interfejsie użytkownika lub w logach, które będą czytane przez osoby.\n",
        "\n",
        "* `__repr__`: kiedy chcemy zdefiniować oficjalną reprezentację obiektu, która mogłaby być nawet użyta do odtworzenia tego obiektu. Idealnie, wywołanie `eval(repr(obiekt))` powinno zwrócić obiekt równoważny oryginałowi, choć w praktyce nie zawsze jest to możliwe lub pożądane.\n",
        "\n",
        "Implementacja obu tych metod w klasie poprawia jej użyteczność i interoperacyjność w ramach ekosystemu Pythona, czyniąc kod bardziej czytelnym i łatwiejszym do debugowania."
      ],
      "metadata": {
        "id": "sSCmNqufMmJw"
      }
    },
    {
      "cell_type": "code",
      "source": [
        "class Person:\n",
        "    def __init__(self, name, age):\n",
        "        self.name = name\n",
        "        self.age = age\n",
        "\n",
        "    def __repr__(self):\n",
        "        return f\"Person({self.name!r}, {self.age})\"\n",
        "\n",
        "    def __str__(self):\n",
        "        return f\"{self.name} ma {self.age} lat.\"\n",
        "\n",
        "# Tworzenie instancji klasy Person\n",
        "person = Person('Alicja', 30)\n",
        "\n",
        "# Drukowanie instancji i jej reprezentacji\n",
        "print(person)           # Wykorzystuje __str__, wynik: Alicja ma 30 lat.\n",
        "print(repr(person))     # Wykorzystuje __repr__, wynik: Person('Alicja', 30)"
      ],
      "metadata": {
        "id": "hmh9DEzqM1K1",
        "colab": {
          "base_uri": "https://localhost:8080/"
        },
        "outputId": "d003ee3d-317b-490e-b5a9-04ef887e0687"
      },
      "execution_count": null,
      "outputs": [
        {
          "output_type": "stream",
          "name": "stdout",
          "text": [
            "Alicja ma 30 lat.\n",
            "Person('Alicja', 30)\n"
          ]
        }
      ]
    },
    {
      "cell_type": "markdown",
      "source": [
        "## 1.8. Metody \"magiczne\" / \"dunder\""
      ],
      "metadata": {
        "id": "sVwiVhNHSrHJ"
      }
    },
    {
      "cell_type": "markdown",
      "source": [
        "**Metody magiczne**, znane również jako metody **dunder** (od ang. *double underscore*), są specjalnymi metodami w Pythonie, które zaczynają się i kończą na podwójnym podkreśleniu, na przykład `__init__` lub `__str__`. Są one wykorzystywane przez sam język Python do implementacji i dostosowywania różnorodnych funkcji i operacji, które mają bezpośredni związek z obiektami klasy.\n",
        "\n",
        "**Kluczowe cechy metod magicznych:**\n",
        "\n",
        "* **Automatyczne Wywoływanie**: Metody magiczne są zwykle wywoływane automatycznie przez interpreter Pythona w odpowiedzi na określone operacje. Na przykład, metoda `__init__` jest wywoływana podczas tworzenia nowego obiektu, a `__str__` gdy obiekt jest konwertowany na string za pomocą `str()` lub wyświetlany przez `print()`.\n",
        "\n",
        "* **Modyfikacja Zachowania Podstawowego:** Te metody pozwalają na modyfikację standardowego zachowania obiektów. Na przykład, można zdefiniować, jak obiekty są porównywane (`__eq__`, `__lt__`), jakie operacje matematyczne są obsługiwane (`__add__`, `__mul__`), jak obiekty są reprezentowane (`__repr__`) oraz jak są konwertowane na string (`__str__`).\n",
        "\n",
        "* **Rozszerzanie Funkcjonalności:**  Dzięki metodom magicznym można rozszerzać lub dostosowywać funkcjonalność standardowych typów danych lub klas użytkownika, dodając do nich nowe metody obsługujące operacje, które normalnie nie byłyby dostępne."
      ],
      "metadata": {
        "id": "OFtCrIvBSyXo"
      }
    },
    {
      "cell_type": "markdown",
      "source": [
        "**Przykłady popularnych metod magicznych:**\n",
        "\n",
        "* `__init__(self, ...)`: Konstruktor obiektu, wywoływany przy tworzeniu nowego obiektu.\n",
        "* `__del__(self)`: Destruktor, wywoływany podczas usuwania obiektu.\n",
        "* `__repr__(self`): Zwraca oficjalną reprezentację obiektu, często używaną do debugowania.\n",
        "* `__str__(self)`: Zwraca czytelną \"dla człowieka\" reprezentację obiektu.\n",
        "* `__getitem__(self, key)`: Umożliwia indeksowanie obiektu.\n",
        "* `__setitem__(self, key, value)`: Pozwala na przypisanie wartości do atrybutów obiektu.\n",
        "* `__call__`(self, \\*args, \\**kwargs): Pozwala na wywoływanie obiektów jak funkcji."
      ],
      "metadata": {
        "id": "cRROkwb6TudL"
      }
    },
    {
      "cell_type": "markdown",
      "source": [
        "# 2.Dynamiczne wywoływanie kodu"
      ],
      "metadata": {
        "id": "6M2mdcbCWBcT"
      }
    },
    {
      "cell_type": "markdown",
      "source": [
        "Funkcja `eval()` w Pythonie służy do wykonania ciągu znaków jako wyrażenia Pythona. Funkcja ta pozwala na dynamiczne wykonanie wyrażeń zawartych w formie tekstowej i uzyskanie ich wartości. Jest często stosowana w sytuacjach, gdzie kod musi być generowany dynamicznie lub pochodzi z zewnętrznych źródeł."
      ],
      "metadata": {
        "id": "BZmwnkuxWH9T"
      }
    },
    {
      "cell_type": "markdown",
      "source": [
        "Składnia\n",
        "\n",
        "`eval(expression, globals, locals)`\n",
        "\n",
        "Argumenty\n",
        "\n",
        "* `expression` - ciąg znaków, który jest wyrażeniem Pythona do wywołania dynamicznego.\n",
        "* `globals` (opcjonalnie) - słownik reprezentujący globalną przestrzeń nazw, w której wyrażenie będzie wywoływane dynamicznie. Jeżeli nie zostanie podany, domyślnie używany jest aktualny globalny słownik.\n",
        "* `locals` (opcjonalnie) - słownik reprezentujący lokalną przestrzeń nazw, w której wyrażenie będzie wywoływane dynamicznie. Jeżeli nie zostanie podany, domyślnie używany jest słownik z argumentu `globals`."
      ],
      "metadata": {
        "id": "U0DwKDxGWRTc"
      }
    },
    {
      "cell_type": "markdown",
      "source": [
        "**Przykład**\n",
        "\n",
        "W przykładzie, `eval()` dynamicznie wywołuje wyrażenie `'x + 1'`, w kontekście gdzie zmienna `x` ma wartość `10`."
      ],
      "metadata": {
        "id": "nco0KAfiWy91"
      }
    },
    {
      "cell_type": "code",
      "source": [
        "x = 10\n",
        "result = eval('x + 1')\n",
        "print(result)  # Wypisze 11"
      ],
      "metadata": {
        "colab": {
          "base_uri": "https://localhost:8080/"
        },
        "id": "snIrzkekW1SL",
        "outputId": "ad14ece4-c185-4e02-af35-4d1b43622688"
      },
      "execution_count": null,
      "outputs": [
        {
          "output_type": "stream",
          "name": "stdout",
          "text": [
            "11\n"
          ]
        }
      ]
    },
    {
      "cell_type": "markdown",
      "source": [
        "**Zastosowania:**\n",
        "\n",
        "* **Dynamiczne wyrażenia**: `eval(`) jest używane do wywoływania wyrażeń, które są generowane w trakcie działania programu lub pochodzą z zewnętrznego źródła, jak plik konfiguracyjny czy input użytkownika.\n",
        "* **Operacje matematyczne**: Może być używane do wykonania operacji matematycznych określonych w formie tekstowej.\n",
        "\n",
        "**Bezpieczeństwo:**\n",
        "\n",
        "Używanie `eval()` wiąże się z poważnymryzykiem , ponieważ może to pozwolić na wykonanie szkodliwego kodu. Jeśli funkcja `eval()` jest używana do oceny danych wejściowych od użytkownika, może to prowadzić do ataków typu *code injection*. Tak więc pomimo swojej użyteczności, zaleca się ostrożność przy stosowaniu `eval()` z uwagi na możliwości wprowadzenia podatności do kodu.\n",
        "\n",
        "**WAŻNE:**\n",
        "* **Nigdy nie używaj `eval()` z niezaufanymi danymi**: Aby uniknąć potencjalnych problemów bezpieczeństwa, `eval()` należy używać z danymi, które nie są w pełni kontrolowane.\n",
        "* **Ograniczenie środowiska wykonania**: Można ograniczyć potencjalne szkody, stosując argumenty `globals` i `locals` w celu kontrolowania zmiennych i funkcji dostępnych dla wywoływanego wyrażenia.\n",
        "\n"
      ],
      "metadata": {
        "id": "_igzhrJkXJRD"
      }
    },
    {
      "cell_type": "markdown",
      "source": [
        "**Przykład**\n",
        "\n",
        "W poniższym przykładzie, `global_vars` jest słownikiem definiującym zmienne `x` i `y`, natomiast `local_vars` definiuje zmienną `z`. Funkcja `eval()` wywołuje dynamicznie wyrażenie `x + y + `z korzystając z tych zmiennych. Wynikiem jest suma 10 + 20 + 5, czyli 35."
      ],
      "metadata": {
        "id": "PC_nRWhkYJdO"
      }
    },
    {
      "cell_type": "code",
      "source": [
        "# Zdefiniuj zmienne globalne\n",
        "global_vars = {'x': 10, 'y': 20}\n",
        "\n",
        "# Zdefiniuj zmienne lokalne\n",
        "local_vars = {'z': 5}\n",
        "\n",
        "# Wyrażenie do oceny, używające zmiennych x, y, z\n",
        "expression = 'x + y + z'\n",
        "\n",
        "# Ocena wyrażenia z określonymi zmiennymi globalnymi i lokalnymi\n",
        "result = eval(expression, global_vars, local_vars)\n",
        "\n",
        "print(result)  # Wypisze 35\n"
      ],
      "metadata": {
        "id": "T3Y2ka_aYMEV"
      },
      "execution_count": null,
      "outputs": []
    },
    {
      "cell_type": "markdown",
      "source": [
        "**Przykład**\n",
        "\n",
        "Można użyć `globals(`) do utworzenia bezpieczniejszego środowiska dla `eval()`, które ogranicza dostępne funkcje i zmienne.\n",
        "\n",
        "W tym przykładzie, `safe_globals` zawiera klucz `__builtins__` ustawiony na `None`, co uniemożliwia dostęp do funkcji i klas wbudowanych, co zwiększa bezpieczeństwo przy ocenie wyrażeń pochodzących z niepewnych źródeł. Zmienna `x `jest zdefiniowana bezpośrednio w `safe_globals`, więc jest dostępna dla `eval()`.\n"
      ],
      "metadata": {
        "id": "Yxl6BvGeYfvg"
      }
    },
    {
      "cell_type": "code",
      "source": [
        "# Bezpieczne globalne środowisko: bez dostępu do funkcji wbudowanych\n",
        "safe_globals = {'__builtins__': None}\n",
        "\n",
        "# Zmienna dostępna\n",
        "safe_globals['x'] = 10\n",
        "\n",
        "# Wyrażenie do oceny\n",
        "expression = 'x + 1'\n",
        "\n",
        "# Ocena wyrażenia w bezpiecznym środowisku globalnym\n",
        "result = eval(expression, safe_globals)\n",
        "\n",
        "print(result)  # Wypisze 11\n"
      ],
      "metadata": {
        "colab": {
          "base_uri": "https://localhost:8080/"
        },
        "id": "YEdK6HyiYiH1",
        "outputId": "ae355963-b42b-4692-96e0-2e38e0cd19a7"
      },
      "execution_count": null,
      "outputs": [
        {
          "output_type": "stream",
          "name": "stdout",
          "text": [
            "11\n"
          ]
        }
      ]
    },
    {
      "cell_type": "markdown",
      "source": [
        "## 2.1. Zadania"
      ],
      "metadata": {
        "id": "mthAsUYq5EF6"
      }
    },
    {
      "cell_type": "markdown",
      "source": [
        "**Zadanie 2.1.**\n",
        "\n",
        "Napisz funkcję `safe_eval`, która przyjmuje jeden argument w formie łańcucha znaków, reprezentującego proste działanie arytmetyczne (dodawanie, odejmowanie, mnożenie, dzielenie). Funkcja powinna użyć funkcji `eval()` do obliczenia i zwrócenia wyniku tego działania. Dodatkowo, zadbaj o to, aby funkcja była odporna na potencjalne błędy (takie jak dzielenie przez zero: `ZeroDivisionError`, niezdefiniowane zmienne: `NameError`, błędny format danych: `SyntaxErro`r), obsługując je za pomocą wyjątków.\n",
        "\n",
        "Przykład wywołania: `safe_eval(\"8 / 2\")`"
      ],
      "metadata": {
        "id": "eh2qjf_p5JC4"
      }
    },
    {
      "cell_type": "markdown",
      "source": [
        "## 2.2. Rozwiązania zadań"
      ],
      "metadata": {
        "id": "QUGz6wPW5VGx"
      }
    },
    {
      "cell_type": "markdown",
      "source": [
        "# 3.Dziedziczenie"
      ],
      "metadata": {
        "id": "Wj0a8UhKiMXf"
      }
    },
    {
      "cell_type": "markdown",
      "source": [
        "Dziedziczenie to kluczowy mechanizm programowania obiektowego, który umożliwia jednej klasie (zwanej klasą pochodną) przejąć atrybuty i metody innej klasy (zwanej klasą bazową)."
      ],
      "metadata": {
        "id": "erl9zq7NjL54"
      }
    },
    {
      "cell_type": "markdown",
      "source": [
        "## 3.1. Podstawy dziedziczenia"
      ],
      "metadata": {
        "id": "s72xpXM2jkuI"
      }
    },
    {
      "cell_type": "markdown",
      "source": [
        "Aby zdefiniować klasę jako klasę pochodną od innej klasy, należy w definicji klasy podać nazwę klasy bazowej w nawiasach."
      ],
      "metadata": {
        "id": "cvObu6RTjowB"
      }
    },
    {
      "cell_type": "markdown",
      "source": [
        "**Przykład**\n",
        "\n",
        "W przykładzie, `DerivedClass` dziedziczy po `BaseClass`. Oznacza to, że obiekty klasy `DerivedClass` mają dostęp zarówno do własnych metod (takich jak `derived_method`), jak i metod klasy bazowej (`base_method`)."
      ],
      "metadata": {
        "id": "M8C-oXRhjvxo"
      }
    },
    {
      "cell_type": "code",
      "source": [
        "class BaseClass:\n",
        "    def __init__(self):\n",
        "        self.base_attribute = \"Wartość bazowa\"\n",
        "        print(\"konstruktor klasy bazowej\")\n",
        "\n",
        "    def base_method(self):\n",
        "        return \"Metoda z klasy bazowej\"\n",
        "\n",
        "class DerivedClass(BaseClass):\n",
        "#dziedziczy konstruktor, metody i atrybuty z klasy bazowej\n",
        "\n",
        "    def derived_method(self):\n",
        "        return \"Metoda z klasy pochodnej\"\n",
        "\n",
        "instancja=DerivedClass()\n",
        "print(instancja.base_method())\n",
        "print(instancja.derived_method())"
      ],
      "metadata": {
        "colab": {
          "base_uri": "https://localhost:8080/"
        },
        "id": "jYxeuAfVjyYS",
        "outputId": "9e86b6fd-8d41-42cf-84d4-2fe53471bd3a"
      },
      "execution_count": null,
      "outputs": [
        {
          "output_type": "stream",
          "name": "stdout",
          "text": [
            "konstruktor klasy bazowej\n",
            "Metoda z klasy bazowej\n",
            "Metoda z klasy pochodnej\n"
          ]
        }
      ]
    },
    {
      "cell_type": "markdown",
      "source": [
        "## 3.2. Rozszerzanie funkcjonalności klasy bazowej"
      ],
      "metadata": {
        "id": "XnBFitkbkniy"
      }
    },
    {
      "cell_type": "markdown",
      "source": [
        "Klasa pochodna może nie tylko dziedziczyć metody i atrybuty klasy bazowej, ale również modyfikować je lub rozszerzać o nowe elementy."
      ],
      "metadata": {
        "id": "9ggCVbrYkp8S"
      }
    },
    {
      "cell_type": "markdown",
      "source": [
        "**Przykład**\n",
        "\n",
        "W podanym przykładzie funkcja `super(`) pozwala na wywołanie metod klasy bazowej, co jest szczególnie przydatne w konstruktorach i przy nadpisywaniu metod."
      ],
      "metadata": {
        "id": "apvT5cytlC9v"
      }
    },
    {
      "cell_type": "code",
      "source": [
        "class BaseClass:\n",
        "    def __init__(self):\n",
        "        self.base_attribute = \"atrybut klasy bazowej\"\n",
        "        print(\"konstruktor klasy bazowej\")\n",
        "\n",
        "    def base_method(self):\n",
        "        return \"Metoda z klasy bazowej\"\n",
        "\n",
        "class DerivedClass(BaseClass):\n",
        "    def __init__(self):\n",
        "        super().__init__()  # Wywołanie konstruktora klasy bazowej\n",
        "        self.derived_attribute = \"atrybut klasy pochodnej\"\n",
        "\n",
        "    def base_method(self):\n",
        "        result = super().base_method()  # Wywołanie metody klasy bazowej\n",
        "        return result + \" (rozszerzona w klasie pochodnej)\"\n",
        "\n",
        "instancja=DerivedClass()\n",
        "print(instancja.base_attribute)\n",
        "print(instancja.derived_attribute)\n",
        "print(instancja.base_method())\n"
      ],
      "metadata": {
        "colab": {
          "base_uri": "https://localhost:8080/"
        },
        "id": "zywzrE3vlA0J",
        "outputId": "d6ec7471-0c92-41da-9c96-c81a67f80c4b"
      },
      "execution_count": null,
      "outputs": [
        {
          "output_type": "stream",
          "name": "stdout",
          "text": [
            "konstruktor klasy bazowej\n",
            "atrybut klasy bazowej\n",
            "atrybut klasy pochodnej\n",
            "Metoda z klasy bazowej (rozszerzona w klasie pochodnej)\n"
          ]
        }
      ]
    },
    {
      "cell_type": "markdown",
      "source": [
        "**Przykład**\n",
        "\n",
        "W przykładzie zdefiniowano dwie klasy: `Zwierz` i `Ptak`, gdzie `Ptak` dziedziczy po `Zwierz`. Klasa `Zwier`z zawiera atrybuty takie jak `gatunek`, `wiek` i `maksymalna prędkość`, a także statyczną listę `zwierzeta` przechowującą liczbę stworzeń każdego gatunku. Metoda `oblicz_odleglosc` oblicza, jaką odległość zwierzę pokona w danym czasie, bazując na swojej maksymalnej prędkości. Klasa `Ptak` rozszerza klasę `Zwier`z o dodatkowe atrybuty: `prędkość lotu` i `miejsce przebywania`, oferując metodę `przenies`, która zmienia lokalizację ptaka między `„otwartym”` miejscem a `„klatką”`. W przykładzie tworzony jest obiekt klasy `Ptak`, jego stan jest modyfikowany i wypisywany, ilustrując użycie dziedziczenia i metod zdefiniowanych w obu klasach."
      ],
      "metadata": {
        "id": "UuR7Lg23mirU"
      }
    },
    {
      "cell_type": "code",
      "source": [
        "class Zwierz:\n",
        "  \"\"\"Pierwsza klasa\"\"\"\n",
        "  rodzaj = \"zwierzę\"\n",
        "  zwierzeta = {}\n",
        "\n",
        "  def __init__(self, gatunek, wiek, predkosc):\n",
        "    self.gatunek = gatunek\n",
        "    self.wiek = wiek\n",
        "    self.max_predkosc = predkosc\n",
        "    if gatunek in Zwierz.zwierzeta:\n",
        "      Zwierz.zwierzeta[gatunek] += 1\n",
        "    else:\n",
        "      Zwierz.zwierzeta[gatunek] = 1\n",
        "\n",
        "  def oblicz_odleglosc(self, czas):\n",
        "    print(f\"{self.gatunek} w ciągu {czas} h przebedzie odleglosc {czas * self.max_predkosc} km\")\n",
        "\n",
        "  def wypisz_zwierzeta():\n",
        "    print(Zwierz.zwierzeta)\n",
        "    # nadpisuje zmienną specialną (zmiana działania polecenia print)\n",
        "\n",
        "  def __str__(self):\n",
        "    return self.gatunek + \" ma \" + str(self.wiek) + \" lat i osiaga predkosc \" + str(self.max_predkosc) + \" km/h.\"\n",
        "\n",
        "class Ptak(Zwierz):\n",
        "\n",
        "  def __init__(self, gatunek, wiek, predkosc, max_predkosc_lotu, miejsce):\n",
        "    # funkcja super() zwraca klasę Zwierz\n",
        "    super().__init__(gatunek, wiek, predkosc)\n",
        "    self.predkosc_lotu = max_predkosc_lotu\n",
        "    self.miejsce = miejsce\n",
        "\n",
        "  def przenies(self):\n",
        "    if self.miejsce == \"klatka\":\n",
        "      self.miejsce = \"otwarty\"\n",
        "    else:\n",
        "      self.miejsce = \"klatka\"\n",
        "\n",
        "# deklaracja instancji klasy\n",
        "p = Ptak(\"pingwin\", 2, 3, 0, \"otwarty\")\n",
        "print(p)\n",
        "\n",
        "p.przenies()\n",
        "print(p.miejsce)\n",
        "\n",
        "p.przenies()\n",
        "print(p.miejsce)\n",
        "\n",
        "p.oblicz_odleglosc(10)"
      ],
      "metadata": {
        "colab": {
          "base_uri": "https://localhost:8080/"
        },
        "id": "5eluJANDmnRY",
        "outputId": "13c06eb5-f74f-45c5-bcf6-10a012b6b541"
      },
      "execution_count": null,
      "outputs": [
        {
          "output_type": "stream",
          "name": "stdout",
          "text": [
            "pingwin ma 2 lat i osiaga predkosc 3 km/h.\n",
            "klatka\n",
            "otwarty\n",
            "pingwin w ciągu 10 godzin przebedzie odleglosc 30 km\n"
          ]
        }
      ]
    },
    {
      "cell_type": "markdown",
      "source": [
        "## 3.3. Wielodziedziczenie"
      ],
      "metadata": {
        "id": "j3x1NOOykxgJ"
      }
    },
    {
      "cell_type": "markdown",
      "source": [
        "Python wspiera także wielodziedziczenie, co oznacza, że klasa może dziedziczyć po wielu klasach bazowych.\n",
        "\n",
        "**WAŻNE:** Może prowadzić do skomplikowanych sytuacji, zwłaszcza gdy wiele klas bazowych definiuje te same metody."
      ],
      "metadata": {
        "id": "dQ2Urhfxlmyn"
      }
    },
    {
      "cell_type": "markdown",
      "source": [
        "W przypadku wielodziedziczenia, kolejność klas bazowych w definicji klasy jest ważna. Python szuka metod w klasach bazowych w kolejności, w jakiej są wymienione, dlatego w poniższym przykładzie wynikiem będzie `\"Metoda z pierwszej klasy bazowej\"`, ponieważ `FirstBase` jest wymienione przed `SecondBase`."
      ],
      "metadata": {
        "id": "HNQE0FRgl20d"
      }
    },
    {
      "cell_type": "code",
      "source": [
        "class FirstBase:\n",
        "    def my_method(self):\n",
        "        return \"Metoda z pierwszej klasy bazowej\"\n",
        "\n",
        "class SecondBase:\n",
        "    def my_method(self):\n",
        "        return \"Metoda z drugiej klasy bazowej\"\n",
        "\n",
        "class MultiDerived(FirstBase, SecondBase):\n",
        "    pass\n",
        "\n",
        "instancja = MultiDerived()\n",
        "print(instancja.my_method())"
      ],
      "metadata": {
        "colab": {
          "base_uri": "https://localhost:8080/"
        },
        "id": "iJa9NPKLlxmd",
        "outputId": "da44914b-6070-4270-afff-64caa13d5c12"
      },
      "execution_count": null,
      "outputs": [
        {
          "output_type": "stream",
          "name": "stdout",
          "text": [
            "Metoda z pierwszej klasy bazowej\n"
          ]
        }
      ]
    },
    {
      "cell_type": "markdown",
      "source": [
        "## 3.4. Zadania"
      ],
      "metadata": {
        "id": "3Nkf4Z-5Wwih"
      }
    },
    {
      "cell_type": "markdown",
      "source": [
        "**Zadanie 3.1**\n",
        "\n",
        "Zaprojektuj prosty system do zarządzania flotą pojazdów dla dużej firmy logistycznej, wykorzystując dziedziczenie w Pythonie. System powinien pozwalać na reprezentowanie różnych typów pojazdów, takich jak samochody osobowe, ciężarówki i motocykle.\n",
        "\n",
        "1. Stwórz klasę bazową `Vehicle`:\n",
        "* Klasa `Vehicle` powinna zawierać wspólne cechy wszystkich pojazdów:\n",
        "** Atrybuty: `make` (marka), `model` (model), i `year` (rok produkcji).\n",
        "** Metoda `describe_vehicle()`: która wydrukuje podstawowe informacje o pojeździe.\n",
        "\n",
        "2. Stwórz klasy pochodne `Car`, `Truck`, i `Motorcycle`:\n",
        "* Klasa `Car` powinna mieć dodatkowe cechy:\n",
        "** Atrybuty: `doors` (liczba drzwi) i `passengers` (maksymalna liczba pasażerów).\n",
        "** Metoda `describe_vehicl`e(): która powinna wykorzystać `describe_vehicle`() z klasy bazowej i dodać informacje o liczbie drzwi i pasażerach.\n",
        "* Klasa `Truck` powinna mieć dodatkowe cechy:\n",
        "** Atrybuty: `cargo_capacity` (ładowność w tonach).\n",
        "** Metoda `describe_vehicle()`: która powinna wykorzystać `describe_vehicle()` z klasy bazowej i dodać informację o ładowności.\n",
        "* Klasa Motorcycle powinna mieć dodatkowe cechy:\n",
        "** Atrybuty: `has_sidecar` (informacja, czy motocykl posiada przyczepkę boczną, wartość `boolean`).\n",
        "** Metoda `describe_vehicle()`: która powinna wykorzystać `describe_vehicle()` z klasy bazowej i dodać informację, czy motocykl posiada przyczepkę boczną.\n",
        "\n",
        "**Testy:**\n",
        "\n",
        "Utwórz obiekty dla każdego typu pojazdu z odpowiednimi szczegółami. Wywołaj metodę `describe_vehicle()` dla każdego obiektu, aby wyświetlić szczegóły pojazdu."
      ],
      "metadata": {
        "id": "2fc-OFgaW9Zy"
      }
    },
    {
      "cell_type": "markdown",
      "source": [
        "## 3.5. Rozwiązania zadań"
      ],
      "metadata": {
        "id": "cATDOYdhYHDV"
      }
    },
    {
      "cell_type": "markdown",
      "source": [
        "# 4.Hermetyzacja (enkapsulacja)"
      ],
      "metadata": {
        "id": "NSSdxmYZir8Y"
      }
    },
    {
      "cell_type": "markdown",
      "source": [
        "Hermetyzacja (enkapsulacja) to mechanizm programowania obiektowego, który łączy dane (atrybuty) i metody operujące na tych danych w jedną strukturę – klasę, jednocześnie ograniczając dostęp do niektórych komponentów klasy od zewnętrznego świata.\n",
        "\n",
        "Hermetyzacja pomaga w utrzymaniu kodu, który jest bezpieczny (chroni dane przed nieautoryzowanym dostępem), łatwiejszy do testowania, a także mniej podatny na błędy spowodowane niezamierzoną interakcją z wewnętrznymi stanami obiektów.\n",
        "\n",
        "Python obsługuje hermetyzację, dziedziczenie i polimorfizm. Jednym ze sposobów, w jaki Python implementuje hermetyzację, jest użycie modyfikatorów dostępu dla atrybutów i metod klas.\n",
        "\n",
        "Prywatne i chronione pola w programowaniu obiektowym są ważnymi koncepcjami, które pomagają zapewnić hermetyzację i utrzymać integralność klasy. Hermetyzacja to koncepcja ukrywania wewnętrznych szczegółów obiektu i udostępniania światu zewnętrznemu tylko niezbędnych informacji. Dzięki temu klasa może być używana w przewidywalny i spójny sposób, nawet jeśli jej implementacja ulegnie zmianie. Korzystając z pól prywatnych i chronionych, programiści mogą kontrolować widoczność i dostępność atrybutów i metod klasy, zapobiegając przypadkowemu lub celowemu niewłaściwemu użyciu.\n",
        "\n",
        "*Jednym z przykładów, w których ukrywanie wewnętrznych szczegółów może być przydatne, jest tworzenie klasy reprezentującej złożoną funkcję matematyczną. Rozważmy na przykład klasę reprezentującą funkcję wielomianową. Klasa mogłaby mieć prywatne pola dla współczynników wielomianu i publiczne metody do obliczania funkcji w określonym punkcie, znajdowania pochodnej lub wykreślania funkcji. Ukrywając wewnętrzną reprezentację wielomianu jako pola prywatne, użytkownik klasy musi tylko wiedzieć, jak wywołać metody publiczne i nie musi znać szczegółów dotyczących sposobu przechowywania wielomianu i manipulowania nim wewnętrznie. Sprawia to, że klasa jest łatwiejsza w użyciu i mniej podatna na błędy, ponieważ użytkownik nie może przypadkowo zmodyfikować wewnętrznej reprezentacji wielomianu w sposób, który spowodowałby nieoczekiwane wyniki.*\n",
        "\n",
        "**Zakrywanie danych**\n",
        "\n",
        "W Pythonie hermetyzację realizuje się przez ograniczenie dostępu do zmiennych i metod klasy. Chociaż Python nie obsługuje hermetyzacji w sposób ścisły (jak np. Java czy C++ przez modyfikatory dostępu takie jak `private`), konwencjonalnie przedrostek z podwójnym podkreśleniem `__` (np. `__nazwa_atrybutu`) oznacza, że element jest traktowany jako prywatny. **Taki atrybut nie jest dostępny bezpośrednio z zewnątrz klasy, co jest realizowane przez tzw. name mangling, gdzie interpreter zmienia nazwę atrybutu na `_NazwaKlasy__nazwa_atrybutu`**.\n",
        "\n",
        "**Metody dostępowe**\n",
        "\n",
        "Dostęp do prywatnych atrybutów jest zwykle realizowany przez publiczne metody, które nazywamy `getterami` i `setterami`. **Pozwalają one na kontrolowane odczytywanie i modyfikację wartości tych atrybutów.** Jest to szczególnie użyteczne, gdy chcemy zaimplementować dodatkową logikę walidacyjną przy zmianie wartości atrybutu.\n",
        "\n",
        "Przykładowo, klasa przechowująca informacje o użytkowniku może mieć **prywatne atrybuty** takie jak `hasło`. Aby uzyskać dostęp do tego hasła, można użyć metody `get_password()`, która może implementować dodatkowe mechanizmy bezpieczeństwa (np. logowanie prób dostępu)."
      ],
      "metadata": {
        "id": "1gUnI5h_t6Qw"
      }
    },
    {
      "cell_type": "markdown",
      "source": [
        "## 4.1.Atrybuty prywatne"
      ],
      "metadata": {
        "id": "STRjxCy9vGpm"
      }
    },
    {
      "cell_type": "markdown",
      "source": [
        "W Pythonie atrybuty prywatne są oznaczane prefiksem z podwójnym podkreśleniem przed nazwą atrybutu (np. `__private_attribute`). Ideą atrybutów prywatnych jest to, że mogą być one dostępne tylko wewnątrz klasy i nie powinny być dostępne spoza klasy (także w klasach pochodnych). **Należy jednak pamiętać, że składnia z podwójnym podkreśleniem jest tylko konwencją, a nie ścisłą regułą.**\n",
        "\n",
        "Gdy atrybut z prefiksem podwójnego podkreślenia jest przywoływany spoza klasy, nazwa atrybutu jest automatycznie zmieniana, aby zapobiec przypadkowemu dostępowi. Zmieniona nazwa jest tworzona przez dodanie prefiksu `\"_ClassName\"` do oryginalnej nazwy (np. `_ClassName__private_attribute`):"
      ],
      "metadata": {
        "id": "j2YHkk8awoTF"
      }
    },
    {
      "cell_type": "markdown",
      "source": [
        "**Przykład**"
      ],
      "metadata": {
        "id": "j-ZblW8ZxCLb"
      }
    },
    {
      "cell_type": "code",
      "source": [
        "class Person:\n",
        "    def __init__(self, name, age):\n",
        "        self.__private_attribute = 'This is a private attribute.'\n",
        "        self.name = name\n",
        "        self.age = age\n",
        "\n",
        "person = Person('John Doe', 30)\n",
        "#próba uzyskania dostępu do prywatnego atrybutu spoza klasy skutkuje wyświetleniem błędu AttributeError.\n",
        "print(person.__private_attribute)"
      ],
      "metadata": {
        "colab": {
          "base_uri": "https://localhost:8080/",
          "height": 180
        },
        "id": "O3388Ujow8ua",
        "outputId": "ecf973b7-8c46-471d-f2a0-060736a40656"
      },
      "execution_count": null,
      "outputs": [
        {
          "output_type": "error",
          "ename": "AttributeError",
          "evalue": "'Person' object has no attribute '__private_attribute'",
          "traceback": [
            "\u001b[0;31m---------------------------------------------------------------------------\u001b[0m",
            "\u001b[0;31mAttributeError\u001b[0m                            Traceback (most recent call last)",
            "\u001b[0;32m<ipython-input-29-3127c6ee7a29>\u001b[0m in \u001b[0;36m<cell line: 8>\u001b[0;34m()\u001b[0m\n\u001b[1;32m      6\u001b[0m \u001b[0;34m\u001b[0m\u001b[0m\n\u001b[1;32m      7\u001b[0m \u001b[0mperson\u001b[0m \u001b[0;34m=\u001b[0m \u001b[0mPerson\u001b[0m\u001b[0;34m(\u001b[0m\u001b[0;34m'John Doe'\u001b[0m\u001b[0;34m,\u001b[0m \u001b[0;36m30\u001b[0m\u001b[0;34m)\u001b[0m\u001b[0;34m\u001b[0m\u001b[0;34m\u001b[0m\u001b[0m\n\u001b[0;32m----> 8\u001b[0;31m \u001b[0mprint\u001b[0m\u001b[0;34m(\u001b[0m\u001b[0mperson\u001b[0m\u001b[0;34m.\u001b[0m\u001b[0m__private_attribute\u001b[0m\u001b[0;34m)\u001b[0m  \u001b[0;31m# AttributeError: 'Person' object has no attribute '__private_attribute'\u001b[0m\u001b[0;34m\u001b[0m\u001b[0;34m\u001b[0m\u001b[0m\n\u001b[0m",
            "\u001b[0;31mAttributeError\u001b[0m: 'Person' object has no attribute '__private_attribute'"
          ]
        }
      ]
    },
    {
      "cell_type": "markdown",
      "source": [
        "Jednym ze sposobów uzyskania do niego dostępu, jeśli jest to konieczne, jest utworzenie metody (funkcji klasy, `getter`), która zwracałaby wartość `__private_attribute`:"
      ],
      "metadata": {
        "id": "b1VESSiExWk0"
      }
    },
    {
      "cell_type": "code",
      "source": [
        "class Person:\n",
        "    def __init__(self, name, age):\n",
        "        self.__private_attribute = age\n",
        "        self.name = name\n",
        "\n",
        "    def get_private_attribute(self):\n",
        "        return self.__private_attribute\n",
        "\n",
        "person = Person('John Doe', 30)\n",
        "print(person.get_private_attribute())  # 30\n"
      ],
      "metadata": {
        "colab": {
          "base_uri": "https://localhost:8080/"
        },
        "id": "7_pujFFPxgJ3",
        "outputId": "c6f65c96-a1f1-4525-f3ba-d96e2279d1c9"
      },
      "execution_count": null,
      "outputs": [
        {
          "output_type": "stream",
          "name": "stdout",
          "text": [
            "30\n"
          ]
        },
        {
          "output_type": "stream",
          "name": "stderr",
          "text": [
            "/usr/local/lib/python3.10/dist-packages/ipykernel/ipkernel.py:283: DeprecationWarning: `should_run_async` will not call `transform_cell` automatically in the future. Please pass the result to `transformed_cell` argument and any exception that happen during thetransform in `preprocessing_exc_tuple` in IPython 7.17 and above.\n",
            "  and should_run_async(code)\n"
          ]
        }
      ]
    },
    {
      "cell_type": "markdown",
      "source": [
        "W tym przykładzie klasa Person ma prywatny atrybut `__private_attribute`, który przechowuje wiek osoby. Klasa posiada publiczną metodę `get_private_attribute', która zwraca wartość atrybutu prywatnego. Podczas próby uzyskania dostępu do atrybutu prywatnego bezpośrednio spoza klasy, zgłaszany jest błąd AttributeError, wskazujący, że atrybut nie jest dostępny. Chroni to atrybut prywatny przed przypadkową lub celową modyfikacją spoza klasy, zachowując integralność klasy."
      ],
      "metadata": {
        "id": "dcIs2vqOxyqC"
      }
    },
    {
      "cell_type": "markdown",
      "source": [
        "## 4.2.Atrybuty chronione"
      ],
      "metadata": {
        "id": "0DLhk17HwXun"
      }
    },
    {
      "cell_type": "markdown",
      "source": [
        "Atrybuty chronione w Pythonie są oznaczane pojedynczym prefiksem podkreślenia przed nazwą atrybutu (np. `_protected_attribute`). Idea stojąca za atrybutami chronionymi jest podobna do atrybutów prywatnych, ponieważ nie powinny one być dostępne bezpośrednio spoza klasy. **Jednak w przeciwieństwie do atrybutów prywatnych, atrybuty chronione mogą być dostępne z poziomu klas pochodnych.**"
      ],
      "metadata": {
        "id": "jY8t-eOdx7lm"
      }
    },
    {
      "cell_type": "markdown",
      "source": [
        "**Przykład**\n",
        "\n",
        "W tym przykładzie klasa `Employee` dziedziczy po klasie `Perso`n i może uzyskać dostęp do chronionego atrybutu za pomocą metody `display_protected_attribute`. Należy zauważyć, że `employee._protected_attribute` faktycznie drukuje przechowywaną w nim wartość. Mimo to Python wyświetli ostrzeżenie, że używany jest chroniony atrybut."
      ],
      "metadata": {
        "id": "lXmE5Uv_yT7G"
      }
    },
    {
      "cell_type": "code",
      "source": [
        "class Person:\n",
        "    def __init__(self, name, age):\n",
        "        self._protected_attribute = 'This is a protected attribute. Class Person'\n",
        "        self.name = name\n",
        "        self.age = age\n",
        "\n",
        "\n",
        "class Employee(Person):\n",
        "    def display_protected_attribute(self):\n",
        "        print(self._protected_attribute)\n",
        "\n",
        "\n",
        "employee = Employee('Jane Doe', 25)\n",
        "employee.display_protected_attribute()  # This is a protected attribute.\n",
        "print(employee._protected_attribute)    # This is a protected attribute."
      ],
      "metadata": {
        "colab": {
          "base_uri": "https://localhost:8080/"
        },
        "id": "GEAsHQwNyVpI",
        "outputId": "3418cf69-3897-4646-941b-78dbcab30131"
      },
      "execution_count": null,
      "outputs": [
        {
          "output_type": "stream",
          "name": "stdout",
          "text": [
            "This is a protected attribute. Class Person\n",
            "This is a protected attribute. Class Person\n"
          ]
        },
        {
          "output_type": "stream",
          "name": "stderr",
          "text": [
            "/usr/local/lib/python3.10/dist-packages/ipykernel/ipkernel.py:283: DeprecationWarning: `should_run_async` will not call `transform_cell` automatically in the future. Please pass the result to `transformed_cell` argument and any exception that happen during thetransform in `preprocessing_exc_tuple` in IPython 7.17 and above.\n",
            "  and should_run_async(code)\n"
          ]
        }
      ]
    },
    {
      "cell_type": "markdown",
      "source": [
        "## 4.3.Metody prywatne"
      ],
      "metadata": {
        "id": "V-B8k_Ilwe0d"
      }
    },
    {
      "cell_type": "markdown",
      "source": [
        "Podobnie jak atrybuty prywatne, metody prywatne w Pythonie są oznaczone prefiksem z podwójnym podkreśleniem przed nazwą metody (np. `__private_method`). Metody prywatne są przeznaczone do użycia tylko wewnątrz klasy i nie powinny być dostępne spoza klasy."
      ],
      "metadata": {
        "id": "n4IX09zEy6nF"
      }
    },
    {
      "cell_type": "markdown",
      "source": [
        "**Przykład**\n",
        "\n",
        "Podobnie jak w przypadku atrybutów prywatnych, próba uzyskania dostępu do metod prywatnych spoza klasy skutkuje wyświetleniem błędu `AttributeError`."
      ],
      "metadata": {
        "id": "s62Jg7hNzen_"
      }
    },
    {
      "cell_type": "code",
      "source": [
        "class Person:\n",
        "    def __init__(self, name, age):\n",
        "        self.name = name\n",
        "        self.age = age\n",
        "\n",
        "    def __private_method(self):\n",
        "        print('This is a private method.')\n",
        "\n",
        "person = Person('John Doe', 30)\n",
        "#próba uzyskania dostępu do metody prywatej spoza klasy skutkuje wyświetleniem błędu AttributeError.\n",
        "person.__private_method()        # AttributeError: 'Person' object has no attribute '__private_method'"
      ],
      "metadata": {
        "colab": {
          "base_uri": "https://localhost:8080/",
          "height": 180
        },
        "id": "a1aGXMN1zKfL",
        "outputId": "d34f6ce5-8a50-44e6-c2d5-45535d4eb129"
      },
      "execution_count": null,
      "outputs": [
        {
          "output_type": "error",
          "ename": "AttributeError",
          "evalue": "'Person' object has no attribute '__private_method'",
          "traceback": [
            "\u001b[0;31m---------------------------------------------------------------------------\u001b[0m",
            "\u001b[0;31mAttributeError\u001b[0m                            Traceback (most recent call last)",
            "\u001b[0;32m<ipython-input-35-036d55bba2fe>\u001b[0m in \u001b[0;36m<cell line: 11>\u001b[0;34m()\u001b[0m\n\u001b[1;32m      9\u001b[0m \u001b[0mperson\u001b[0m \u001b[0;34m=\u001b[0m \u001b[0mPerson\u001b[0m\u001b[0;34m(\u001b[0m\u001b[0;34m'John Doe'\u001b[0m\u001b[0;34m,\u001b[0m \u001b[0;36m30\u001b[0m\u001b[0;34m)\u001b[0m\u001b[0;34m\u001b[0m\u001b[0;34m\u001b[0m\u001b[0m\n\u001b[1;32m     10\u001b[0m \u001b[0;31m#próba uzyskania dostępu do metody prywatej spoza klasy skutkuje wyświetleniem błędu AttributeError.\u001b[0m\u001b[0;34m\u001b[0m\u001b[0;34m\u001b[0m\u001b[0m\n\u001b[0;32m---> 11\u001b[0;31m \u001b[0mperson\u001b[0m\u001b[0;34m.\u001b[0m\u001b[0m__private_method\u001b[0m\u001b[0;34m(\u001b[0m\u001b[0;34m)\u001b[0m        \u001b[0;31m# AttributeError: 'Person' object has no attribute '__private_method'\u001b[0m\u001b[0;34m\u001b[0m\u001b[0;34m\u001b[0m\u001b[0m\n\u001b[0m",
            "\u001b[0;31mAttributeError\u001b[0m: 'Person' object has no attribute '__private_method'"
          ]
        }
      ]
    },
    {
      "cell_type": "markdown",
      "source": [
        "## 4.4.Metody chronione"
      ],
      "metadata": {
        "id": "c8gW6niqwkcI"
      }
    },
    {
      "cell_type": "markdown",
      "source": [
        "Metody chronione w Pythonie są oznaczane pojedynczym prefiksem podkreślenia przed nazwą metody (np. `_protected_metho`d). Metody chronione są przeznaczone do użycia w obrębie klasy i klasach pochodnych, ale nie poza nimi."
      ],
      "metadata": {
        "id": "SAY-gDe6zrtV"
      }
    },
    {
      "cell_type": "markdown",
      "source": [
        "**Przykład**"
      ],
      "metadata": {
        "id": "kRf21dVzz43f"
      }
    },
    {
      "cell_type": "code",
      "source": [
        "class Person:\n",
        "    def __init__(self, name, age):\n",
        "        self.name = name\n",
        "        self.age = age\n",
        "\n",
        "    def _protected_method(self):\n",
        "        print('This is a protected method.')\n",
        "\n",
        "\n",
        "class Employee(Person):\n",
        "    def display_protected_method(self):\n",
        "        self._protected_method()\n",
        "\n",
        "\n",
        "employee = Employee('Jane Doe', 25)\n",
        "employee.display_protected_method()  # This is a protected method.\n",
        "employee._protected_method()         # This is a protected method."
      ],
      "metadata": {
        "colab": {
          "base_uri": "https://localhost:8080/"
        },
        "id": "hKH3N-UMz6-6",
        "outputId": "9df3ac9b-1165-47f4-e073-9e9ca3ee66af"
      },
      "execution_count": null,
      "outputs": [
        {
          "output_type": "stream",
          "name": "stdout",
          "text": [
            "This is a protected method.\n",
            "This is a protected method.\n"
          ]
        }
      ]
    },
    {
      "cell_type": "markdown",
      "source": [
        "W tym przykładzie klasa `Employee` dziedziczy po klasie `Person` i jest w stanie uzyskać dostęp do chronionej metody poprzez metodę display_protected_method. Podobnie jak w przypadku chronionych atrybutów, nadal można uzyskać dostęp do chronionych metod, ale Python wyświetli ostrzeżenie, że używany jest chroniony atrybut."
      ],
      "metadata": {
        "id": "cYSRIbgO0ILT"
      }
    },
    {
      "cell_type": "markdown",
      "source": [
        "## 4.5.Zadania"
      ],
      "metadata": {
        "id": "ZOApCSeY1XIG"
      }
    },
    {
      "cell_type": "markdown",
      "source": [
        "**Zadanie 4.1.**\n",
        "\n",
        "Napisz klasę `Computer`, która zilustruje podstawy enkapsulacji w języku Python. Klasa powinna posiadać prywatny atrybut `__maxprice`, który określa maksymalną cenę komputera. Klasa powinna również zawierać:\n",
        "\n",
        "* Konstruktor (`__init__`), który inicjalizuje cenę maksymalną na 900.\n",
        "* Metodę `sell`, która wyświetla aktualną cenę maksymalną.\n",
        "* Metodę `setMaxPrice`, która pozwala zmienić wartość `__maxprice`.\n",
        "\n",
        "**Testowanie**:\n",
        "\n",
        "* Utwórz obiekt klasy `Computer` i wywołaj metodę `sell`, aby wyświetlić cenę.\n",
        "* Spróbuj bezpośrednio zmodyfikować wartość `__maxprice` z zewnątrz klasy i wywołaj ponownie metodę `sell`, aby sprawdzić, czy zmiana zadziałała.\n",
        "* Zmodyfikuj cenę za pomocą metody `setMaxPrice` i ponownie użyj metody `sell`, aby zobaczyć efekt."
      ],
      "metadata": {
        "id": "ZaZxTL4L1Z_z"
      }
    },
    {
      "cell_type": "markdown",
      "source": [
        "**Zadanie 4.2.**\n",
        "\n",
        "Napisz klasę `Circle`, która pozwoli na obliczanie i zarządzanie wartościami opisującymi geometrię koła. Klasa powinna mieć:\n",
        "\n",
        "* Prywatny atrybut (`__radius`), który przechowuje promień koła. Promień powinien być zainicjalizowany przez konstruktor klasy.\n",
        "* Metodę `get_radius` - getter, który pozwala odczytać wartość promienia.\n",
        "* Metodę `set_radius` - setter, który pozwala ustawić nową wartość promienia, ale tylko jeśli jest ona nieujemna. W przypadku próby ustawienia wartości ujemnej, metoda powinna wyświetlić komunikat o błędzie.\n",
        "* Metodę `area`, która oblicza i zwraca pole powierzchni koła (przyjąć przybliżenie 3.14i lub `math.pi`).\n",
        "\n",
        "**Testowanie:**\n",
        "\n",
        "* Utwórz obiekt klasy `Circle` z początkowym promieniem 5.\n",
        "* Wywołaj metodę `area` dla tego obiektu i wydrukuj wynik.\n",
        "* Spróbuj bezpośredniego dostępu do prywatnego atrybutu `__radius` i zobacz, jakie to spowoduje konsekwencje.\n",
        "* Wykorzystaj `getter` do wydrukowania aktualnej wartości promienia.\n",
        "* Spróbuj ustawić wartość promienia na ujemną za pomocą `settera` i obserwuj odpowiedź metody."
      ],
      "metadata": {
        "id": "Pv41cT7J17_N"
      }
    },
    {
      "cell_type": "markdown",
      "source": [
        "## 4.6. Rozwiązania zadań"
      ],
      "metadata": {
        "id": "pct4rnju2yzp"
      }
    }
  ]
}