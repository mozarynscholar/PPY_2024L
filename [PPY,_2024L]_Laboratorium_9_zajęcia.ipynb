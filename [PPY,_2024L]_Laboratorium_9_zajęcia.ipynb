{
  "nbformat": 4,
  "nbformat_minor": 0,
  "metadata": {
    "colab": {
      "provenance": [],
      "toc_visible": true
    },
    "kernelspec": {
      "name": "python3",
      "display_name": "Python 3"
    },
    "language_info": {
      "name": "python"
    }
  },
  "cells": [
    {
      "cell_type": "code",
      "source": [
        "import warnings\n",
        "# Configure warnings to always show them\n",
        "warnings.filterwarnings('always')"
      ],
      "metadata": {
        "id": "nkDAY3eA0rRP"
      },
      "execution_count": null,
      "outputs": []
    },
    {
      "cell_type": "markdown",
      "source": [
        "# 1.Dziedziczenie"
      ],
      "metadata": {
        "id": "Wj0a8UhKiMXf"
      }
    },
    {
      "cell_type": "markdown",
      "source": [
        "Dziedziczenie to kluczowy mechanizm programowania obiektowego, który umożliwia jednej klasie (zwanej klasą pochodną) przejąć atrybuty i metody innej klasy (zwanej klasą bazową)."
      ],
      "metadata": {
        "id": "erl9zq7NjL54"
      }
    },
    {
      "cell_type": "markdown",
      "source": [
        "## 1.1. Podstawy dziedziczenia"
      ],
      "metadata": {
        "id": "s72xpXM2jkuI"
      }
    },
    {
      "cell_type": "markdown",
      "source": [
        "Aby zdefiniować klasę jako klasę pochodną od innej klasy, należy w definicji klasy podać nazwę klasy bazowej w nawiasach."
      ],
      "metadata": {
        "id": "cvObu6RTjowB"
      }
    },
    {
      "cell_type": "markdown",
      "source": [
        "**Przykład**\n",
        "\n",
        "W przykładzie, `DerivedClass` dziedziczy po `BaseClass`. Oznacza to, że obiekty klasy `DerivedClass` mają dostęp zarówno do własnych metod (takich jak `derived_method`), jak i metod klasy bazowej (`base_method`)."
      ],
      "metadata": {
        "id": "M8C-oXRhjvxo"
      }
    },
    {
      "cell_type": "code",
      "source": [
        "class BaseClass:\n",
        "    def __init__(self):\n",
        "        self.base_attribute = \"Wartość bazowa\"\n",
        "        print(\"konstruktor klasy bazowej\")\n",
        "\n",
        "    def base_method(self):\n",
        "        return \"Metoda z klasy bazowej\"\n",
        "\n",
        "class DerivedClass(BaseClass):\n",
        "#dziedziczy konstruktor, metody i atrybuty z klasy bazowej\n",
        "\n",
        "    def derived_method(self):\n",
        "        return \"Metoda z klasy pochodnej\"\n",
        "\n",
        "instancja=DerivedClass()\n",
        "print(instancja.base_method())\n",
        "print(instancja.derived_method())"
      ],
      "metadata": {
        "colab": {
          "base_uri": "https://localhost:8080/"
        },
        "id": "jYxeuAfVjyYS",
        "outputId": "9e86b6fd-8d41-42cf-84d4-2fe53471bd3a"
      },
      "execution_count": null,
      "outputs": [
        {
          "output_type": "stream",
          "name": "stdout",
          "text": [
            "konstruktor klasy bazowej\n",
            "Metoda z klasy bazowej\n",
            "Metoda z klasy pochodnej\n"
          ]
        }
      ]
    },
    {
      "cell_type": "markdown",
      "source": [
        "## 1.2. Relacje *is-a* i *has-a*"
      ],
      "metadata": {
        "id": "Px5jjqmYG0tQ"
      }
    },
    {
      "cell_type": "markdown",
      "source": [
        "### 1.2.1. Relacje *is-a*"
      ],
      "metadata": {
        "id": "jmf_opkpG_dj"
      }
    },
    {
      "cell_type": "markdown",
      "source": [
        "Relacja \"is-a\" w języku Python odnosi się do dziedziczenia klas, gdzie jedna klasa (klasa pochodna) dziedziczy po innej klasie (klasie bazowej). Relacja ta oznacza, że klasa pochodna jest specjalnym przypadkiem klasy bazowej. Klasa pochodna przejmuje atrybuty i metody klasy bazowej, a także może definiować własne atrybuty i metody lub nadpisywać te odziedziczone.\n",
        "\n",
        "Na przykład: *Car **is a** Vehicle* (Samochód jest Pojazdem) *Apple **is a** Fruit* (Jabłko jest Owocem) *Cat **is an** Animal* (Kot jest Zwierzęciem). Zatem, Car dziedziczy po Vehicle, Apple dziedziczy po Fruit itd.\n",
        "\n",
        "**Co jest dziedziczone:**\n",
        "\n",
        "* **Atrybuty Instancji**: Atrybuty instancji, które są definiowane w metodzie `__init__` lub innych metodach klasy bazowej, są dostępne w klasie pochodnej.\n",
        "\n",
        "* **Metody:**  Wszystkie metody zdefiniowane w klasie bazowej są dziedziczone przez klasę pochodną, **chyba że zostaną nadpisane**.\n",
        "\n",
        "* **Atrybuty i Metody Klasowe:** Atrybuty i metody, które są zdefiniowane na poziomie klasy (statyczne), są również dziedziczone.\n",
        "\n",
        "**Ograniczenia dziedziczenia:**\n",
        "\n",
        "* **Prywatne Atrybuty i Metody:**  Atrybuty i metody, które są oznaczone jako prywatne (poprzez użycie podwójnego podkreślenia, np. `__prywatny_atrybut`), nie są bezpośrednio dostępne w klasie pochodnej.**Można się do nich odwoływać tylko przez specjalne mechanizmy nazw (mangling).**\n",
        "\n",
        "* **Nadpisywanie Metod:** Klasa pochodna może nadpisywać metody klasy bazowej. To oznacza, że jeśli klasa pochodna zdefiniuje metodę o tej samej nazwie, co metoda w klasie bazowej, to metoda z klasy bazowej zostanie zastąpiona.\n",
        "\n",
        "* **Specjalne Metody:** Metody specjalne, takie jak `__init__`, `__str__`, `__repr__`, `__eq__`, itp., **mogą być nadpisywane w klasie pochodnej**, aby zmienić ich domyślne zachowanie.\n",
        "\n",
        "**Zastosowania dziedziczenia**\n",
        "\n",
        "* Ponieważ klasa potomna może dziedziczyć wszystkie funkcjonalności klasy rodzica, umożliwia to wielokrotne użycie kodu.\n",
        "* Po opracowaniu funkcjonalności można ją odziedziczyć. Pozwala to na czystszy i łatwiejszy w utrzymaniu kod.\n",
        "* Ponieważ możesz również dodawać własne funkcjonalności w klasie potomnej, tomożna dziedziczyć tylko przydatne funkcjonalności i definiować inne wymagane funkcje.\n"
      ],
      "metadata": {
        "id": "3z5DJg1GFtxI"
      }
    },
    {
      "cell_type": "markdown",
      "source": [],
      "metadata": {
        "id": "d3v3IXzlQLWz"
      }
    },
    {
      "cell_type": "markdown",
      "source": [
        "**Przykład**"
      ],
      "metadata": {
        "id": "_1VtmWFyISm2"
      }
    },
    {
      "cell_type": "code",
      "source": [
        "class Polygon:\n",
        "    # Inicjalizujemy liczbę boków\n",
        "    def __init__(self, no_of_sides):\n",
        "        self.n = no_of_sides\n",
        "        self.sides = [0 for i in range(no_of_sides)]\n",
        "\n",
        "    def inputSides(self):\n",
        "        self.sides = [float(input(\"Enter side \"+str(i+1)+\" : \")) for i in range(self.n)]\n",
        "\n",
        "    # metoda wyświetlania długości każdego boku wielokąta\n",
        "    def dispSides(self):\n",
        "        for i in range(self.n):\n",
        "            print(\"Side\",i+1,\"is\",self.sides[i])\n",
        "\n",
        "class Triangle(Polygon):\n",
        "    # Zainicjowanie liczby boków trójkąta do 3\n",
        "    # przez wywołanie metody __init__ klasy Polygon\n",
        "    def __init__(self):\n",
        "        Polygon.__init__(self,3)\n",
        "\n",
        "    def findArea(self):\n",
        "        a, b, c = self.sides\n",
        "\n",
        "        # obbliczenie połowy obwodu\n",
        "        s = (a + b + c) / 2\n",
        "\n",
        "        # Wykorzystanie wzoru Herona do obliczenia pola trójkąta\n",
        "        area = (s*(s-a)*(s-b)*(s-c)) ** 0.5\n",
        "        print('The area of the triangle is %0.2f' %area)\n",
        "\n",
        "# Tworzenie instancji klasy Triangle\n",
        "t = Triangle()\n",
        "\n",
        "# Użytkownik zostaje poprpszony o wprowadzenie boków trójkąta\n",
        "t.inputSides()\n",
        "\n",
        "# Wyświetlanie boków trójkąta\n",
        "t.dispSides()\n",
        "\n",
        "# Obliczanie i wyświetlanie pola trójkąta\n",
        "t.findArea()"
      ],
      "metadata": {
        "id": "9RqW3EC6HaEp"
      },
      "execution_count": null,
      "outputs": []
    },
    {
      "cell_type": "markdown",
      "source": [
        "### 1.2.2. Relacje *has-a*"
      ],
      "metadata": {
        "id": "NYwsZZ9RRm2l"
      }
    },
    {
      "cell_type": "markdown",
      "source": [
        "w Pythonie relacja \"has-a\" odnosi się do kompozycji lub agregacji, gdzie jedna klasa zawiera w sobie obiekty innej klasy jako swoje atrybuty. Jest to sposób na modelowanie związków między obiektami, gdzie jeden obiekt \"posiada\" inny obiekt."
      ],
      "metadata": {
        "id": "74Cbi1c3Rtnz"
      }
    },
    {
      "cell_type": "markdown",
      "source": [
        "**Kompozycja**\n",
        "\n",
        "Kompozycja oznacza, że obiekt jest częścią innego obiektu i zazwyczaj jego istnienie jest zależne od istnienia obiektu nadrzędnego. Jest to tzw. silna relacja.\n",
        "\n",
        "**Przykład**\n",
        "\n",
        "W tym przykładzie klasa `Samochod` ma obiekt `Silnik` jako jeden ze swoich atrybutów. Relacja *has-a* oznacza, że samochód posiada silnik."
      ],
      "metadata": {
        "id": "fUFCUBdrR24J"
      }
    },
    {
      "cell_type": "code",
      "source": [
        "class Silnik:\n",
        "    def __init__(self, moc):\n",
        "        self.moc = moc\n",
        "\n",
        "    def uruchom(self):\n",
        "        return \"Silnik uruchomiony.\"\n",
        "\n",
        "class Samochod:\n",
        "    def __init__(self, marka, moc_silnika):\n",
        "        self.marka = marka\n",
        "        self.silnik = Silnik(moc_silnika)\n",
        "\n",
        "    def jedz(self):\n",
        "        return f\"{self.silnik.uruchom()} Samochód {self.marka} jedzie.\"\n",
        "\n",
        "# Tworzenie obiektu Samochod\n",
        "samochod = Samochod(\"Toyota\", 150)\n",
        "\n",
        "# Używanie metod\n",
        "print(samochod.jedz())  # Output: Silnik uruchomiony. Samochód Toyota jedzie.\n"
      ],
      "metadata": {
        "id": "y2CDj7kFSErr"
      },
      "execution_count": null,
      "outputs": []
    },
    {
      "cell_type": "markdown",
      "source": [
        "**Agregacja**\n",
        "\n",
        "Agregacja oznacza, że obiekt może istnieć niezależnie od obiektu nadrzędnego. Jest to tzw. słaba relacja.\n",
        "\n",
        "**Przykład**\n",
        "\n",
        "W tym przykładzie klasa `Samochod` posiada listę obiektów `Kolo`. Relacja \"has-a\" oznacza, że samochód posiada koła, ale koła mogą istnieć niezależnie od samochodu."
      ],
      "metadata": {
        "id": "lJKID46fSYgQ"
      }
    },
    {
      "cell_type": "code",
      "source": [
        "class Kolo:\n",
        "    def __init__(self, rozmiar):\n",
        "        self.rozmiar = rozmiar\n",
        "\n",
        "class Samochod:\n",
        "    def __init__(self, marka, kola):\n",
        "        self.marka = marka\n",
        "        self.kola = kola\n",
        "\n",
        "    def jedz(self):\n",
        "        return f\"Samochód {self.marka} jedzie na {len(self.kola)} kołach.\"\n",
        "\n",
        "# Tworzenie obiektów Kolo\n",
        "kolo1 = Kolo(16)\n",
        "kolo2 = Kolo(16)\n",
        "kolo3 = Kolo(16)\n",
        "kolo4 = Kolo(16)\n",
        "\n",
        "# Tworzenie obiektu Samochod z listą obiektów Kolo\n",
        "samochod = Samochod(\"Toyota\", [kolo1, kolo2, kolo3, kolo4])\n",
        "\n",
        "# Używanie metod\n",
        "print(samochod.jedz())  # Output: Samochód Toyota jedzie na 4 kołach.\n"
      ],
      "metadata": {
        "colab": {
          "base_uri": "https://localhost:8080/"
        },
        "id": "v2cbk2W5SuT9",
        "outputId": "dba8ce5b-9b90-4f27-8bc5-d1b18192f941"
      },
      "execution_count": null,
      "outputs": [
        {
          "output_type": "stream",
          "name": "stdout",
          "text": [
            "Samochód Toyota jedzie na 4 kołach.\n"
          ]
        }
      ]
    },
    {
      "cell_type": "markdown",
      "source": [
        "Bardziej przyjazną dla programisty jest relacja *has-a*, ponieważ pozwala ona uniknąć sporej ilości błędów w programach (wynikających z dziedziczenia), a jej zastosowanie ułatwia pielęgnację kodu. Ma ona jednak swoje ograniczenia:\n",
        "\n",
        "Tak, relacja \"has-a\" w Pythonie **ma pewne ograniczenia dotyczące dostępności metod i atrybutów**, wynikające z zasad enkapsulacji i projektowania obiektowego.\n",
        "\n",
        "* **Enkapsulacja i prywatność atrybutów**: W Pythonie można definiować atrybuty jako prywatne, używając podwójnego podkreślenia na początku nazwy atrybutu (`__atrybut`). **Prywatne atrybuty są dostępne tylko wewnątrz klasy, w której zostały zdefiniowane**, co ogranicza ich dostępność dla obiektów składowych.\n",
        "\n",
        "* **Dostępność metod składowych**: **Metody obiektu składowego są dostępne tylko przez obiekt nadrzędny**, co może prowadzić do bardziej skomplikowanego kodu, zwłaszcza jeśli konieczne jest częste wywoływanie tych metod."
      ],
      "metadata": {
        "id": "wjezn_gATktc"
      }
    },
    {
      "cell_type": "markdown",
      "source": [
        "### 1.2.3. Zasada pojedynczej odpowiedzialności\n",
        "\n",
        "\"Zasada pojedynczej odpowiedzialności\" (ang. *Single Responsibility Principl*e, SRP) to jeden z pięciu zasad SOLID w programowaniu obiektowym. Zasada ta mówi, że każda klasa lub moduł powinien mieć tylko jeden powód do zmiany, to znaczy, powinien istnieć tylko jeden aktor odpowiedzialny za zmianę klasy lub modułu.\n",
        "\n",
        "W kontekście Pythona, SRP można stosować do klas, funkcji, modułów i innych jednostek kodu. Oznacza to, że każda jednostka powinna być odpowiedzialna tylko za jedno zadanie lub funkcjonalność. Jeśli klasa lub funkcja wykonuje więcej niż jedno zadanie, istnieje ryzyko, że zmiana jednego zadania może wpłynąć na inne, co prowadzi do trudności w utrzymaniu kodu i debugowaniu.\n",
        "\n",
        "**Przykład zasady SRP w Pythonie może obejmować podział funkcji w klasie na mniejsze metody, które wykonują tylko pojedyncze zadania, a także dzielenie dużych klas na mniejsze, bardziej wyspecjalizowane klasy, które mają konkretną odpowiedzialność.**"
      ],
      "metadata": {
        "id": "PC8YHCQ2WI9n"
      }
    },
    {
      "cell_type": "markdown",
      "source": [
        "## 1.3. Przesłanianie metod w dziedziczeniu\n",
        "\n",
        "Przesłanianie metod w dziedziczeniu (ang. *method overriding)* to proces, w którym klasa pochodna definiuje metodę o tej samej nazwie co metoda w klasie bazowej. **Metoda w klasie pochodnej zastępuje (przesłania) metodę o takiej samej nazwie w klasie bazowej.**\n",
        "\n"
      ],
      "metadata": {
        "id": "HcJbJhFcZNwd"
      }
    },
    {
      "cell_type": "markdown",
      "source": [
        "**Przykład**\n",
        "\n",
        "Przykład hierarchii dziedziczenia klas w Pythonie, gdzie definiowane są klasy reprezentujące różne rodzaje zwierząt. Wybrane klasy `Pies` i `Kot` dziedziczą po klasie bazowej `Zwierze` i **nadpisują** jej metodę `dzwiek()`."
      ],
      "metadata": {
        "id": "DXM11Rk-Zw_F"
      }
    },
    {
      "cell_type": "code",
      "source": [
        "class Zwierze:\n",
        "    def dzwiek(self):\n",
        "        return \"Nieokreślony dźwięk\"\n",
        "\n",
        "class Pies(Zwierze):\n",
        "    def dzwiek(self):\n",
        "        return \"szczeka\"\n",
        "\n",
        "class Kot(Zwierze):\n",
        "    def dzwiek(self):\n",
        "        return \"miauczy\"\n",
        "\n",
        "class Krowa(Zwierze):\n",
        "    pass  # Krowa nie nadpisuje metody dzwiek, więc korzysta z implementacji z klasy bazowej\n",
        "\n",
        "zwierzeta = [Pies(), Kot(), Krowa()]\n",
        "\n",
        "for zwierze in zwierzeta:\n",
        "    print(zwierze.dzwiek())"
      ],
      "metadata": {
        "colab": {
          "base_uri": "https://localhost:8080/"
        },
        "id": "fjRCablCZ1qB",
        "outputId": "ff29f5d4-9efe-44c2-d610-525ec0801b21"
      },
      "execution_count": null,
      "outputs": [
        {
          "output_type": "stream",
          "name": "stdout",
          "text": [
            "szczeka\n",
            "miauczy\n",
            "Nieokreślony dźwięk\n"
          ]
        }
      ]
    },
    {
      "cell_type": "code",
      "source": [],
      "metadata": {
        "id": "IzxGEorWZwIv"
      },
      "execution_count": null,
      "outputs": []
    },
    {
      "cell_type": "markdown",
      "source": [
        "## 1.4. Rozszerzanie funkcjonalności klasy bazowej - metoda `super()`"
      ],
      "metadata": {
        "id": "XnBFitkbkniy"
      }
    },
    {
      "cell_type": "markdown",
      "source": [
        "Klasa pochodna może nie tylko dziedziczyć metody i atrybuty klasy bazowej, ale również modyfikować je lub rozszerzać o nowe elementy."
      ],
      "metadata": {
        "id": "9ggCVbrYkp8S"
      }
    },
    {
      "cell_type": "markdown",
      "source": [
        "**Przykład**\n",
        "\n",
        "W podanym przykładzie funkcja `super(`) pozwala na wywołanie metod klasy bazowej, co jest szczególnie przydatne w konstruktorach i przy nadpisywaniu metod."
      ],
      "metadata": {
        "id": "apvT5cytlC9v"
      }
    },
    {
      "cell_type": "code",
      "source": [
        "class BaseClass:\n",
        "    def __init__(self):\n",
        "        self.base_attribute = \"atrybut klasy bazowej\"\n",
        "        print(\"konstruktor klasy bazowej\")\n",
        "\n",
        "    def base_method(self):\n",
        "        return \"Metoda z klasy bazowej\"\n",
        "\n",
        "class DerivedClass(BaseClass):\n",
        "    def __init__(self):\n",
        "        super().__init__()  # Wywołanie konstruktora klasy bazowej\n",
        "        self.derived_attribute = \"atrybut klasy pochodnej\"\n",
        "\n",
        "    def base_method(self):\n",
        "        result = super().base_method()  # Wywołanie metody klasy bazowej\n",
        "        return result + \" (rozszerzona w klasie pochodnej)\"\n",
        "\n",
        "instancja=DerivedClass()\n",
        "print(instancja.base_attribute)\n",
        "print(instancja.derived_attribute)\n",
        "print(instancja.base_method())\n"
      ],
      "metadata": {
        "colab": {
          "base_uri": "https://localhost:8080/"
        },
        "id": "zywzrE3vlA0J",
        "outputId": "d6ec7471-0c92-41da-9c96-c81a67f80c4b"
      },
      "execution_count": null,
      "outputs": [
        {
          "output_type": "stream",
          "name": "stdout",
          "text": [
            "konstruktor klasy bazowej\n",
            "atrybut klasy bazowej\n",
            "atrybut klasy pochodnej\n",
            "Metoda z klasy bazowej (rozszerzona w klasie pochodnej)\n"
          ]
        }
      ]
    },
    {
      "cell_type": "markdown",
      "source": [
        "**Przykład**\n",
        "\n",
        "W przykładzie zdefiniowano dwie klasy: `Zwierz` i `Ptak`, gdzie `Ptak` dziedziczy po `Zwierz`. Klasa `Zwier`z zawiera atrybuty takie jak `gatunek`, `wiek` i `maksymalna prędkość`, a także statyczną listę `zwierzeta` przechowującą liczbę stworzeń każdego gatunku. Metoda `oblicz_odleglosc` oblicza, jaką odległość zwierzę pokona w danym czasie, bazując na swojej maksymalnej prędkości. Klasa `Ptak` rozszerza klasę `Zwier`z o dodatkowe atrybuty: `prędkość lotu` i `miejsce przebywania`, oferując metodę `przenies`, która zmienia lokalizację ptaka między `„otwartym”` miejscem a `„klatką”`. W przykładzie tworzony jest obiekt klasy `Ptak`, jego stan jest modyfikowany i wypisywany, ilustrując użycie dziedziczenia i metod zdefiniowanych w obu klasach."
      ],
      "metadata": {
        "id": "UuR7Lg23mirU"
      }
    },
    {
      "cell_type": "code",
      "source": [
        "class Zwierz:\n",
        "  \"\"\"Pierwsza klasa\"\"\"\n",
        "  rodzaj = \"zwierzę\"\n",
        "  zwierzeta = {}\n",
        "\n",
        "  def __init__(self, gatunek, wiek, predkosc):\n",
        "    self.gatunek = gatunek\n",
        "    self.wiek = wiek\n",
        "    self.max_predkosc = predkosc\n",
        "    if gatunek in Zwierz.zwierzeta:\n",
        "      Zwierz.zwierzeta[gatunek] += 1\n",
        "    else:\n",
        "      Zwierz.zwierzeta[gatunek] = 1\n",
        "\n",
        "  def oblicz_odleglosc(self, czas):\n",
        "    print(f\"{self.gatunek} w ciągu {czas} h przebedzie odleglosc {czas * self.max_predkosc} km\")\n",
        "\n",
        "  def wypisz_zwierzeta():\n",
        "    print(Zwierz.zwierzeta)\n",
        "    # nadpisuje zmienną specialną (zmiana działania polecenia print)\n",
        "\n",
        "  def __str__(self):\n",
        "    return self.gatunek + \" ma \" + str(self.wiek) + \" lat i osiaga predkosc \" + str(self.max_predkosc) + \" km/h.\"\n",
        "\n",
        "class Ptak(Zwierz):\n",
        "\n",
        "  def __init__(self, gatunek, wiek, predkosc, max_predkosc_lotu, miejsce):\n",
        "    # funkcja super() zwraca klasę Zwierz\n",
        "    super().__init__(gatunek, wiek, predkosc)\n",
        "    self.predkosc_lotu = max_predkosc_lotu\n",
        "    self.miejsce = miejsce\n",
        "\n",
        "  def przenies(self):\n",
        "    if self.miejsce == \"klatka\":\n",
        "      self.miejsce = \"otwarty\"\n",
        "    else:\n",
        "      self.miejsce = \"klatka\"\n",
        "\n",
        "# deklaracja instancji klasy\n",
        "p = Ptak(\"pingwin\", 2, 3, 0, \"otwarty\")\n",
        "print(p)\n",
        "\n",
        "p.przenies()\n",
        "print(p.miejsce)\n",
        "\n",
        "p.przenies()\n",
        "print(p.miejsce)\n",
        "\n",
        "p.oblicz_odleglosc(10)"
      ],
      "metadata": {
        "colab": {
          "base_uri": "https://localhost:8080/"
        },
        "id": "5eluJANDmnRY",
        "outputId": "13c06eb5-f74f-45c5-bcf6-10a012b6b541"
      },
      "execution_count": null,
      "outputs": [
        {
          "output_type": "stream",
          "name": "stdout",
          "text": [
            "pingwin ma 2 lat i osiaga predkosc 3 km/h.\n",
            "klatka\n",
            "otwarty\n",
            "pingwin w ciągu 10 godzin przebedzie odleglosc 30 km\n"
          ]
        }
      ]
    },
    {
      "cell_type": "markdown",
      "source": [
        "## 1.5. Wielodziedziczenie"
      ],
      "metadata": {
        "id": "j3x1NOOykxgJ"
      }
    },
    {
      "cell_type": "markdown",
      "source": [
        "Python wspiera także wielodziedziczenie (in. dziedziczenie wielokrotne), co oznacza, że klasa może dziedziczyć po wielu klasach bazowych.\n",
        "\n",
        "**WAŻNE:** Może prowadzić do skomplikowanych sytuacji, zwłaszcza gdy wiele klas bazowych definiuje te same metody."
      ],
      "metadata": {
        "id": "dQ2Urhfxlmyn"
      }
    },
    {
      "cell_type": "markdown",
      "source": [
        "W przypadku wielodziedziczenia, kolejność klas bazowych w definicji klasy jest ważna. Python szuka metod w klasach bazowych w kolejności, w jakiej są wymienione, dlatego w poniższym przykładzie wynikiem będzie `\"Metoda z pierwszej klasy bazowej\"`, ponieważ `FirstBase` jest wymienione przed `SecondBase`.\n",
        "\n",
        "**Jeśli atrybut nie zostanie znaleziony w samej klasie, wyszukiwanie jest kontynuowane w klasie bazowej.** Powtarza się to rekurencyjnie, jeśli sama klasa bazowa pochodzi od innych klas.\n",
        "\n",
        "**Przykład**"
      ],
      "metadata": {
        "id": "HNQE0FRgl20d"
      }
    },
    {
      "cell_type": "code",
      "source": [
        "class FirstBase:\n",
        "    def my_method(self):\n",
        "        return \"Metoda z pierwszej klasy bazowej\"\n",
        "\n",
        "class SecondBase:\n",
        "    def my_method(self):\n",
        "        return \"Metoda z drugiej klasy bazowej\"\n",
        "\n",
        "class MultiDerived(FirstBase, SecondBase):\n",
        "    pass\n",
        "\n",
        "instancja = MultiDerived()\n",
        "print(instancja.my_method())"
      ],
      "metadata": {
        "colab": {
          "base_uri": "https://localhost:8080/"
        },
        "id": "iJa9NPKLlxmd",
        "outputId": "6efbc142-8ceb-4bf3-edeb-2201b8641068"
      },
      "execution_count": null,
      "outputs": [
        {
          "output_type": "stream",
          "name": "stdout",
          "text": [
            "Metoda z pierwszej klasy bazowej\n"
          ]
        }
      ]
    },
    {
      "cell_type": "markdown",
      "source": [
        "**Przykład**\n",
        "\n",
        "W powyższym przykładzie klasa `Ba`t wywodzi się z dwóch superklas: `Mammal` i `WingedAnimal`. Tutaj używamy `b1` (obiekt `Ba`t), aby uzyskać dostęp do metod `mammal_info()` i winged_`animal_info(`) odpowiednio klasy `Mammal` i `WingedAnimal`."
      ],
      "metadata": {
        "id": "OiPrlYRhboir"
      }
    },
    {
      "cell_type": "markdown",
      "source": [
        "![obraz.png](data:image/png;base64,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)"
      ],
      "metadata": {
        "id": "9wl7mR3nxvtj"
      }
    },
    {
      "cell_type": "code",
      "source": [
        "# przykład\n",
        "\n",
        "class Mammal:\n",
        "    def mammal_info(self):\n",
        "        print(\"I am mammal.\")\n",
        "\n",
        "class WingedAnimal:\n",
        "    def winged_animal_info(self):\n",
        "        print(\"I have wings.\")\n",
        "\n",
        "class Bat(Mammal, WingedAnimal):\n",
        "    pass\n",
        "\n",
        "# tworzymy obiekt klasy Bat\n",
        "b1 = Bat()\n",
        "\n",
        "b1.mammal_info()\n",
        "b1.winged_animal_info()"
      ],
      "metadata": {
        "id": "afzGtH6Qbtsj"
      },
      "execution_count": null,
      "outputs": []
    },
    {
      "cell_type": "markdown",
      "source": [
        "## 1.6. Dziedziczenie wielopoziomowe"
      ],
      "metadata": {
        "id": "5wgxM450x59J"
      }
    },
    {
      "cell_type": "markdown",
      "source": [
        "Dziedziczenie wielopoziomowe w Pythonie odnosi się do sytuacji, w której klasa dziedziczy zarówno z klasy bazowej, jak i z klasy pochodnej. Oznacza to, że jedna klasa może dziedziczyć zachowanie i właściwości zarówno z klasy nadrzędnej, jak i z klasy, która sama dziedziczy z innej klasy. W rezultacie hierarchia dziedziczenia tworzy strukturę drzewiastą, w której klasy są ułożone w kolejne poziomy."
      ],
      "metadata": {
        "id": "K3lTa45ryCwF"
      }
    },
    {
      "cell_type": "code",
      "source": [
        "# Przykłąd dziedziczenia wielopoziomowego\n",
        "class SuperClass:\n",
        "\n",
        "    def super_method(self):\n",
        "        print(\"Super Class method called\")\n",
        "\n",
        "# definijemy klasę dziedziczącą po SuperClass\n",
        "class DerivedClass1(SuperClass):\n",
        "    def derived1_method(self):\n",
        "        print(\"Derived class 1 method called\")\n",
        "\n",
        "# definijemy klasę dziedziczącą po DerivedClass1\n",
        "class DerivedClass2(DerivedClass1):\n",
        "\n",
        "    def derived2_method(self):\n",
        "        print(\"Derived class 2 method called\")\n",
        "\n",
        "# tworzymy obiekt klasy DerivedClass2\n",
        "d2 = DerivedClass2()\n",
        "\n",
        "d2.super_method()  # Output: \"Super Class method called\"\n",
        "\n",
        "d2.derived1_method()  # Output: \"Derived class 1 method called\"\n",
        "\n",
        "d2.derived2_method()  # Output: \"Derived class 2 method called\""
      ],
      "metadata": {
        "colab": {
          "base_uri": "https://localhost:8080/"
        },
        "id": "GciueTg7zZKK",
        "outputId": "65fe00da-e9eb-44af-b647-c382e12041c5"
      },
      "execution_count": null,
      "outputs": [
        {
          "output_type": "stream",
          "name": "stdout",
          "text": [
            "Super Class method called\n",
            "Derived class 1 method called\n",
            "Derived class 2 method called\n"
          ]
        }
      ]
    },
    {
      "cell_type": "markdown",
      "source": [
        "![obraz.png](data:image/png;base64,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)"
      ],
      "metadata": {
        "id": "bTKlVnMUzJ2U"
      }
    },
    {
      "cell_type": "markdown",
      "source": [
        "**Zalety dziedziczenia wielopoziomowego:**\n",
        "\n",
        "* **Modularyzacja kodu:** Pozwala na logiczne grupowanie funkcjonalności i właściwości związanych tematycznie ze sobą.\n",
        "\n",
        "* **Hierarchia zachowań:** Tworzy strukturę, w której klasy są ułożone w hierarchię, od bardziej ogólnych do bardziej szczegółowych, co ułatwia zarządzanie i zrozumienie kodu.\n",
        "\n",
        "* **Ponowne wykorzystanie kodu:** Kod zdefiniowany w klasach nadrzędnych jest automatycznie dziedziczony przez klasy pochodne, co pozwala na ponowne wykorzystanie kodu bez konieczności jego duplikacji.\n",
        "\n",
        "* **Elastyczność:** Dzięki dziedziczeniu wielopoziomowemu można łatwo dodawać nowe klasy pośrednie, rozszerzając hierarchię dziedziczenia i dostosowując zachowanie klas."
      ],
      "metadata": {
        "id": "-G51pzlbz5-l"
      }
    },
    {
      "cell_type": "markdown",
      "source": [
        "**Przykład:** klasy geometrii są zorganizowane w hierarchię dziedziczenia, gdzie klasy pochodne (np. Prostokat, Kolo, Kwadrat) dziedziczą i rozszerzają zachowanie klasy bazowej Figura, co pozwala na bardziej elastyczne i czytelne modelowanie różnych rodzajów kształtów geometrycznych."
      ],
      "metadata": {
        "id": "NjJHecJE1lAB"
      }
    },
    {
      "cell_type": "code",
      "source": [
        "import math\n",
        "\n",
        "class Figura:\n",
        "    def oblicz_powierzchnie(self):\n",
        "        pass\n",
        "\n",
        "    def oblicz_obwod(self):\n",
        "        pass\n",
        "\n",
        "class Prostokat(Figura):\n",
        "    def __init__(self, dlugosc, szerokosc):\n",
        "        self.dlugosc = dlugosc\n",
        "        self.szerokosc = szerokosc\n",
        "\n",
        "    def oblicz_powierzchnie(self):\n",
        "        return self.dlugosc * self.szerokosc\n",
        "\n",
        "    def oblicz_obwod(self):\n",
        "        return 2 * (self.dlugosc + self.szerokosc)\n",
        "\n",
        "class Kolo(Figura):\n",
        "    def __init__(self, promien):\n",
        "        self.promien = promien\n",
        "\n",
        "    def oblicz_powierzchnie(self):\n",
        "        return math.pi * self.promien ** 2\n",
        "\n",
        "    def oblicz_obwod(self):\n",
        "        return 2 * math.pi * self.promien\n",
        "\n",
        "class Kwadrat(Prostokat):\n",
        "    def __init__(self, bok):\n",
        "        super().__init__(bok, bok)\n",
        "\n",
        "# Tworzenie obiektów\n",
        "prostokat = Prostokat(5, 10)\n",
        "kolo = Kolo(3)\n",
        "kwadrat = Kwadrat(4)\n",
        "\n",
        "# Wywoływanie metod\n",
        "print(\"Prostokąt:\")\n",
        "print(\"Powierzchnia:\", prostokat.oblicz_powierzchnie())  # Output: 50\n",
        "print(\"Obwód:\", prostokat.oblicz_obwod())               # Output: 30\n",
        "\n",
        "print(\"\\nKoło:\")\n",
        "print(\"Powierzchnia:\", kolo.oblicz_powierzchnie())      # Output: ok. 28.27 (dla pi=3.14)\n",
        "print(\"Obwód:\", kolo.oblicz_obwod())                    # Output: ok. 18.85 (dla pi=3.14)\n",
        "\n",
        "print(\"\\nKwadrat:\")\n",
        "print(\"Powierzchnia:\", kwadrat.oblicz_powierzchnie())   # Output: 16\n",
        "print(\"Obwód:\", kwadrat.oblicz_obwod())                 # Output: 16\n"
      ],
      "metadata": {
        "colab": {
          "base_uri": "https://localhost:8080/"
        },
        "id": "rH6OqDxk1nm7",
        "outputId": "f4b58679-8311-41d1-c90d-5e14d1fc26c3"
      },
      "execution_count": null,
      "outputs": [
        {
          "output_type": "stream",
          "name": "stdout",
          "text": [
            "Prostokąt:\n",
            "Powierzchnia: 50\n",
            "Obwód: 30\n",
            "\n",
            "Koło:\n",
            "Powierzchnia: 28.274333882308138\n",
            "Obwód: 18.84955592153876\n",
            "\n",
            "Kwadrat:\n",
            "Powierzchnia: 16\n",
            "Obwód: 16\n"
          ]
        }
      ]
    },
    {
      "cell_type": "markdown",
      "source": [
        "## 1.6. Zadania"
      ],
      "metadata": {
        "id": "3Nkf4Z-5Wwih"
      }
    },
    {
      "cell_type": "markdown",
      "source": [
        "**Zadanie 1.1**\n",
        "\n",
        "Zaprojektuj prosty system do zarządzania flotą pojazdów dla dużej firmy logistycznej, wykorzystując dziedziczenie w Pythonie. System powinien pozwalać na reprezentowanie różnych typów pojazdów, takich jak samochody osobowe, ciężarówki i motocykle.\n",
        "\n",
        "1. Stwórz klasę bazową `Vehicle`:\n",
        "* Klasa `Vehicle` powinna zawierać wspólne cechy wszystkich pojazdów:\n",
        "** Atrybuty: `make` (marka), `model` (model), i `year` (rok produkcji).\n",
        "** Metoda `describe_vehicle()`: która wydrukuje podstawowe informacje o pojeździe.\n",
        "\n",
        "2. Stwórz klasy pochodne `Car`, `Truck`, i `Motorcycle`:\n",
        "* Klasa `Car` powinna mieć dodatkowe cechy:\n",
        "** Atrybuty: `doors` (liczba drzwi) i `passengers` (maksymalna liczba pasażerów).\n",
        "** Metoda `describe_vehicl`e(): która powinna wykorzystać `describe_vehicle`() z klasy bazowej i dodać informacje o liczbie drzwi i pasażerach.\n",
        "* Klasa `Truck` powinna mieć dodatkowe cechy:\n",
        "** Atrybuty: `cargo_capacity` (ładowność w tonach).\n",
        "** Metoda `describe_vehicle()`: która powinna wykorzystać `describe_vehicle()` z klasy bazowej i dodać informację o ładowności.\n",
        "* Klasa Motorcycle powinna mieć dodatkowe cechy:\n",
        "** Atrybuty: `has_sidecar` (informacja, czy motocykl posiada przyczepkę boczną, wartość `boolean`).\n",
        "** Metoda `describe_vehicle()`: która powinna wykorzystać `describe_vehicle()` z klasy bazowej i dodać informację, czy motocykl posiada przyczepkę boczną.\n",
        "\n",
        "**Testy:**\n",
        "\n",
        "Utwórz obiekty dla każdego typu pojazdu z odpowiednimi szczegółami. Wywołaj metodę `describe_vehicle()` dla każdego obiektu, aby wyświetlić szczegóły pojazdu."
      ],
      "metadata": {
        "id": "2fc-OFgaW9Zy"
      }
    },
    {
      "cell_type": "markdown",
      "source": [
        "# 2.Hermetyzacja (enkapsulacja)"
      ],
      "metadata": {
        "id": "NSSdxmYZir8Y"
      }
    },
    {
      "cell_type": "markdown",
      "source": [
        "Hermetyzacja (enkapsulacja) to mechanizm programowania obiektowego, który łączy dane (atrybuty) i metody operujące na tych danych w jedną strukturę – klasę, jednocześnie ograniczając dostęp do niektórych komponentów klasy od zewnętrznego świata.\n",
        "\n",
        "Hermetyzacja pomaga w utrzymaniu kodu, który jest bezpieczny (chroni dane przed nieautoryzowanym dostępem), łatwiejszy do testowania, a także mniej podatny na błędy spowodowane niezamierzoną interakcją z wewnętrznymi stanami obiektów.\n",
        "\n",
        "Python obsługuje hermetyzację, dziedziczenie i polimorfizm. Jednym ze sposobów, w jaki Python implementuje hermetyzację, jest użycie modyfikatorów dostępu dla atrybutów i metod klas.\n",
        "\n",
        "Prywatne i chronione pola w programowaniu obiektowym są ważnymi koncepcjami, które pomagają zapewnić hermetyzację i utrzymać integralność klasy. Hermetyzacja to koncepcja ukrywania wewnętrznych szczegółów obiektu i udostępniania światu zewnętrznemu tylko niezbędnych informacji. Dzięki temu klasa może być używana w przewidywalny i spójny sposób, nawet jeśli jej implementacja ulegnie zmianie. Korzystając z pól prywatnych i chronionych, programiści mogą kontrolować widoczność i dostępność atrybutów i metod klasy, zapobiegając przypadkowemu lub celowemu niewłaściwemu użyciu.\n",
        "\n",
        "*Jednym z przykładów, w których ukrywanie wewnętrznych szczegółów może być przydatne, jest tworzenie klasy reprezentującej złożoną funkcję matematyczną. Rozważmy na przykład klasę reprezentującą funkcję wielomianową. Klasa mogłaby mieć prywatne pola dla współczynników wielomianu i publiczne metody do obliczania funkcji w określonym punkcie, znajdowania pochodnej lub wykreślania funkcji. Ukrywając wewnętrzną reprezentację wielomianu jako pola prywatne, użytkownik klasy musi tylko wiedzieć, jak wywołać metody publiczne i nie musi znać szczegółów dotyczących sposobu przechowywania wielomianu i manipulowania nim wewnętrznie. Sprawia to, że klasa jest łatwiejsza w użyciu i mniej podatna na błędy, ponieważ użytkownik nie może przypadkowo zmodyfikować wewnętrznej reprezentacji wielomianu w sposób, który spowodowałby nieoczekiwane wyniki.*\n",
        "\n",
        "**Zakrywanie danych**\n",
        "\n",
        "W Pythonie hermetyzację realizuje się przez ograniczenie dostępu do zmiennych i metod klasy. Chociaż Python nie obsługuje hermetyzacji w sposób ścisły (jak np. Java czy C++ przez modyfikatory dostępu takie jak `private`), konwencjonalnie przedrostek z podwójnym podkreśleniem `__` (np. `__nazwa_atrybutu`) oznacza, że element jest traktowany jako prywatny. **Taki atrybut nie jest dostępny bezpośrednio z zewnątrz klasy, co jest realizowane przez tzw. name mangling, gdzie interpreter zmienia nazwę atrybutu na `_NazwaKlasy__nazwa_atrybutu`**.\n",
        "\n",
        "**Metody dostępowe**\n",
        "\n",
        "Dostęp do prywatnych atrybutów jest zwykle realizowany przez publiczne metody, które nazywamy `getterami` i `setterami`. **Pozwalają one na kontrolowane odczytywanie i modyfikację wartości tych atrybutów.** Jest to szczególnie użyteczne, gdy chcemy zaimplementować dodatkową logikę walidacyjną przy zmianie wartości atrybutu.\n",
        "\n",
        "Przykładowo, klasa przechowująca informacje o użytkowniku może mieć **prywatne atrybuty** takie jak `hasło`. Aby uzyskać dostęp do tego hasła, można użyć metody `get_password()`, która może implementować dodatkowe mechanizmy bezpieczeństwa (np. logowanie prób dostępu)."
      ],
      "metadata": {
        "id": "1gUnI5h_t6Qw"
      }
    },
    {
      "cell_type": "markdown",
      "source": [
        "## 2.1.Atrybuty prywatne"
      ],
      "metadata": {
        "id": "STRjxCy9vGpm"
      }
    },
    {
      "cell_type": "markdown",
      "source": [
        "W Pythonie atrybuty prywatne są oznaczane prefiksem z podwójnym podkreśleniem przed nazwą atrybutu (np. `__private_attribute`). Ideą atrybutów prywatnych jest to, że mogą być one dostępne tylko wewnątrz klasy i nie powinny być dostępne spoza klasy (także w klasach pochodnych). **Należy jednak pamiętać, że składnia z podwójnym podkreśleniem jest tylko konwencją, a nie ścisłą regułą.**\n",
        "\n",
        "Gdy atrybut z prefiksem podwójnego podkreślenia jest przywoływany spoza klasy, nazwa atrybutu jest automatycznie zmieniana, aby zapobiec przypadkowemu dostępowi. Zmieniona nazwa jest tworzona przez dodanie prefiksu `\"_ClassName\"` do oryginalnej nazwy (np. `_ClassName__private_attribute`):"
      ],
      "metadata": {
        "id": "j2YHkk8awoTF"
      }
    },
    {
      "cell_type": "markdown",
      "source": [
        "**Przykład**"
      ],
      "metadata": {
        "id": "j-ZblW8ZxCLb"
      }
    },
    {
      "cell_type": "code",
      "source": [
        "class Person:\n",
        "    def __init__(self, name, age):\n",
        "        self.__private_attribute = 'This is a private attribute.'\n",
        "        self.name = name\n",
        "        self.age = age\n",
        "\n",
        "person = Person('John Doe', 30)\n",
        "#próba uzyskania dostępu do prywatnego atrybutu spoza klasy skutkuje wyświetleniem błędu AttributeError.\n",
        "print(person.__private_attribute)"
      ],
      "metadata": {
        "colab": {
          "base_uri": "https://localhost:8080/",
          "height": 176
        },
        "id": "O3388Ujow8ua",
        "outputId": "137c5fa3-5fd6-475f-b0c7-35e04aff7bef"
      },
      "execution_count": null,
      "outputs": [
        {
          "output_type": "error",
          "ename": "AttributeError",
          "evalue": "'Person' object has no attribute '__private_attribute'",
          "traceback": [
            "\u001b[0;31m---------------------------------------------------------------------------\u001b[0m",
            "\u001b[0;31mAttributeError\u001b[0m                            Traceback (most recent call last)",
            "\u001b[0;32m<ipython-input-6-7df8f1306a79>\u001b[0m in \u001b[0;36m<cell line: 9>\u001b[0;34m()\u001b[0m\n\u001b[1;32m      7\u001b[0m \u001b[0mperson\u001b[0m \u001b[0;34m=\u001b[0m \u001b[0mPerson\u001b[0m\u001b[0;34m(\u001b[0m\u001b[0;34m'John Doe'\u001b[0m\u001b[0;34m,\u001b[0m \u001b[0;36m30\u001b[0m\u001b[0;34m)\u001b[0m\u001b[0;34m\u001b[0m\u001b[0;34m\u001b[0m\u001b[0m\n\u001b[1;32m      8\u001b[0m \u001b[0;31m#próba uzyskania dostępu do prywatnego atrybutu spoza klasy skutkuje wyświetleniem błędu AttributeError.\u001b[0m\u001b[0;34m\u001b[0m\u001b[0;34m\u001b[0m\u001b[0m\n\u001b[0;32m----> 9\u001b[0;31m \u001b[0mprint\u001b[0m\u001b[0;34m(\u001b[0m\u001b[0mperson\u001b[0m\u001b[0;34m.\u001b[0m\u001b[0m__private_attribute\u001b[0m\u001b[0;34m)\u001b[0m\u001b[0;34m\u001b[0m\u001b[0;34m\u001b[0m\u001b[0m\n\u001b[0m",
            "\u001b[0;31mAttributeError\u001b[0m: 'Person' object has no attribute '__private_attribute'"
          ]
        }
      ]
    },
    {
      "cell_type": "markdown",
      "source": [
        "Jednym ze sposobów uzyskania do niego dostępu, jeśli jest to konieczne, jest utworzenie metody (funkcji klasy, `getter`), która zwracałaby wartość `__private_attribute`:"
      ],
      "metadata": {
        "id": "b1VESSiExWk0"
      }
    },
    {
      "cell_type": "code",
      "source": [
        "class Person:\n",
        "    def __init__(self, name, age):\n",
        "        self.__private_attribute = age\n",
        "        self.name = name\n",
        "\n",
        "    def get_private_attribute(self):\n",
        "        return self.__private_attribute\n",
        "\n",
        "person = Person('John Doe', 30)\n",
        "print(person.get_private_attribute())  # 30\n"
      ],
      "metadata": {
        "colab": {
          "base_uri": "https://localhost:8080/"
        },
        "id": "7_pujFFPxgJ3",
        "outputId": "23836ee2-de8d-4a7c-82a4-540b5331cf17"
      },
      "execution_count": null,
      "outputs": [
        {
          "output_type": "stream",
          "name": "stdout",
          "text": [
            "30\n"
          ]
        }
      ]
    },
    {
      "cell_type": "markdown",
      "source": [
        "W tym przykładzie klasa Person ma prywatny atrybut `__private_attribute`, który przechowuje wiek osoby. Klasa posiada publiczną metodę `get_private_attribute', która zwraca wartość atrybutu prywatnego. Podczas próby uzyskania dostępu do atrybutu prywatnego bezpośrednio spoza klasy, zgłaszany jest błąd AttributeError, wskazujący, że atrybut nie jest dostępny. Chroni to atrybut prywatny przed przypadkową lub celową modyfikacją spoza klasy, zachowując integralność klasy."
      ],
      "metadata": {
        "id": "dcIs2vqOxyqC"
      }
    },
    {
      "cell_type": "markdown",
      "source": [
        "## 2.2.Atrybuty chronione"
      ],
      "metadata": {
        "id": "0DLhk17HwXun"
      }
    },
    {
      "cell_type": "markdown",
      "source": [
        "Atrybuty chronione w Pythonie są oznaczane pojedynczym prefiksem podkreślenia przed nazwą atrybutu (np. `_protected_attribute`). Idea stojąca za atrybutami chronionymi jest podobna do atrybutów prywatnych, ponieważ nie powinny one być dostępne bezpośrednio spoza klasy. **Jednak w przeciwieństwie do atrybutów prywatnych, atrybuty chronione mogą być dostępne z poziomu klas pochodnych.**"
      ],
      "metadata": {
        "id": "jY8t-eOdx7lm"
      }
    },
    {
      "cell_type": "markdown",
      "source": [
        "**Przykład**\n",
        "\n",
        "W tym przykładzie klasa `Employee` dziedziczy po klasie `Perso`n i może uzyskać dostęp do chronionego atrybutu za pomocą metody `display_protected_attribute`. Należy zauważyć, że `employee._protected_attribute` faktycznie drukuje przechowywaną w nim wartość. Mimo to Python wyświetli ostrzeżenie, że używany jest chroniony atrybut."
      ],
      "metadata": {
        "id": "lXmE5Uv_yT7G"
      }
    },
    {
      "cell_type": "code",
      "source": [
        "class Person:\n",
        "    def __init__(self, name, age):\n",
        "        self._protected_attribute = 'This is a protected attribute. Class Person'\n",
        "        self.name = name\n",
        "        self.age = age\n",
        "\n",
        "\n",
        "class Employee(Person):\n",
        "    def display_protected_attribute(self):\n",
        "        print(self._protected_attribute)\n",
        "\n",
        "\n",
        "employee = Employee('Jane Doe', 25)\n",
        "employee.display_protected_attribute()  # This is a protected attribute.\n",
        "print(employee._protected_attribute)    # This is a protected attribute."
      ],
      "metadata": {
        "colab": {
          "base_uri": "https://localhost:8080/"
        },
        "id": "GEAsHQwNyVpI",
        "outputId": "9e20d144-fa49-4165-db83-59fec85b57e9"
      },
      "execution_count": null,
      "outputs": [
        {
          "output_type": "stream",
          "name": "stdout",
          "text": [
            "This is a protected attribute. Class Person\n",
            "This is a protected attribute. Class Person\n"
          ]
        }
      ]
    },
    {
      "cell_type": "markdown",
      "source": [
        "## 2.3.Metody prywatne"
      ],
      "metadata": {
        "id": "V-B8k_Ilwe0d"
      }
    },
    {
      "cell_type": "markdown",
      "source": [
        "Podobnie jak atrybuty prywatne, metody prywatne w Pythonie są oznaczone prefiksem z podwójnym podkreśleniem przed nazwą metody (np. `__private_method`). Metody prywatne są przeznaczone do użycia tylko wewnątrz klasy i nie powinny być dostępne spoza klasy."
      ],
      "metadata": {
        "id": "n4IX09zEy6nF"
      }
    },
    {
      "cell_type": "markdown",
      "source": [
        "**Przykład**\n",
        "\n",
        "Podobnie jak w przypadku atrybutów prywatnych, próba uzyskania dostępu do metod prywatnych spoza klasy skutkuje wyświetleniem błędu `AttributeError`."
      ],
      "metadata": {
        "id": "s62Jg7hNzen_"
      }
    },
    {
      "cell_type": "code",
      "source": [
        "class Person:\n",
        "    def __init__(self, name, age):\n",
        "        self.name = name\n",
        "        self.age = age\n",
        "\n",
        "    def __private_method(self):\n",
        "        print('This is a private method.')\n",
        "\n",
        "person = Person('John Doe', 30)\n",
        "#próba uzyskania dostępu do metody prywatej spoza klasy skutkuje wyświetleniem błędu AttributeError.\n",
        "person.__private_method()        # AttributeError: 'Person' object has no attribute '__private_method'"
      ],
      "metadata": {
        "colab": {
          "base_uri": "https://localhost:8080/",
          "height": 176
        },
        "id": "a1aGXMN1zKfL",
        "outputId": "21ff30e5-f897-48ac-fce5-d201d7be6eed"
      },
      "execution_count": null,
      "outputs": [
        {
          "output_type": "error",
          "ename": "AttributeError",
          "evalue": "'Person' object has no attribute '__private_method'",
          "traceback": [
            "\u001b[0;31m---------------------------------------------------------------------------\u001b[0m",
            "\u001b[0;31mAttributeError\u001b[0m                            Traceback (most recent call last)",
            "\u001b[0;32m<ipython-input-7-c17c4171b35d>\u001b[0m in \u001b[0;36m<cell line: 11>\u001b[0;34m()\u001b[0m\n\u001b[1;32m      9\u001b[0m \u001b[0mperson\u001b[0m \u001b[0;34m=\u001b[0m \u001b[0mPerson\u001b[0m\u001b[0;34m(\u001b[0m\u001b[0;34m'John Doe'\u001b[0m\u001b[0;34m,\u001b[0m \u001b[0;36m30\u001b[0m\u001b[0;34m)\u001b[0m\u001b[0;34m\u001b[0m\u001b[0;34m\u001b[0m\u001b[0m\n\u001b[1;32m     10\u001b[0m \u001b[0;31m#próba uzyskania dostępu do metody prywatej spoza klasy skutkuje wyświetleniem błędu AttributeError.\u001b[0m\u001b[0;34m\u001b[0m\u001b[0;34m\u001b[0m\u001b[0m\n\u001b[0;32m---> 11\u001b[0;31m \u001b[0mperson\u001b[0m\u001b[0;34m.\u001b[0m\u001b[0m__private_method\u001b[0m\u001b[0;34m(\u001b[0m\u001b[0;34m)\u001b[0m        \u001b[0;31m# AttributeError: 'Person' object has no attribute '__private_method'\u001b[0m\u001b[0;34m\u001b[0m\u001b[0;34m\u001b[0m\u001b[0m\n\u001b[0m",
            "\u001b[0;31mAttributeError\u001b[0m: 'Person' object has no attribute '__private_method'"
          ]
        }
      ]
    },
    {
      "cell_type": "markdown",
      "source": [
        "## 2.4.Metody chronione"
      ],
      "metadata": {
        "id": "c8gW6niqwkcI"
      }
    },
    {
      "cell_type": "markdown",
      "source": [
        "Metody chronione w Pythonie są oznaczane pojedynczym prefiksem podkreślenia przed nazwą metody (np. `_protected_metho`d). Metody chronione są przeznaczone do użycia w obrębie klasy i klasach pochodnych, ale nie poza nimi."
      ],
      "metadata": {
        "id": "SAY-gDe6zrtV"
      }
    },
    {
      "cell_type": "markdown",
      "source": [
        "**Przykład**"
      ],
      "metadata": {
        "id": "kRf21dVzz43f"
      }
    },
    {
      "cell_type": "code",
      "source": [
        "class Person:\n",
        "    def __init__(self, name, age):\n",
        "        self.name = name\n",
        "        self.age = age\n",
        "\n",
        "    def _protected_method(self):\n",
        "        print('This is a protected method.')\n",
        "\n",
        "\n",
        "class Employee(Person):\n",
        "    def display_protected_method(self):\n",
        "        self._protected_method()\n",
        "\n",
        "\n",
        "employee = Employee('Jane Doe', 25)\n",
        "employee.display_protected_method()  # This is a protected method.\n",
        "employee._protected_method()         # This is a protected method."
      ],
      "metadata": {
        "id": "hKH3N-UMz6-6",
        "colab": {
          "base_uri": "https://localhost:8080/"
        },
        "outputId": "b416820a-439f-4c34-dbac-ad89a2a4b92c"
      },
      "execution_count": null,
      "outputs": [
        {
          "output_type": "stream",
          "name": "stdout",
          "text": [
            "This is a protected method.\n",
            "This is a protected method.\n"
          ]
        }
      ]
    },
    {
      "cell_type": "markdown",
      "source": [
        "W tym przykładzie klasa `Employee` dziedziczy po klasie `Person` i jest w stanie uzyskać dostęp do chronionej metody poprzez metodę display_protected_method. Podobnie jak w przypadku chronionych atrybutów, nadal można uzyskać dostęp do chronionych metod, ale Python wyświetli ostrzeżenie, że używany jest chroniony atrybut."
      ],
      "metadata": {
        "id": "cYSRIbgO0ILT"
      }
    },
    {
      "cell_type": "markdown",
      "source": [
        "## 2.5.Zadania"
      ],
      "metadata": {
        "id": "ZOApCSeY1XIG"
      }
    },
    {
      "cell_type": "markdown",
      "source": [
        "**Zadanie 2.1.**\n",
        "\n",
        "Napisz klasę `Computer`, która zilustruje podstawy enkapsulacji w języku Python. Klasa powinna posiadać prywatny atrybut `__maxprice`, który określa maksymalną cenę komputera. Klasa powinna również zawierać:\n",
        "\n",
        "* Konstruktor (`__init__`), który inicjalizuje cenę maksymalną na 900.\n",
        "* Metodę `sell`, która wyświetla aktualną cenę maksymalną.\n",
        "* Metodę `setMaxPrice`, która pozwala zmienić wartość `__maxprice`.\n",
        "\n",
        "**Testowanie**:\n",
        "\n",
        "* Utwórz obiekt klasy `Computer` i wywołaj metodę `sell`, aby wyświetlić cenę.\n",
        "* Spróbuj bezpośrednio zmodyfikować wartość `__maxprice` z zewnątrz klasy i wywołaj ponownie metodę `sell`, aby sprawdzić, czy zmiana zadziałała.\n",
        "* Zmodyfikuj cenę za pomocą metody `setMaxPrice` i ponownie użyj metody `sell`, aby zobaczyć efekt."
      ],
      "metadata": {
        "id": "ZaZxTL4L1Z_z"
      }
    },
    {
      "cell_type": "markdown",
      "source": [
        "**Zadanie 2.2.**\n",
        "\n",
        "Napisz klasę `Circle`, która pozwoli na obliczanie i zarządzanie wartościami opisującymi geometrię koła. Klasa powinna mieć:\n",
        "\n",
        "* Prywatny atrybut (`__radius`), który przechowuje promień koła. Promień powinien być zainicjalizowany przez konstruktor klasy.\n",
        "* Metodę `get_radius` - getter, który pozwala odczytać wartość promienia.\n",
        "* Metodę `set_radius` - setter, który pozwala ustawić nową wartość promienia, ale tylko jeśli jest ona nieujemna. W przypadku próby ustawienia wartości ujemnej, metoda powinna wyświetlić komunikat o błędzie.\n",
        "* Metodę `area`, która oblicza i zwraca pole powierzchni koła (przyjąć przybliżenie 3.14i lub `math.pi`).\n",
        "\n",
        "**Testowanie:**\n",
        "\n",
        "* Utwórz obiekt klasy `Circle` z początkowym promieniem 5.\n",
        "* Wywołaj metodę `area` dla tego obiektu i wydrukuj wynik.\n",
        "* Spróbuj bezpośredniego dostępu do prywatnego atrybutu `__radius` i zobacz, jakie to spowoduje konsekwencje.\n",
        "* Wykorzystaj `getter` do wydrukowania aktualnej wartości promienia.\n",
        "* Spróbuj ustawić wartość promienia na ujemną za pomocą `settera` i obserwuj odpowiedź metody."
      ],
      "metadata": {
        "id": "Pv41cT7J17_N"
      }
    },
    {
      "cell_type": "markdown",
      "source": [
        "# 3.Przeciążanie operatorów"
      ],
      "metadata": {
        "id": "u3qW3sTqAcg1"
      }
    },
    {
      "cell_type": "markdown",
      "source": [
        "W Pythonie możemy zmienić sposób działania operatorów dla typów zdefiniowanych przez użytkownika. Na przykład operator `+` wykona dodawanie arytmetyczne na dwóch liczbach, scali dwie listy lub połączy dwa łańcuchy. **Funkcjonalność w Pythonie, która pozwala temu samemu operatorowi mieć różne znaczenie w zależności od kontekstu, nazywana jest przeciążaniem operatora.**"
      ],
      "metadata": {
        "id": "jVpSaCMpAgr7"
      }
    },
    {
      "cell_type": "markdown",
      "source": [
        "## 3.1. Funkcje specjalne"
      ],
      "metadata": {
        "id": "FwNwAgpJAt-9"
      }
    },
    {
      "cell_type": "markdown",
      "source": [
        "Funkcje klasy zaczynające się od podwójnego podkreślenia nazywane są w Pythonie funkcjami specjalnymi lub magicznymi. Funkcje specjalne są definiowane przez interpreter Pythona i używane do implementacji określonych funkcji lub zachowań. Nazywa się je funkcjami „podwójnego podkreślenia” (dunder, ang. *double underscore*), ponieważ mają podwójny przedrostek i sufiks podkreślenia, na przykład `__init()__` lub `__add()__`.\n",
        "\n",
        "Niektóre ze specjalnych funkcji dostępnych w Pythonie:\n",
        "\n",
        "* `__init__()` - inicjalizacja atrybutów obiektu\n",
        "* `__str__() ` - zwraca tekstową reprezentację obiektu\n",
        "* `__len__()` - zwraca długość obiektu\n",
        "* `__add__()` - dodaje dwa obiekty\n",
        "* `__call__()` - wywołuje obiekt jak funkcję"
      ],
      "metadata": {
        "id": "osDpAeJ2Ayb2"
      }
    },
    {
      "cell_type": "markdown",
      "source": [
        "## 3.2. Operatory\n",
        "\n",
        "W Pythonie istnieje kilka operatorów, które są powiązane ze specjalnymi funkcjami lub metodami, które definiują ich zachowanie. Te specjalne funkcje lub metody są wywoływane, gdy operator jest używany z obiektami określonej klasy. Jest to znane jako przeciążanie operatorów i pozwala zdefiniować niestandardowe zachowanie operatorów, gdy są one używane z obiektami własnych klas.\n",
        "\n",
        "Oto kilka popularnych operatorów w Pythonie i powiązane z nimi specjalne funkcje lub metody:\n",
        "\n",
        "1 **Operatory arytmetyczne**\n",
        "\n",
        "* `+` (addition): `__add__`\n",
        "* `-` (subtraction): `__sub__`\n",
        "* `*` (multiplication): `__mul__`\n",
        "* `/` (division): `__truediv__`\n",
        "* `//` (floor division): `__floordiv__`\n",
        "* `%` (modulus): `__mod__`\n",
        "* `**` (exponentiation): __pow__\n",
        "\n",
        "2 **Operatory bitowe**\n",
        "\n",
        "* `&` (bitwise AND): `__and__`\n",
        "* `|` (bitwise OR): `__or__`\n",
        "* `^` (bitwise XOR): `__xor__`\n",
        "* `~` (bitwise NOT): `__invert__`\n",
        "* `<<` (left shift): `__lshift__`\n",
        "* `>>` (right shift): `__rshift__`\n",
        "\n",
        "3 **Operatory porówania**\n",
        "\n",
        "* `<` (less than): `__lt__`\n",
        "* `>` (greater than): `__gt__`\n",
        "* `<=` (less than or equal to):` __le__`\n",
        "* `>=` (greater than or equal to): `__ge__`\n",
        "* `==` (equal to): `__eq__`\n",
        "* `!=` (not equal to): __ne__"
      ],
      "metadata": {
        "id": "vB13x3_zB1-k"
      }
    },
    {
      "cell_type": "markdown",
      "source": [
        "4 **Operatory jednoargumentowe**\n",
        "\n",
        "* `+` (unary plus): `__pos__`\n",
        "* `-` (unary minus): `__neg__`\n",
        "\n",
        "\n",
        "5 **Rozszerzone operatory przypisania**\n",
        "\n",
        "* `+=`: `__iadd__`\n",
        "* `-=`: `__isub__`\n",
        "* `*=`: `__imul__`\n",
        "* `/=`: `__itruediv__`\n",
        "* `//=`: `__ifloordiv_`_\n",
        "* `%=`: `__imod__`\n",
        "* `**=`: `__ipow__`\n",
        "\n",
        "\n",
        "6 **Funkcje konwersji**\n",
        "\n",
        "* `len()`: `__len__`\n",
        "* `str()`: `__str__`\n",
        "* `repr()`: `__repr__`\n",
        "\n",
        "\n",
        "7 **Operatory kolekcyjne**\n",
        "\n",
        "* `in`: `__contains__`\n",
        "* `not in`: `__contains__` (inverted)\n",
        "\n",
        "Te specjalne funkcje lub metody są zdefiniowane w klasie, a gdy użyjesz odpowiedniego operatora z obiektami tej klasy, Python automatycznie wywoła odpowiednią specjalną funkcję lub metodę, aby wykonać żądaną operację. Na przykład, jeśli zdefiniujesz klasę Vector i przeciążysz operator + definiując metodę add, możesz dodać dwa obiekty Vector używając funkcji"
      ],
      "metadata": {
        "id": "bEdGzj20EzSE"
      }
    },
    {
      "cell_type": "markdown",
      "source": [
        "## 3.3. Zadania"
      ],
      "metadata": {
        "id": "ZidkmyS6GKME"
      }
    },
    {
      "cell_type": "markdown",
      "source": [
        "**Zadanie 4.1**\n",
        "\n",
        "Napisz klasę `Complex`, która będzie reprezentować liczby zespolone. Klasa powinna mieć:\n",
        "\n",
        "* Atrybuty `real` i `imaginary`, które będą przechowywać część rzeczywistą i urojoną liczby zespolonej.\n",
        "* Przeładowane operatory `+` i `*`, które umożliwią dodawanie i mnożenie dwóch liczb zespolonych.\n",
        "* Wyniki dodawania i mnożenia powinny być w postaci liczby zespolonej, gdzie część rzeczywista i urojona są oddzielone znakiem `+`.\n",
        "\n",
        "Przetestuj tak zdefiniowaną klasę."
      ],
      "metadata": {
        "id": "O4s4MSEnGPFK"
      }
    },
    {
      "cell_type": "markdown",
      "source": [
        "**Przykłady testów**"
      ],
      "metadata": {
        "id": "6V6YAxmdHACb"
      }
    },
    {
      "cell_type": "code",
      "source": [
        "z1 = Complex(2, 3)\n",
        "z2 = Complex(-1, 2)\n",
        "\n",
        "# Dodawanie\n",
        "z_sum = z1 + z2\n",
        "print(\"Suma:\", z_sum)  # Output: 1 + 5i\n",
        "\n",
        "# Mnożenie\n",
        "z_mul = z1 * z2\n",
        "print(\"Iloczyn:\", z_mul)  # Output: -8 + i"
      ],
      "metadata": {
        "colab": {
          "base_uri": "https://localhost:8080/",
          "height": 211
        },
        "id": "5aMf0tCuHCS9",
        "outputId": "97afdefc-cf5b-4e87-eeca-5db32b4f4e00"
      },
      "execution_count": null,
      "outputs": [
        {
          "output_type": "error",
          "ename": "NameError",
          "evalue": "name 'Complex' is not defined",
          "traceback": [
            "\u001b[0;31m---------------------------------------------------------------------------\u001b[0m",
            "\u001b[0;31mNameError\u001b[0m                                 Traceback (most recent call last)",
            "\u001b[0;32m<ipython-input-11-44053343d907>\u001b[0m in \u001b[0;36m<cell line: 1>\u001b[0;34m()\u001b[0m\n\u001b[0;32m----> 1\u001b[0;31m \u001b[0mz1\u001b[0m \u001b[0;34m=\u001b[0m \u001b[0mComplex\u001b[0m\u001b[0;34m(\u001b[0m\u001b[0;36m2\u001b[0m\u001b[0;34m,\u001b[0m \u001b[0;36m3\u001b[0m\u001b[0;34m)\u001b[0m\u001b[0;34m\u001b[0m\u001b[0;34m\u001b[0m\u001b[0m\n\u001b[0m\u001b[1;32m      2\u001b[0m \u001b[0mz2\u001b[0m \u001b[0;34m=\u001b[0m \u001b[0mComplex\u001b[0m\u001b[0;34m(\u001b[0m\u001b[0;34m-\u001b[0m\u001b[0;36m1\u001b[0m\u001b[0;34m,\u001b[0m \u001b[0;36m2\u001b[0m\u001b[0;34m)\u001b[0m\u001b[0;34m\u001b[0m\u001b[0;34m\u001b[0m\u001b[0m\n\u001b[1;32m      3\u001b[0m \u001b[0;34m\u001b[0m\u001b[0m\n\u001b[1;32m      4\u001b[0m \u001b[0;31m# Dodawanie\u001b[0m\u001b[0;34m\u001b[0m\u001b[0;34m\u001b[0m\u001b[0m\n\u001b[1;32m      5\u001b[0m \u001b[0mz_sum\u001b[0m \u001b[0;34m=\u001b[0m \u001b[0mz1\u001b[0m \u001b[0;34m+\u001b[0m \u001b[0mz2\u001b[0m\u001b[0;34m\u001b[0m\u001b[0;34m\u001b[0m\u001b[0m\n",
            "\u001b[0;31mNameError\u001b[0m: name 'Complex' is not defined"
          ]
        }
      ]
    },
    {
      "cell_type": "markdown",
      "source": [
        "# 4.Polimorfizm"
      ],
      "metadata": {
        "id": "M6S955mV0dTQ"
      }
    },
    {
      "cell_type": "markdown",
      "source": [
        "Polimorfizm jest koncepcją w programowaniu obiektowym, która pozwala na traktowanie obiektów różnych klas jako obiektów wspólnej nadklasy. W Pythonie polimorfizm jest osiągany poprzez nadpisywanie metod i przeciążanie operatorów.\n",
        "\n",
        "* **Nadpisywanie metod**\n",
        "\n",
        "W Pythonie nadpisywanie metod jest sposobem na zapewnienie konkretnej implementacji metody w klasie pochodnej, która jest już zdefiniowana w jej klasie bazowej. Jest to przykład **polimorfizmu runtime**. Gdy nadpisana metoda jest wywoływana z obiektu, Python określa, która wersja metody ma zostać wykonana w oparciu o rzeczywisty typ obiektu, a nie typ referencyjny."
      ],
      "metadata": {
        "id": "9Bq1xKav1IVs"
      }
    },
    {
      "cell_type": "code",
      "source": [
        "class Animal:\n",
        "    def sound(self):\n",
        "        print(\"The animal makes a sound.\")\n",
        "\n",
        "class Dog(Animal):\n",
        "    def sound(self):\n",
        "        print(\"The dog barks.\")\n",
        "\n",
        "class Cat(Animal):\n",
        "    def sound(self):\n",
        "        print(\"The cat meows.\")\n",
        "\n",
        "dog = Dog()\n",
        "cat = Cat()\n",
        "\n",
        "dog.sound()  # Output: The dog barks.\n",
        "cat.sound()  # Output: The cat meows."
      ],
      "metadata": {
        "id": "N4_9ypGx76Nl"
      },
      "execution_count": null,
      "outputs": []
    },
    {
      "cell_type": "markdown",
      "source": [
        "* **Przeciążanie operatorów**\n",
        "\n",
        "Python pozwala na przeciążanie operatorów dla klas zdefiniowanych przez użytkownika. Osiąga się to poprzez zdefiniowanie specjalnych metod w klasie, które odpowiadają operatorowi, który ma zostać przeciążony. Jest to przykład **polimorfizmu w czasie kompilacji**."
      ],
      "metadata": {
        "id": "X2FiV09S8W1d"
      }
    },
    {
      "cell_type": "markdown",
      "source": [
        "**Przykład**: W tym przykładzie mamy klasę `Vector`, która reprezentuje wektor w dwuwymiarowej przestrzeni za pomocą współrzędnych `x` i `y`. Przeładowane operator metody `__add__` umożliwia dodawanie dwóch wektorów, co pozwala na naturalne zastosowanie operatora dodawania na obiektach klasy `Vector`"
      ],
      "metadata": {
        "id": "otlEoCi5_Hh-"
      }
    },
    {
      "cell_type": "code",
      "source": [
        "class Vector:\n",
        "    def __init__(self, x, y):\n",
        "        self.x = x\n",
        "        self.y = y\n",
        "\n",
        "    def __add__(self, other):\n",
        "        return Vector(self.x + other.x, self.y + other.y)\n",
        "\n",
        "    def __str__(self):\n",
        "        return f\"({self.x}, {self.y})\"\n",
        "\n",
        "v1 = Vector(2, 3)\n",
        "v2 = Vector(4, 5)\n",
        "\n",
        "result = v1 + v2\n",
        "print(result)  # Output: (6, 8)"
      ],
      "metadata": {
        "colab": {
          "base_uri": "https://localhost:8080/"
        },
        "id": "zSnLSI_2_KHm",
        "outputId": "b725777f-52ef-49e8-ce0c-d2a0a786e40c"
      },
      "execution_count": null,
      "outputs": [
        {
          "output_type": "stream",
          "name": "stdout",
          "text": [
            "(6, 8)\n"
          ]
        }
      ]
    },
    {
      "cell_type": "markdown",
      "source": [
        "**Zadanie 4.1**\n",
        "\n",
        "Napisz klasę `Complex`, która będzie reprezentować liczby zespolone. Klasa powinna mieć:\n",
        "\n",
        "* Atrybuty `real` i `imaginary`, które będą przechowywać część rzeczywistą i urojoną liczby zespolonej.\n",
        "* Przeładowane operatory `+` i `*`, które umożliwią dodawanie i mnożenie dwóch liczb zespolonych.\n",
        "\n",
        "Przetestuj tak zdefiniowaną klasę."
      ],
      "metadata": {
        "id": "_3obcbdAGu6K"
      }
    },
    {
      "cell_type": "code",
      "source": [
        "class Complex:\n",
        "    def __init__(self, real, imaginary):\n",
        "        self.real = real\n",
        "        self.imaginary = imaginary\n",
        "\n",
        "    def __str__(self):\n",
        "        return f\"{self.real} + {self.imaginary}i\"\n",
        "\n",
        "    def __add__(self, other):\n",
        "        real_part = self.real + other.real\n",
        "        imaginary_part = self.imaginary + other.imaginary\n",
        "        return Complex(real_part, imaginary_part)\n",
        "\n",
        "    def __mul__(self, other):\n",
        "        real_part = self.real * other.real - self.imaginary * other.imaginary\n",
        "        imaginary_part = self.real * other.imaginary + self.imaginary * other.real\n",
        "        return Complex(real_part, imaginary_part)\n",
        "\n",
        "z1 = Complex(2, 3)\n",
        "z2 = Complex(-1, 2)\n",
        "\n",
        "# Dodawanie\n",
        "z_sum = z1 + z2\n",
        "print(\"Suma:\", z_sum)  # Output: 1 + 5i\n",
        "\n",
        "# Mnożenie\n",
        "z_mul = z1 * z2\n",
        "print(\"Iloczyn:\", z_mul)  # Output: -8 + i"
      ],
      "metadata": {
        "colab": {
          "base_uri": "https://localhost:8080/"
        },
        "id": "RPcCsyCXGOPS",
        "outputId": "4c7eac80-b7fe-43f3-c6c1-5690082ff0f2"
      },
      "execution_count": null,
      "outputs": [
        {
          "output_type": "stream",
          "name": "stdout",
          "text": [
            "Suma: 1 + 5i\n",
            "Iloczyn: -8 + 1i\n"
          ]
        }
      ]
    }
  ]
}